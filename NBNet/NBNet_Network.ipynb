{
  "nbformat": 4,
  "nbformat_minor": 0,
  "metadata": {
    "colab": {
      "name": "NBNet.ipynb",
      "provenance": []
    },
    "kernelspec": {
      "name": "python3",
      "display_name": "Python 3"
    },
    "language_info": {
      "name": "python"
    },
    "accelerator": "GPU"
  },
  "cells": [
    {
      "cell_type": "code",
      "execution_count": null,
      "metadata": {
        "id": "69TmzZhjZqZw"
      },
      "outputs": [],
      "source": [
        ""
      ]
    },
    {
      "cell_type": "markdown",
      "source": [
        "https://github.com/megvii-research/NBNet/blob/73112b185e022d0920f2f45c34c5bcf7c581d983/model.py#L71"
      ],
      "metadata": {
        "id": "wxp9Zvo6uEOG"
      }
    },
    {
      "cell_type": "code",
      "source": [
        "!pip install megengine"
      ],
      "metadata": {
        "colab": {
          "base_uri": "https://localhost:8080/"
        },
        "id": "n3Hn7NQKaUgl",
        "outputId": "5ce47892-6787-4c9d-8405-8ce7de6e1911"
      },
      "execution_count": 2,
      "outputs": [
        {
          "output_type": "stream",
          "name": "stdout",
          "text": [
            "Collecting megengine\n",
            "  Downloading MegEngine-1.7.0-cp37-cp37m-manylinux2014_x86_64.whl (850.7 MB)\n",
            "\u001b[K     |███████████████████████████████▍| 834.1 MB 1.4 MB/s eta 0:00:12tcmalloc: large alloc 1147494400 bytes == 0x55e7d2604000 @  0x7f7cb1c12615 0x55e7989e33bc 0x55e798ac418a 0x55e7989e61cd 0x55e798ad8b3d 0x55e798a5a458 0x55e798a5502f 0x55e7989e7aba 0x55e798a5a2c0 0x55e798a5502f 0x55e7989e7aba 0x55e798a56cd4 0x55e798ad9986 0x55e798a56350 0x55e798ad9986 0x55e798a56350 0x55e798ad9986 0x55e798a56350 0x55e7989e7f19 0x55e798a2ba79 0x55e7989e6b32 0x55e798a5a1dd 0x55e798a5502f 0x55e7989e7aba 0x55e798a56cd4 0x55e798a5502f 0x55e7989e7aba 0x55e798a55eae 0x55e7989e79da 0x55e798a56108 0x55e798a5502f\n",
            "\u001b[K     |████████████████████████████████| 850.7 MB 11 kB/s \n",
            "\u001b[?25hRequirement already satisfied: requests in /usr/local/lib/python3.7/dist-packages (from megengine) (2.23.0)\n",
            "Requirement already satisfied: opencv-python in /usr/local/lib/python3.7/dist-packages (from megengine) (4.1.2.30)\n",
            "Collecting redispy\n",
            "  Downloading redispy-3.0.0-py2.py3-none-any.whl (64 kB)\n",
            "\u001b[K     |████████████████████████████████| 64 kB 2.6 MB/s \n",
            "\u001b[?25hRequirement already satisfied: wheel in /usr/local/lib/python3.7/dist-packages (from megengine) (0.37.1)\n",
            "Requirement already satisfied: tqdm in /usr/local/lib/python3.7/dist-packages (from megengine) (4.62.3)\n",
            "Requirement already satisfied: pyarrow in /usr/local/lib/python3.7/dist-packages (from megengine) (3.0.0)\n",
            "Requirement already satisfied: tabulate in /usr/local/lib/python3.7/dist-packages (from megengine) (0.8.9)\n",
            "Requirement already satisfied: numpy>=1.18 in /usr/local/lib/python3.7/dist-packages (from megengine) (1.19.5)\n",
            "Collecting deprecated\n",
            "  Downloading Deprecated-1.2.13-py2.py3-none-any.whl (9.6 kB)\n",
            "Collecting mprop\n",
            "  Downloading mprop-0.16.0.tar.gz (4.5 kB)\n",
            "Requirement already satisfied: wrapt<2,>=1.10 in /usr/local/lib/python3.7/dist-packages (from deprecated->megengine) (1.13.3)\n",
            "Requirement already satisfied: urllib3!=1.25.0,!=1.25.1,<1.26,>=1.21.1 in /usr/local/lib/python3.7/dist-packages (from requests->megengine) (1.24.3)\n",
            "Requirement already satisfied: chardet<4,>=3.0.2 in /usr/local/lib/python3.7/dist-packages (from requests->megengine) (3.0.4)\n",
            "Requirement already satisfied: idna<3,>=2.5 in /usr/local/lib/python3.7/dist-packages (from requests->megengine) (2.10)\n",
            "Requirement already satisfied: certifi>=2017.4.17 in /usr/local/lib/python3.7/dist-packages (from requests->megengine) (2021.10.8)\n",
            "Building wheels for collected packages: mprop\n",
            "  Building wheel for mprop (setup.py) ... \u001b[?25l\u001b[?25hdone\n",
            "  Created wheel for mprop: filename=mprop-0.16.0-py3-none-any.whl size=3228 sha256=4f3d2190fe7b86a36f0c72e665152ba32c8fff0211061c8da1cfa171b90321e7\n",
            "  Stored in directory: /root/.cache/pip/wheels/41/41/35/841b0088f8727f35d85a424461428e12582def5dcea5baf28a\n",
            "Successfully built mprop\n",
            "Installing collected packages: redispy, mprop, deprecated, megengine\n",
            "Successfully installed deprecated-1.2.13 megengine-1.7.0 mprop-0.16.0 redispy-3.0.0\n"
          ]
        }
      ]
    },
    {
      "cell_type": "markdown",
      "source": [
        "### NBNet\n",
        "\n",
        "![image](https://user-images.githubusercontent.com/44194558/152297625-a09af994-fb54-4f39-a130-fbae75e78f63.png)\n"
      ],
      "metadata": {
        "id": "QJC5jv7Vbxcq"
      }
    },
    {
      "cell_type": "markdown",
      "source": [
        "### UNet Convolutional Block\n",
        "\n",
        "(a) conv-block\n",
        "\n",
        "![image](https://user-images.githubusercontent.com/44194558/152296600-a14d8633-1ec4-4020-ab68-c51687ffec91.png)"
      ],
      "metadata": {
        "id": "75SBeJd4Zvu1"
      }
    },
    {
      "cell_type": "code",
      "source": [
        "import megengine as mge\n",
        "import megengine.module as nn\n",
        "import megengine.functional as F"
      ],
      "metadata": {
        "id": "_3-Yqe3OZ6vD"
      },
      "execution_count": 3,
      "outputs": []
    },
    {
      "cell_type": "code",
      "source": [
        "class UNetConvBlock(nn.Module):\n",
        "\n",
        "    def __init__(self, in_size, out_size, downsample, relu_slope):\n",
        "        super(UNetConvBlock, self).__init__()\n",
        "        \n",
        "        # 1. Convolutional Block\n",
        "        ## 1.1 (3x3 Conv + LeakyReLU) x 2\n",
        "        self.block = nn.Sequential(\n",
        "            nn.Conv2d(in_size, out_size, kernel_size=3, padding=1, bias=True),\n",
        "            nn.LeakyReLU(relu_slope),\n",
        "            nn.Conv2d(out_size, out_size, kernel_size=3, padding=1, bias=True),\n",
        "            nn.LeakyReLU(relu_slope))\n",
        "        \n",
        "        ## 1.2 Skip-conn with 1x1 Conv\n",
        "        self.shortcut = nn.Conv2d(in_size, out_size, kernel_size=1, bias=True)\n",
        "        \n",
        "        # 2. Downsample\n",
        "        self.downsample = downsample\n",
        "        if downsample:\n",
        "            self.downsample = nn.Conv2d(in_size, out_size, kernel_size=1, bias=True)\n",
        "\n",
        "    def forward(self, x):\n",
        "        # 1. Conv Block with Skip-conn\n",
        "        out = self.block(x)\n",
        "        sc = self.shortcut(x)\n",
        "        out = out + sc\n",
        "\n",
        "        # 2. downsample\n",
        "        # ou은 skip_blocks에 전달, out_down은 다음 stage에 전달 \n",
        "        if self.downsample:\n",
        "            out_down = self.downsample(out)\n",
        "            return out_down, out \n",
        "        else:\n",
        "            return out"
      ],
      "metadata": {
        "id": "cje6EjnfaSTJ"
      },
      "execution_count": 4,
      "outputs": []
    },
    {
      "cell_type": "markdown",
      "source": [
        "### Basis Generation\n",
        "\n",
        "합성곱 연산을 통해 Subspace를 span하는 기저 벡터 생성\n",
        "\n",
        "![image](https://user-images.githubusercontent.com/44194558/152303075-d0ab2d33-6403-4e9e-a06b-4d81a17c792d.png)\n",
        "\n",
        "<br/>\n",
        "\n",
        "![image](https://user-images.githubusercontent.com/44194558/152309965-0d82cec3-7014-4a1f-8f54-0ddcf513d693.png)\n",
        "\n",
        "SSA 모듈의 conv-block에 해당"
      ],
      "metadata": {
        "id": "cKsPZvPgdAwv"
      }
    },
    {
      "cell_type": "code",
      "source": [
        "# self.subnet = Subspace(in_size, self.num_subspace) - 16차원의 subspace\n",
        "\n",
        "class Subspace(nn.Module):\n",
        "\n",
        "    def __init__(self, in_size, out_size):\n",
        "        super(Subspace, self).__init__()\n",
        "        self.blocks = []\n",
        "        self.blocks.append(UNetConvBlock(in_size, out_size, False, 0.2))\n",
        "        self.shortcut = nn.Conv2d(in_size, out_size, kernel_size=1, bias=True)\n",
        "\n",
        "    def forward(self, x):\n",
        "        sc = self.shorcut(x)\n",
        "        for i in range(len(self.blocks)):\n",
        "            x = self.blocks[i](x)\n",
        "\n",
        "        return x + sc"
      ],
      "metadata": {
        "id": "Uk6j0-K5bDi0"
      },
      "execution_count": 5,
      "outputs": []
    },
    {
      "cell_type": "markdown",
      "source": [
        "### Skip-connections\n",
        "\n",
        "![image](https://user-images.githubusercontent.com/44194558/152300776-905ecc6b-dabc-4242-90a3-9d5f8dfa12c2.png)"
      ],
      "metadata": {
        "id": "oqSWB2Qjh8_M"
      }
    },
    {
      "cell_type": "code",
      "source": [
        "class skip_blocks(nn.Module):\n",
        "\n",
        "    def __init__(self, in_size, out_size, repeat_num=1):\n",
        "        super(skip_blocks, self).__init__()\n",
        "        self.re_num = repeat_num  # 각 stage마다 conv-block의 개수가 다름\n",
        "        mid_c = 128\n",
        "        \n",
        "        # 각 stage마다 지정된 횟수 만큼 conv-block쌓기\n",
        "        self.blocks = []\n",
        "        self.blocks.append(UNetConvBlock(in_size, mid_c, False, 0.2))\n",
        "        for i in range(self.re_num - 2):\n",
        "            self.blocks.append(UNetConvBlock(mid_c, mid_c, False, 0.2))\n",
        "        self.blocks.append(UNetConvBlock(mid_c, out_size, False, 0.2))\n",
        "        \n",
        "        # Skip-conn\n",
        "        self.shortcut = nn.Conv2d(in_size, out_size, kernel_size=1, bias=True)\n",
        "\n",
        "    def forward(self, x):\n",
        "        sc = self.shortcut(x)\n",
        "\n",
        "        # 지정된 횟수의 conv-block 통과\n",
        "        for m in self.blocks:\n",
        "            x = m(x)\n",
        "\n",
        "        return x + sc"
      ],
      "metadata": {
        "id": "sBOmzAz7eX26"
      },
      "execution_count": 6,
      "outputs": []
    },
    {
      "cell_type": "markdown",
      "source": [
        "### UpBlock\n",
        "\n",
        "![image](https://user-images.githubusercontent.com/44194558/152300923-0a113ba6-5582-40fc-b62f-587b20602b02.png)"
      ],
      "metadata": {
        "id": "0sR4LgP2iMyp"
      }
    },
    {
      "cell_type": "code",
      "source": [
        "class UNetUpBlock(nn.Module):\n",
        "\n",
        "    def __init__(self, in_size, out_size, relu_slope, subnet_repeat_num, subspace_dim=16):\n",
        "        super(UNetUpBlock, self).__init__()\n",
        "\n",
        "        # Up-sampling\n",
        "        self.up = nn.ConvTranspose2d(in_size, out_size, kernel_size=2, stride=2, bias=True)\n",
        "\n",
        "        # Convolutional Block\n",
        "        self.conv_block = UNetConvBlock(in_size, out_size, False, relu_slope)\n",
        "        self.num_subspace = subspace_dim\n",
        "        print(self.num_subspace, subnet_repeat_num)\n",
        "\n",
        "        # SSA Module with Basis Generation\n",
        "        self.subnet = Subspace(in_size, self.num_subspace)\n",
        "        self.skip_m = skip_blocks(out_size, out_size, subnet_repeat_num)  # subnet의 입력\n",
        "\n",
        "    def forward(self, x, bridge):\n",
        "        # Up-sampling\n",
        "        up = self.up(x)  # X2\n",
        "\n",
        "        # skip_blocks의 출력 (bridge : Encoder의 각 stage에서의 분기된 출력 - X1)\n",
        "        bridge = self.skip_m(bridge)\n",
        "\n",
        "        # Concat for Basis Generation\n",
        "        out = F.concat([up, bridge], 1)  # [X1, X2]\n",
        "        if self.subnet:\n",
        "            b_, c_, h_, w_ = bridge.shape\n",
        "            sub = self.subnet(out)  # [X1, X2]를 입력하여 Basis Generation\n",
        "            \n",
        "            # Basis vectors V 계산\n",
        "            V_t = sub.reshape(b_, self.num_subspace, h_*w_)\n",
        "            V_t = V_t / (1e-6 + F.abs(V_t).sum(axis=2, keepdims=True))\n",
        "            V = V_t.transpose(0, 2, 1)\n",
        "            \n",
        "            # Projection matrix P 계산\n",
        "            mat = F.matmul(V_t, V)  \n",
        "            mat_inv = F.matinv(mat)\n",
        "            project_mat = F.matmul(mat_inv, V_t)\n",
        "\n",
        "            # Projection\n",
        "            bridge_ = bridge.reshape(b_, c_, h_*w_)\n",
        "            project_feature = F.matmul(project_mat, bridge_.transpose(0, 2, 1))\n",
        "\n",
        "            # Y=PX1 (SSA 모듈의 출력)\n",
        "            bridge = F.matmul(V, project_feature).transpose(0, 2, 1).reshape(b_, c_, h_, w_)\n",
        "\n",
        "            # X1의 projection Y와 X2의 concat\n",
        "            out = F.concat([up, bridge], 1)\n",
        "\n",
        "        # 마지막 conv block 통과    \n",
        "        out = self.conv_block(out)\n",
        "\n",
        "        return out  # Decoder의 다음 stage에 전달"
      ],
      "metadata": {
        "id": "abBw_GfOd34r"
      },
      "execution_count": 7,
      "outputs": []
    },
    {
      "cell_type": "markdown",
      "source": [
        "### UNetD"
      ],
      "metadata": {
        "id": "Zs98SzbNm7GR"
      }
    },
    {
      "cell_type": "code",
      "source": [
        "def conv3x3(in_chn, out_chn, bias=True):\n",
        "    layer = nn.Conv2d(in_chn, out_chn, kernel_size=3, stride=1, padding=1, bias=bias)\n",
        "    return layer\n",
        "\n",
        "def conv_down(in_chn, out_chn, bias=False):\n",
        "    layer = nn.Conv2d(in_chn, out_chn, kernel_size=4, stride=2, padding=1, bias=bias)\n",
        "    return layer"
      ],
      "metadata": {
        "id": "BzCeLCmkoGcQ"
      },
      "execution_count": 8,
      "outputs": []
    },
    {
      "cell_type": "code",
      "source": [
        "class UNetD(nn.Module):\n",
        "\n",
        "    def __init__(self, in_chn, wf=32, depth=5, relu_slope=0.2, subspace_dim=16):\n",
        "        super(UNetD, self).__init__()\n",
        "        self.depth = depth\n",
        "        self.down_path = []\n",
        "        prev_channels = self.get_input_chn(in_chn)\n",
        "\n",
        "        # Encoder (down-sampling)\n",
        "        for i in range(depth):\n",
        "            downsample = True if (i+1) < depth else False\n",
        "            self.down_path.append(UNetConvBlock(prev_channels, (2**i)*wf, downsample, relu_slope))  # 스테이지가 증가할 때 마다 크기는 줄고, 채널은 증가\n",
        "            prev_channels = (2**i) * wf\n",
        "\n",
        "        # self.ema = EMAU(prev_channels, prev_channels//8)\n",
        "        # Decoder (Up-sampling)\n",
        "        self.up_path = []\n",
        "        subnet_repeat_num = 1\n",
        "        for i in reversed(range(depth - 1)):\n",
        "            self.up_path.append(UNetUpBlock(prev_channels, (2**i)*wf, relu_slope, subnet_repeat_num, subspace_dim))\n",
        "            prev_channels = (2**i)*wf\n",
        "            subnet_repeat_num += 1\n",
        "        \n",
        "        # denoised output을 출력하는 최종 layer\n",
        "        self.last = conv3x3(prev_channels, in_chn, bias=True)\n",
        "        #self._initialize()\n",
        "\n",
        "    def forward(self, x1):\n",
        "        # Encoder\n",
        "        blocks = []\n",
        "        for i, down in enumerate(self.down_path):  # down : UNetConvBlock 참고\n",
        "            # print(x1.shape)\n",
        "            if (i+1) < self.depth:\n",
        "                x1, x1_up = down(x1)  # out_down (다음 stage에 전달), out\n",
        "                blocks.append(x1_up)\n",
        "            else:\n",
        "                x1 = down(x1)\n",
        "        # print(x1.shape)\n",
        "        # x1 = self.ema(x1)\n",
        "        for i, up in enumerate(self.up_path):  # up : UNetUpBlock 참고\n",
        "            # print(x1.shape, blocks[-i-1].shape)\n",
        "            x1 = up(x1, blocks[-i-1])  # x, bridge(skip_blocks의 입력으로 전달)\n",
        "        \n",
        "        pred = self.last(x1)\n",
        "\n",
        "        return pred\n",
        "\n",
        "    def get_input_chn(self, in_chn):\n",
        "        return in_chn\n",
        "\n",
        "    def _initialize(self):\n",
        "        gain = nn.init.calculate_gain('leaky_relu', 0.20)\n",
        "        for m in self.modules():\n",
        "            if isinstance(m, nn.Conv2d):\n",
        "                print(\"weight\")\n",
        "                nn.init.xavier_uniform_(m.weight)\n",
        "                if m.bias is not None:\n",
        "                    print(\"bias\")\n",
        "                    nn.init.zeros_(m.bias)"
      ],
      "metadata": {
        "id": "XCM2qNpHmzNR"
      },
      "execution_count": 9,
      "outputs": []
    },
    {
      "cell_type": "code",
      "source": [
        "import numpy as np\n",
        "\n",
        "NBNet = UNetD(3)\n",
        "\n",
        "input = mge.tensor(np.random.randn(1, 3, 128, 128).astype(np.float32))\n",
        "pred = NBNet(input)  # (1, 3, 128, 128)"
      ],
      "metadata": {
        "id": "D6sPf7PbqjcJ"
      },
      "execution_count": null,
      "outputs": []
    }
  ]
}