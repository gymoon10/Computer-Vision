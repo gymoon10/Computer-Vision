{
  "nbformat": 4,
  "nbformat_minor": 0,
  "metadata": {
    "colab": {
      "name": "DCGAN_Network.ipynb",
      "provenance": []
    },
    "kernelspec": {
      "name": "python3",
      "display_name": "Python 3"
    },
    "language_info": {
      "name": "python"
    },
    "accelerator": "GPU"
  },
  "cells": [
    {
      "cell_type": "code",
      "execution_count": 2,
      "metadata": {
        "id": "_KQm987hmA0l"
      },
      "outputs": [],
      "source": [
        "import random\n",
        "import math\n",
        "import time\n",
        "import pandas as pd\n",
        "import numpy as np\n",
        "from PIL import Image\n",
        "\n",
        "import torch\n",
        "import torch.utils.data as data\n",
        "import torch.nn as nn\n",
        "import torch.nn.functional as F\n",
        "import torch.optim as optim\n",
        "\n",
        "from torchvision import transforms"
      ]
    },
    {
      "cell_type": "markdown",
      "source": [
        "## Generator\n",
        "\n",
        "\n",
        "MNIST 필기체 숫자 데이터를 이용하는 경우, 사람이 봤을 때 실제 숫자로 보이는 패턴을 학습하고 생성\n",
        "\n",
        "64x64x256의 이미지를 생성하는 경우 총 256^4096(64x64)개의 패턴이 존재하고, 그 중 필기체 숫자처럼 보이는 패턴의 규칙을 생성자가 학습. \n",
        "\n",
        "생성자는 규칙(학습한 네트워크의 파라미터)과 입력 noise를 이용하여 이미지를 생성.\n",
        "\n",
        "**전치 합성곱**\n",
        "\n",
        "feature map up-sampling (채널을 줄이면서, 너비와 높이는 증가)\n",
        "\n",
        "Kernel을 사용하지 않고 단순히 이미지의 크기를 늘려 셀 사이를 함수로 보완하는 F.interpolate와 달리, Kernel을 사용하여 보다 정교하고 복잡한 확대 처리를 수행. "
      ],
      "metadata": {
        "id": "9pbBca1JnnVE"
      }
    },
    {
      "cell_type": "code",
      "source": [
        "class Generator(nn.Module):\n",
        "\n",
        "    def __init__(self, z_dim=20, image_size=64):\n",
        "        super(Generator, self).__init__()\n",
        "        \n",
        "        # 채널 수를 줄여나가는 방식\n",
        "        self.layer1 = nn.Sequential(\n",
        "            nn.ConvTranspose2d(z_dim, image_size*8,\n",
        "                               kernel_size=4, stride=1),\n",
        "            nn.BatchNorm2d(image_size* 8 ),\n",
        "            nn.ReLU(inplace=True))\n",
        "        \n",
        "        self.layer2 = nn.Sequential(\n",
        "            nn.ConvTranspose2d(image_size * 8, image_size * 4,\n",
        "                                 kernel_size=4, stride=2, padding=1),\n",
        "            nn.BatchNorm2d(image_size * 4),\n",
        "            nn.ReLU(inplace=True))\n",
        "        \n",
        "        self.layer3 = nn.Sequential(\n",
        "            nn.ConvTranspose2d(image_size * 4, image_size * 2,\n",
        "                                 kernel_size=4, stride=2, padding=1),\n",
        "            nn.BatchNorm2d(image_size * 2),\n",
        "            nn.ReLU(inplace=True))\n",
        "        \n",
        "        self.layer4 = nn.Sequential(\n",
        "            nn.ConvTranspose2d(image_size * 2, image_size,\n",
        "                                 kernel_size=4, stride=2, padding=1),\n",
        "            nn.BatchNorm2d(image_size),\n",
        "            nn.ReLU(inplace=True))\n",
        "        \n",
        "        # image_size 크기의 흑백 이미지 생성\n",
        "        self.last = nn.Sequential(\n",
        "            nn.ConvTranspose2d(image_size, 1,\n",
        "                                 kernel_size=4, stride=2, padding=1),\n",
        "            nn.Tanh())\n",
        "\n",
        "    def forward(self, z):\n",
        "        out = self.layer1(z)\n",
        "        out = self.layer2(out)\n",
        "        out = self.layer3(out)\n",
        "        out = self.layer4(out)\n",
        "        out = self.last(out)\n",
        "\n",
        "        return out"
      ],
      "metadata": {
        "id": "bsuEvSC-ngsQ"
      },
      "execution_count": 3,
      "outputs": []
    },
    {
      "cell_type": "code",
      "source": [
        "import matplotlib.pyplot as plt\n",
        "%matplotlib inline\n",
        "\n",
        "G = Generator(z_dim=20, image_size=64)\n",
        "\n",
        "input_z = torch.randn(1, 20)\n",
        "input_z = input_z.view(input_z.size(0), input_z.size(1), 1, 1)\n",
        "print('Input noise :', input_z.shape)\n",
        "\n",
        "fake_images = G(input_z)\n",
        "print('Generated image :', fake_images.shape)\n",
        "\n",
        "img_transformed = fake_images[0][0].detach().numpy()\n",
        "plt.imshow(img_transformed, 'gray')\n",
        "plt.show()"
      ],
      "metadata": {
        "colab": {
          "base_uri": "https://localhost:8080/",
          "height": 304
        },
        "id": "G4t_Lmk6q911",
        "outputId": "87f61bfd-5659-4315-8d3e-77dffd92ee53"
      },
      "execution_count": 4,
      "outputs": [
        {
          "output_type": "stream",
          "name": "stdout",
          "text": [
            "Input noise : torch.Size([1, 20, 1, 1])\n",
            "Generated image : torch.Size([1, 1, 64, 64])\n"
          ]
        },
        {
          "output_type": "display_data",
          "data": {
            "image/png": "[encoded data removed]",
            "text/plain": [
              "<Figure size 432x288 with 1 Axes>"
            ]
          },
          "metadata": {
            "needs_background": "light"
          }
        }
      ]
    },
    {
      "cell_type": "markdown",
      "source": [
        "## Discriminator\n",
        "\n",
        "LeakyReLU : D의 역전파에서 손실 오차의 gradient를 G까지 전달할 수 있게 함\n",
        "\n",
        "ReLU의 경우 입력이 음수면 출력이 0 -> 오차 역전파 중단 (학습에 유의미한 gradient를 제공할 수 없음), ReLU 층 보다 상위층까지 역전파가 전달되지 않음\n",
        "\n",
        "LeakyReLU는 입력이 음수여도 출력이 0이 아니기 때문에 오차 역전파가 중단되지 않음 -> D의 오차를 G까지 전달할 수 있어, G의 학습이 용이해짐\n",
        "\n",
        "단, 하위층에서 오차를 지우듯이 하며 학습한 사항을 상위층까지 전달하기 때문에 오차의 책임을 상위층으로 떠넘기는 양상이 될 수 있음. (반드시 ReLU보다 좋은 것은 아님)\n",
        "\n",
        "\n",
        "\n"
      ],
      "metadata": {
        "id": "8CYldA2EsCp-"
      }
    },
    {
      "cell_type": "code",
      "source": [
        "class Discriminator(nn.Module):\n",
        "\n",
        "    def __init__(self, z_dim=20, image_size=64):\n",
        "        super(Discriminator, self).__init__()\n",
        "\n",
        "        self.layer1 = nn.Sequential(\n",
        "            nn.Conv2d(1, image_size, kernel_size=4,\n",
        "                      stride=2, padding=1),\n",
        "            nn.LeakyReLU(0.1, inplace=True))\n",
        "        \n",
        "        self.layer2 = nn.Sequential(\n",
        "            nn.Conv2d(image_size, image_size * 2, kernel_size=4,\n",
        "                      stride=2, padding=1),\n",
        "            nn.LeakyReLU(0.1, inplace=True))\n",
        "        \n",
        "        self.layer3 = nn.Sequential(\n",
        "            nn.Conv2d(image_size * 2, image_size * 4, kernel_size=4,\n",
        "                      stride=2, padding=1),\n",
        "            nn.LeakyReLU(0.1, inplace=True))\n",
        "        \n",
        "        self.layer4 = nn.Sequential(\n",
        "            nn.Conv2d(image_size * 4, image_size * 8, kernel_size=4,\n",
        "                      stride=2, padding=1),\n",
        "            nn.LeakyReLU(0.1, inplace=True))\n",
        "        \n",
        "        self.last = nn.Conv2d(image_size*8, 1, kernel_size=4, stride=1)\n",
        "\n",
        "    def forward(self, x):\n",
        "        out = self.layer1(x)\n",
        "        out = self.layer2(out)\n",
        "        out = self.layer3(out)\n",
        "        out = self.layer4(out)\n",
        "        out = self.last(out)\n",
        "\n",
        "        return out"
      ],
      "metadata": {
        "id": "lXc6k894rGdf"
      },
      "execution_count": 5,
      "outputs": []
    },
    {
      "cell_type": "code",
      "source": [
        "D = Discriminator(z_dim=20, image_size=64)\n",
        "\n",
        "input_z = torch.randn(1, 20)\n",
        "input_z = input_z.view(input_z.size(0), input_z.size(1), 1, 1)\n",
        "print('Input noise :', input_z.shape)\n",
        "fake_images = G(input_z)\n",
        "print('Generated image :', fake_images.shape)\n",
        "d_out = D(fake_images)\n",
        "print('Realness :', d_out.shape)\n",
        "\n",
        "# 학습을 진행하지 않았기 때문에 진짜, 가짜를 구별할 능력이 없음 (0.5)\n",
        "print(nn.Sigmoid()(d_out))"
      ],
      "metadata": {
        "colab": {
          "base_uri": "https://localhost:8080/"
        },
        "id": "tfidCc75s7QG",
        "outputId": "9e2f7d5f-6e4a-40b5-a936-a3c7ed903dc5"
      },
      "execution_count": 6,
      "outputs": [
        {
          "output_type": "stream",
          "name": "stdout",
          "text": [
            "Input noise : torch.Size([1, 20, 1, 1])\n",
            "Generated image : torch.Size([1, 1, 64, 64])\n",
            "Realness : torch.Size([1, 1, 1, 1])\n",
            "tensor([[[[0.4932]]]], grad_fn=<SigmoidBackward0>)\n"
          ]
        }
      ]
    },
    {
      "cell_type": "markdown",
      "source": [
        "## Loss\n",
        "\n",
        "아래의 코드는 모두 에러 발생 (x 미정의)"
      ],
      "metadata": {
        "id": "BG8zR0DavLxP"
      }
    },
    {
      "cell_type": "code",
      "source": [
        "mini_batch_size = 2\n",
        "\n",
        "label_real = torch.full((mini_batch_size,), 1)\n",
        "label_fake = torch.full((mini_batch_size,), 0)\n",
        "\n",
        "# 손실 함수\n",
        "criterion = nn.BCEWithLogitsLoss(reduction='mean')\n",
        "\n",
        "d_out_real = D(x) /  x : 실제 입력 이미지\n",
        "\n",
        "생성한 이미지에 대한 D 판정\n",
        "input_z = torch.randn(mini_batch_size, 20)\n",
        "input_z = input_z.view(input_z.size(0), input_z.size(1), 1, 1)\n",
        "fake_images = G(input_z)\n",
        "d_out_fake = D(fake_images)\n",
        "\n",
        "# loss 계산\n",
        "d_loss_real = criterion(d_out_real.view(-1), label_real)\n",
        "d_loss_fake = criterion(d_out_fake.view(-1), label_fake)\n",
        "d_loss = d_loss_real + d_loss_fake"
      ],
      "metadata": {
        "id": "IrjWeFe0PSqR"
      },
      "execution_count": null,
      "outputs": []
    },
    {
      "cell_type": "code",
      "source": [
        "input_z = torch.randn(mini_batch_size, 20)\n",
        "input_z = input_z.view(input_z.size(0), input_z.size(1), 1, 1)\n",
        "fake_images = G(input_z)\n",
        "d_out_fake = D(fake_images)\n",
        "\n",
        "g_loss = criterion(d_out_fake.view(-1), label_real)"
      ],
      "metadata": {
        "id": "oVHcQUTNvWPG"
      },
      "execution_count": null,
      "outputs": []
    },
    {
      "cell_type": "code",
      "source": [
        ""
      ],
      "metadata": {
        "id": "VKlmUSIoQq44"
      },
      "execution_count": null,
      "outputs": []
    }
  ]
}