{
  "nbformat": 4,
  "nbformat_minor": 0,
  "metadata": {
    "colab": {
      "name": "SAGAN_Network&Train.ipynb",
      "provenance": []
    },
    "kernelspec": {
      "name": "python3",
      "display_name": "Python 3"
    },
    "language_info": {
      "name": "python"
    }
  },
  "cells": [
    {
      "cell_type": "code",
      "execution_count": 1,
      "metadata": {
        "id": "uAkR1MNIRj9n"
      },
      "outputs": [],
      "source": [
        "import random\n",
        "import math\n",
        "import time\n",
        "import pandas as pd\n",
        "import numpy as np\n",
        "from PIL import Image\n",
        "\n",
        "import torch\n",
        "import torch.utils.data as data\n",
        "import torch.nn as nn\n",
        "import torch.nn.functional as F\n",
        "import torch.optim as optim\n",
        "\n",
        "from torchvision import transforms"
      ]
    },
    {
      "cell_type": "markdown",
      "source": [
        "## Self-Attention\n",
        "\n",
        "DCGAN같이 ConvTranspose2d의 연속적인 사용은 국소적인 정보 확대의 연속에 불과. 이미지 전체의 포괄적인 정보를 반영하지 못하는 단점 존재.\n",
        "\n",
        "CNN은 기본적으로 local neighborhood의 정보만을 처리하기 때문에 long range dependencies (이미지 내에서 서로 멀리 떨어진 지역들)를 처리하는데 있어 비효율적.\n",
        "\n",
        "`Since the convolution operator has a local receptive field, long range dependencies can only be processed after passing through several convolutional layers. This could prevent learning about long-term dependencies.`\n",
        "\n",
        "SAGAN은 self-attention 모듈을 GAN에 도입하여 멀리 떨어진 지역들 간의 상관성, 의존성을 효율적으로 모델링함.\n",
        "\n",
        "커널 크기 최대의 합성곱 역할을 하지만, 해당 커널의 파라미터를 학습시키지 않고 자신과 유사한 특징량을 커널 값으로 하여 계산.\n",
        "\n",
        "<br/>\n",
        "\n",
        "**Attention 참고** :\n",
        "\n",
        "https://github.com/gymoon10/Paper-Review/blob/main/NLP/Attention%20is%20All%20you%20Need%20-%20%EC%84%A4%EB%AA%85%26%EB%85%BC%EB%AC%B8%EC%9D%BD%EA%B8%B0.ipynb\n",
        "\n",
        "https://github.com/gymoon10/Paper-Review/blob/main/NLP/BERT.md\n",
        "\n",
        "https://github.com/gymoon10/Paper-Review/blob/main/NLP/NMT_%EC%A0%95%EB%A6%AC.pdf"
      ],
      "metadata": {
        "id": "E0VW2lT6R3r0"
      }
    },
    {
      "cell_type": "markdown",
      "source": [
        "![image](https://user-images.githubusercontent.com/44194558/148348716-8a2ce77c-1ae9-4607-a041-84ea2a84e365.png)\n",
        "\n",
        "![image](https://user-images.githubusercontent.com/44194558/148348777-c217fc42-75aa-42a3-a9f6-545930bc13ee.png)\n",
        "\n",
        "![image](https://user-images.githubusercontent.com/44194558/148348837-c5ded2b8-bfc7-4492-8667-7b061a7c7633.png)\n",
        "\n"
      ],
      "metadata": {
        "id": "r1QdlyxTY3EL"
      }
    },
    {
      "cell_type": "code",
      "source": [
        "class Self_Attention(nn.Module):\n",
        "\n",
        "    def __init__(self, in_dim):\n",
        "        super(Self_Attention, self).__init__()\n",
        "        \n",
        "        # Query, Key, Value embedding (채널 별 선형 합을 만드는 1x1 합성곱 이용)\n",
        "        # 입력에 대한 특징량 변환\n",
        "        self.query_conv = nn.Conv2d(\n",
        "            in_channels=in_dim, out_channels=in_dim//8, kernel_size=1)  # Q : 원래 입력의 전치에 대응 / f (위 그림 참고)\n",
        "        self.key_conv = nn.Conv2d(\n",
        "            in_channels=in_dim, out_channels=in_dim//8, kernel_size=1)  # K : 원래 입력 x에 대응 / g\n",
        "        self.value_conv = nn.Conv2d(\n",
        "            in_channels=in_dim, out_channels=in_dim, kernel_size=1)  # V : Attention map과 곱하는 대상 / h\n",
        "        \n",
        "        # Attention map 정규화용 (행 방향)\n",
        "        self.softmax = nn.Softmax(dim=-2)\n",
        "        \n",
        "        # Attention map에 대한 계수 / output = x + gamma * O (Attention map)\n",
        "        self.gamma = nn.Parameter(torch.zeros(1))  \n",
        "\n",
        "    def forward(self, x):\n",
        "        # Input\n",
        "        X = x  # (B, C, H, W)\n",
        "\n",
        "        # Q, K embedding\n",
        "        proj_query = self.query_conv(X).view(X.shape[0], -1, X.shape[2] * X.shape[3])  # (B, C', H, W) -> (B, C', N), N=HxW\n",
        "        proj_query = proj_query.permute(0, 2, 1)  # 전치\n",
        "        proj_key = self.key_conv(X).view(X.shape[0], -1, X.shape[2] * X.shape[3])  # (B, C', H, W) -> (B, C', N)\n",
        "        \n",
        "        # Attention map 계산 + 정규화\n",
        "        S = torch.bmm(proj_query, proj_key)  # 배치 별 행렬곱\n",
        "        \n",
        "        # Attention score (weight)\n",
        "        attention_map_T = self.softmax(S)  # (N, N)\n",
        "        attention_map = attention_map_T.permute(0, 2, 1)  # B_ji (j th region을 생성하는데 i th region이 얼마나 중요한지)\n",
        "\n",
        "        # Self-Attention map 계산\n",
        "        proj_value = self.value_conv(x).view(X.shape[0], -1, X.shape[2] * X.shape[3])  # (B, C, N)\n",
        "        o = torch.bmm(proj_value, attention_map.permute(0, 2, 1))  # Batch 별로 (C, N) x (N, N)\n",
        "        o = o.view(X.shape[0], X.shape[1], X.shape[2], X.shape[3])  # Self-Attention map (입력 x를 포괄적인 정보를 바탕으로 조정하는 양)\n",
        "        out = x + self.gamma*o  # 포괄적인 정보를 고려하여 입력 x를 조정\n",
        "\n",
        "        return out, attention_map"
      ],
      "metadata": {
        "id": "_VEqO38SRs-e"
      },
      "execution_count": 8,
      "outputs": []
    },
    {
      "cell_type": "markdown",
      "source": [
        "## Generator\n",
        "\n",
        " - 전치 합성곱 층에 스펙트럴 정규화를 추가 (마지막 layer 제외)\n",
        "\n",
        " - 3-4, 4-last layer 사이에 self attention 모듈 추가\n",
        "\n",
        "\n",
        " 스펙트럴 정규화는 데이터가 아닌 합성곱 층 등의 네트워크 가중치 파라미터를 표준화. D가 립시츠 연속성 조건을 만족하게 하여 GAN 학습을 용이하게 함.\n",
        "\n",
        " **립시츠 연속성** \n",
        "\n",
        " D에 대한 입력 이미지가 아주 조금 변하면 D의 출력 역시 거의 변하지 않아야 한다. (연속성을 확보하지 못하면 입력 이미지가 아주 조금 변해도 D의 출력이 크게 변화하하여 G, D가 제대로 학습하지 못함)\n",
        "\n",
        " 입력 -> 출력으로 확대 되는 처리가 있을 때 다양한 성분이 확대되는 값 중 최댓값 (고윳값 분해시 최대 고윳값에 대응)을 사용하여 층의 파라미터를 정규화"
      ],
      "metadata": {
        "id": "pNioSLfgaVfN"
      }
    },
    {
      "cell_type": "code",
      "source": [
        "class Generator(nn.Module):\n",
        "\n",
        "    def __init__(self, z_dim=20, image_size=64):\n",
        "        super(Generator, self).__init__()\n",
        "\n",
        "        self.layer1 = nn.Sequential(\n",
        "            # Spectral Normalization\n",
        "            nn.utils.spectral_norm(nn.ConvTranspose2d(z_dim, image_size * 8,\n",
        "                                                      kernel_size=4, stride=1)),\n",
        "            nn.BatchNorm2d(image_size * 8),\n",
        "            nn.ReLU(inplace=True))\n",
        "\n",
        "        self.layer2 = nn.Sequential(\n",
        "            nn.utils.spectral_norm(nn.ConvTranspose2d(image_size * 8, image_size * 4,\n",
        "                                                      kernel_size=4, stride=2, padding=1)),\n",
        "            nn.BatchNorm2d(image_size * 4),\n",
        "            nn.ReLU(inplace=True))\n",
        "\n",
        "        self.layer3 = nn.Sequential(\n",
        "            nn.utils.spectral_norm(nn.ConvTranspose2d(image_size * 4, image_size * 2,\n",
        "                                                      kernel_size=4, stride=2, padding=1)),\n",
        "            nn.BatchNorm2d(image_size * 2),\n",
        "            nn.ReLU(inplace=True))\n",
        "\n",
        "        # Self-Attention\n",
        "        self.self_attntion1 = Self_Attention(in_dim=image_size * 2)\n",
        "\n",
        "        self.layer4 = nn.Sequential(\n",
        "            nn.utils.spectral_norm(nn.ConvTranspose2d(image_size * 2, image_size,\n",
        "                                                      kernel_size=4, stride=2, padding=1)),\n",
        "            nn.BatchNorm2d(image_size),\n",
        "            nn.ReLU(inplace=True))\n",
        "\n",
        "        self.self_attntion2 = Self_Attention(in_dim=image_size)\n",
        "\n",
        "        self.last = nn.Sequential(\n",
        "            nn.ConvTranspose2d(image_size, 1, kernel_size=4,\n",
        "                               stride=2, padding=1),\n",
        "            nn.Tanh())\n",
        "\n",
        "    def forward(self, z):\n",
        "        out = self.layer1(z)\n",
        "        out = self.layer2(out)\n",
        "        out = self.layer3(out)\n",
        "        out, attention_map1 = self.self_attntion1(out)\n",
        "        out = self.layer4(out)\n",
        "        out, attention_map2 = self.self_attntion2(out)\n",
        "        out = self.last(out)\n",
        "\n",
        "        return out, attention_map1, attention_map2"
      ],
      "metadata": {
        "id": "g-XQDN2nZbbR"
      },
      "execution_count": 9,
      "outputs": []
    },
    {
      "cell_type": "code",
      "source": [
        "import matplotlib.pyplot as plt\n",
        "%matplotlib inline\n",
        "\n",
        "G = Generator(z_dim=20, image_size=64)\n",
        "\n",
        "input_z = torch.randn(1, 20)\n",
        "input_z = input_z.view(input_z.size(0), input_z.size(1), 1, 1)\n",
        "\n",
        "fake_images, attention_map1, attention_map2 = G(input_z)\n",
        "\n",
        "img_transformed = fake_images[0][0].detach().numpy()\n",
        "plt.imshow(img_transformed, 'gray')\n",
        "plt.show()"
      ],
      "metadata": {
        "colab": {
          "base_uri": "https://localhost:8080/",
          "height": 268
        },
        "id": "gmHvUtWkcJxJ",
        "outputId": "4b2d27be-86f7-4677-c3dd-8648f906ede0"
      },
      "execution_count": 10,
      "outputs": [
        {
          "output_type": "display_data",
          "data": {
            "image/png": "[encoded data removed]",
            "text/plain": [
              "<Figure size 432x288 with 1 Axes>"
            ]
          },
          "metadata": {
            "needs_background": "light"
          }
        }
      ]
    },
    {
      "cell_type": "markdown",
      "source": [
        "## Discriminator"
      ],
      "metadata": {
        "id": "k458mC6zccEl"
      }
    },
    {
      "cell_type": "code",
      "source": [
        "class Discriminator(nn.Module):\n",
        "\n",
        "    def __init__(self, z_dim=20, image_size=64):\n",
        "        super(Discriminator, self).__init__()\n",
        "\n",
        "        self.layer1 = nn.Sequential(\n",
        "            nn.utils.spectral_norm(nn.Conv2d(1, image_size, kernel_size=4,\n",
        "                                             stride=2, padding=1)),\n",
        "            nn.LeakyReLU(0.1, inplace=True))\n",
        "\n",
        "        self.layer2 = nn.Sequential(\n",
        "            nn.utils.spectral_norm(nn.Conv2d(image_size, image_size*2, kernel_size=4,\n",
        "                                             stride=2, padding=1)),\n",
        "            nn.LeakyReLU(0.1, inplace=True))\n",
        "\n",
        "        self.layer3 = nn.Sequential(\n",
        "            nn.utils.spectral_norm(nn.Conv2d(image_size*2, image_size*4, kernel_size=4,\n",
        "                                             stride=2, padding=1)),\n",
        "            nn.LeakyReLU(0.1, inplace=True))\n",
        "\n",
        "        self.self_attntion1 = Self_Attention(in_dim=image_size*4)\n",
        "\n",
        "        self.layer4 = nn.Sequential(\n",
        "            nn.utils.spectral_norm(nn.Conv2d(image_size*4, image_size*8, kernel_size=4,\n",
        "                                             stride=2, padding=1)),\n",
        "            nn.LeakyReLU(0.1, inplace=True))\n",
        "\n",
        "        self.self_attntion2 = Self_Attention(in_dim=image_size*8)\n",
        "\n",
        "        self.last = nn.Conv2d(image_size*8, 1, kernel_size=4, stride=1)\n",
        "\n",
        "    def forward(self, x):\n",
        "        out = self.layer1(x)\n",
        "        out = self.layer2(out)\n",
        "        out = self.layer3(out)\n",
        "        out, attention_map1 = self.self_attntion1(out)\n",
        "        out = self.layer4(out)\n",
        "        out, attention_map2 = self.self_attntion2(out)\n",
        "        out = self.last(out)\n",
        "\n",
        "        return out, attention_map1, attention_map2"
      ],
      "metadata": {
        "id": "h2npwByicNdZ"
      },
      "execution_count": 11,
      "outputs": []
    },
    {
      "cell_type": "code",
      "source": [
        "D = Discriminator(z_dim=20, image_size=64)\n",
        "\n",
        "input_z = torch.randn(1, 20)\n",
        "input_z = input_z.view(input_z.size(0), input_z.size(1), 1, 1)\n",
        "\n",
        "fake_images, _, _ = G(input_z)\n",
        "\n",
        "d_out, attention_map1, attention_map2 = D(fake_images)\n",
        "\n",
        "print(nn.Sigmoid()(d_out))"
      ],
      "metadata": {
        "colab": {
          "base_uri": "https://localhost:8080/"
        },
        "id": "NPF6y-qudJdM",
        "outputId": "d8d64e2e-68cb-46bb-e17b-58f3e98b6f85"
      },
      "execution_count": 12,
      "outputs": [
        {
          "output_type": "stream",
          "name": "stdout",
          "text": [
            "tensor([[[[0.4835]]]], grad_fn=<SigmoidBackward0>)\n"
          ]
        }
      ]
    },
    {
      "cell_type": "markdown",
      "source": [
        "## Data"
      ],
      "metadata": {
        "id": "EIcpihWleuDh"
      }
    },
    {
      "cell_type": "code",
      "source": [
        "! pip install scikit-learn==0.22.1"
      ],
      "metadata": {
        "colab": {
          "base_uri": "https://localhost:8080/"
        },
        "id": "4700JQ-EdM-n",
        "outputId": "439bee7d-ca2c-415e-ff74-f20d66eb9935"
      },
      "execution_count": 13,
      "outputs": [
        {
          "output_type": "stream",
          "name": "stdout",
          "text": [
            "Collecting scikit-learn==0.22.1\n",
            "  Downloading scikit_learn-0.22.1-cp37-cp37m-manylinux1_x86_64.whl (7.0 MB)\n",
            "\u001b[K     |████████████████████████████████| 7.0 MB 4.9 MB/s \n",
            "\u001b[?25hRequirement already satisfied: numpy>=1.11.0 in /usr/local/lib/python3.7/dist-packages (from scikit-learn==0.22.1) (1.19.5)\n",
            "Requirement already satisfied: scipy>=0.17.0 in /usr/local/lib/python3.7/dist-packages (from scikit-learn==0.22.1) (1.4.1)\n",
            "Requirement already satisfied: joblib>=0.11 in /usr/local/lib/python3.7/dist-packages (from scikit-learn==0.22.1) (1.1.0)\n",
            "Installing collected packages: scikit-learn\n",
            "  Attempting uninstall: scikit-learn\n",
            "    Found existing installation: scikit-learn 1.0.1\n",
            "    Uninstalling scikit-learn-1.0.1:\n",
            "      Successfully uninstalled scikit-learn-1.0.1\n",
            "\u001b[31mERROR: pip's dependency resolver does not currently take into account all the packages that are installed. This behaviour is the source of the following dependency conflicts.\n",
            "imbalanced-learn 0.8.1 requires scikit-learn>=0.24, but you have scikit-learn 0.22.1 which is incompatible.\u001b[0m\n",
            "Successfully installed scikit-learn-0.22.1\n"
          ]
        }
      ]
    },
    {
      "cell_type": "code",
      "source": [
        "import os\n",
        "import urllib.request\n",
        "import zipfile\n",
        "import tarfile\n",
        "\n",
        "import matplotlib.pyplot as plt\n",
        "%matplotlib inline\n",
        "from PIL import Image\n",
        "import numpy as np\n",
        "\n",
        "from sklearn.datasets import fetch_openml"
      ],
      "metadata": {
        "id": "X-r0bVD4ewzG"
      },
      "execution_count": 14,
      "outputs": []
    },
    {
      "cell_type": "code",
      "source": [
        "data_dir = \"./data/\"\n",
        "if not os.path.exists(data_dir):\n",
        "    os.mkdir(data_dir)"
      ],
      "metadata": {
        "id": "zK-LQcSKe2sZ"
      },
      "execution_count": 15,
      "outputs": []
    },
    {
      "cell_type": "code",
      "source": [
        "mnist = fetch_openml('mnist_784', version=1, data_home=\"./data/\")  \n",
        "\n",
        "X = mnist.data\n",
        "y = mnist.target"
      ],
      "metadata": {
        "id": "JL9b5DMLe20-"
      },
      "execution_count": 16,
      "outputs": []
    },
    {
      "cell_type": "code",
      "source": [
        "data_dir_path = \"./data/img_78/\"\n",
        "if not os.path.exists(data_dir_path):\n",
        "    os.mkdir(data_dir_path)\n",
        "\n",
        "count7 = 0\n",
        "count8 = 0\n",
        "max_num = 200 \n",
        "\n",
        "for i in range(len(X)):\n",
        "    # 7\n",
        "    if (y[i] is \"7\") and (count7 < max_num):\n",
        "        file_path = \"./data/img_78/img_7_\" + str(count7) + \".jpg\"\n",
        "        im_f = (X[i].reshape(28, 28)) \n",
        "        pil_img_f = Image.fromarray(im_f.astype(np.uint8))  # 화상을 PIL으로\n",
        "        pil_img_f = pil_img_f.resize((64, 64), Image.BICUBIC)  # 64×64로 확대\n",
        "        pil_img_f.save(file_path)  # 저장\n",
        "        count7 += 1 \n",
        "    \n",
        "    # 8\n",
        "    if (y[i] is \"8\") and (count8 < max_num):\n",
        "        file_path = \"./data/img_78/img_8_\" + str(count8) + \".jpg\"\n",
        "        im_f = (X[i].reshape(28, 28))\n",
        "        pil_img_f = Image.fromarray(im_f.astype(np.uint8))  # 화상을 PIL으로\n",
        "        pil_img_f = pil_img_f.resize((64, 64), Image.BICUBIC)  # 64×64로 확대\n",
        "        pil_img_f.save(file_path)  # 저장\n",
        "        count8 += 1 "
      ],
      "metadata": {
        "id": "0RknRAtje6EA"
      },
      "execution_count": 17,
      "outputs": []
    },
    {
      "cell_type": "markdown",
      "source": [
        "## DataLoader"
      ],
      "metadata": {
        "id": "KQD6AlAtfPpJ"
      }
    },
    {
      "cell_type": "code",
      "source": [
        "def make_datapath_list():\n",
        "\n",
        "    train_img_list = list()  # 이미지 파일 경로를 저장\n",
        "\n",
        "    for img_idx in range(200):\n",
        "        img_path = \"./data/img_78/img_7_\" + str(img_idx) + '.jpg'\n",
        "        train_img_list.append(img_path)\n",
        "\n",
        "        img_path = \"./data/img_78/img_8_\" + str(img_idx) + '.jpg'\n",
        "        train_img_list.append(img_path)\n",
        "\n",
        "    return train_img_list"
      ],
      "metadata": {
        "id": "2t9NXcmmfNCb"
      },
      "execution_count": 18,
      "outputs": []
    },
    {
      "cell_type": "code",
      "source": [
        "# 전처리 클래스\n",
        "class ImageTransform():\n",
        "\n",
        "    def __init__(self, mean, std):\n",
        "        self.data_transform = transforms.Compose([\n",
        "            transforms.ToTensor(),\n",
        "            transforms.Normalize(mean, std)\n",
        "        ])\n",
        "\n",
        "    def __call__(self, img):\n",
        "        return self.data_transform(img)"
      ],
      "metadata": {
        "id": "khRIm2rjfaZZ"
      },
      "execution_count": 19,
      "outputs": []
    },
    {
      "cell_type": "code",
      "source": [
        "# 전처리한 이미지의 텐서 형식 데이터 획득\n",
        "class GAN_Img_Dataset(data.Dataset):\n",
        "\n",
        "    def __init__(self, file_list, transform):\n",
        "        self.file_list = file_list\n",
        "        self.transform = transform\n",
        "\n",
        "    def __len__(self):\n",
        "        return len(self.file_list)\n",
        "\n",
        "    def __getitem__(self, index):\n",
        "        img_path = self.file_list[index]\n",
        "        img = Image.open(img_path) \n",
        "\n",
        "        img_transformed = self.transform(img)\n",
        "\n",
        "        return img_transformed"
      ],
      "metadata": {
        "id": "zcera59mfgtn"
      },
      "execution_count": 20,
      "outputs": []
    },
    {
      "cell_type": "code",
      "source": [
        "train_img_list = make_datapath_list()\n",
        "\n",
        "mean = (0.5,)\n",
        "std = (0.5,)\n",
        "train_dataset = GAN_Img_Dataset(\n",
        "    file_list=train_img_list, transform=ImageTransform(mean, std))\n",
        "\n",
        "batch_size = 64\n",
        "\n",
        "# Data Loader\n",
        "train_dataloader = torch.utils.data.DataLoader(\n",
        "    train_dataset, batch_size=batch_size, shuffle=True)\n",
        "\n",
        "batch_iterator = iter(train_dataloader)  # 반복자로 변환\n",
        "imges = next(batch_iterator)  # 1번째 요소를 꺼냄\n",
        "print(imges.size())  "
      ],
      "metadata": {
        "colab": {
          "base_uri": "https://localhost:8080/"
        },
        "id": "VS8uzNSAfwMe",
        "outputId": "86921582-c42b-4df2-b8a2-4f61fd706e0b"
      },
      "execution_count": 21,
      "outputs": [
        {
          "output_type": "stream",
          "name": "stdout",
          "text": [
            "torch.Size([64, 1, 64, 64])\n"
          ]
        }
      ]
    },
    {
      "cell_type": "markdown",
      "source": [
        "## Train"
      ],
      "metadata": {
        "id": "CBt30M5eiSXB"
      }
    },
    {
      "cell_type": "code",
      "source": [
        "def train_model(G, D, dataloader, num_epochs):\n",
        "\n",
        "    device = torch.device(\"cuda:0\" if torch.cuda.is_available() else \"cpu\")\n",
        "    print(\"사용 장치: \", device)\n",
        "    \n",
        "    # Optimizer\n",
        "    g_lr, d_lr = 0.0001, 0.0004\n",
        "    beta1, beta2 = 0.0, 0.9\n",
        "    g_optimizer = torch.optim.Adam(G.parameters(), g_lr, [beta1, beta2])\n",
        "    d_optimizer = torch.optim.Adam(D.parameters(), d_lr, [beta1, beta2])\n",
        "\n",
        "    criterion = nn.BCEWithLogitsLoss(reduction='mean')\n",
        "    \n",
        "    # Parameter\n",
        "    z_dim = 20\n",
        "    mini_batch_size = 64\n",
        "\n",
        "    G.to(device)\n",
        "    D.to(device)\n",
        "\n",
        "    G.train()  \n",
        "    D.train()\n",
        "\n",
        "    torch.backends.cudnn.benchmark = True\n",
        "\n",
        "    num_train_imgs = len(dataloader.dataset)\n",
        "    batch_size = dataloader.batch_size\n",
        "\n",
        "    iteration = 1\n",
        "    logs = []\n",
        "\n",
        "    for epoch in range(num_epochs):\n",
        "\n",
        "        t_epoch_start = time.time()\n",
        "        epoch_g_loss = 0.0 \n",
        "        epoch_d_loss = 0.0 \n",
        "\n",
        "        print('-------------')\n",
        "        print('Epoch {}/{}'.format(epoch, num_epochs))\n",
        "        print('-------------')\n",
        "        print('(train)')\n",
        "\n",
        "        # DataLoader에서 minibatch씩 꺼냄\n",
        "        for imges in dataloader:\n",
        "\n",
        "            # --------------------\n",
        "            # 1. Discriminator 학습\n",
        "            # --------------------\n",
        "            if imges.size()[0] == 1:\n",
        "                continue\n",
        "\n",
        "            imges = imges.to(device)\n",
        "            mini_batch_size = imges.size()[0]\n",
        "\n",
        "            label_real = torch.full((mini_batch_size,), 1).to(device)\n",
        "            label_fake = torch.full((mini_batch_size,), 0).to(device)\n",
        "            \n",
        "            # 진짜 이미지 판별\n",
        "            d_out_real, _, _ = D(imges)\n",
        "            \n",
        "            # 가짜 이미지 생성 & 판별\n",
        "            input_z = torch.randn(mini_batch_size, z_dim).to(device)\n",
        "            input_z = input_z.view(input_z.size(0), input_z.size(1), 1, 1)\n",
        "            fake_images, _, _ = G(input_z)\n",
        "            d_out_fake, _, _ = D(fake_images)\n",
        "\n",
        "            # d_loss_real = criterion(d_out_real.view(-1), label_real)\n",
        "            # d_loss_fake = criterion(d_out_fake.view(-1), label_fake)\n",
        "\n",
        "            d_loss_real = torch.nn.ReLU()(1.0 - d_out_real).mean()\n",
        "            # 오차 d_out_real이 1이상에서 오차 0이 된다. d_out_real>1에서,\n",
        "            # 1.0 - d_out_real가 음수이면 ReLU로 0으로 한다\n",
        "\n",
        "            d_loss_fake = torch.nn.ReLU()(1.0 + d_out_fake).mean()\n",
        "            # 오차 d_out_fake가 -1 이하이면 오차 0이 된다. d_out_fake<-1에서,\n",
        "            # 1.0 + d_out_real가 음수이면 ReLU로 0으로 한다\n",
        "\n",
        "            d_loss = d_loss_real + d_loss_fake\n",
        "\n",
        "            # 역전파\n",
        "            g_optimizer.zero_grad()\n",
        "            d_optimizer.zero_grad()\n",
        "\n",
        "            d_loss.backward()\n",
        "            d_optimizer.step()\n",
        "\n",
        "            # --------------------\n",
        "            # 2. Generator 학습\n",
        "            # --------------------\n",
        "            input_z = torch.randn(mini_batch_size, z_dim).to(device)\n",
        "            input_z = input_z.view(input_z.size(0), input_z.size(1), 1, 1)\n",
        "            fake_images, _, _ = G(input_z)\n",
        "            d_out_fake, _, _ = D(fake_images)\n",
        "\n",
        "            # 오차를 계산→hinge version of the adversarial loss로 변경\n",
        "            #g_loss = criterion(d_out_fake.view(-1), label_real)\n",
        "            g_loss = - d_out_fake.mean()\n",
        "\n",
        "            # 역전파\n",
        "            g_optimizer.zero_grad()\n",
        "            d_optimizer.zero_grad()\n",
        "            g_loss.backward()\n",
        "            g_optimizer.step()\n",
        "            \n",
        "            # --------------------\n",
        "            # 3. 기록\n",
        "            # --------------------\n",
        "            epoch_d_loss += d_loss.item()\n",
        "            epoch_g_loss += g_loss.item()\n",
        "            iteration += 1\n",
        "\n",
        "        t_epoch_finish = time.time()\n",
        "        print('-------------')\n",
        "        print('epoch {} || Epoch_D_Loss:{:.4f} ||Epoch_G_Loss:{:.4f}'.format(\n",
        "            epoch, epoch_d_loss/batch_size, epoch_g_loss/batch_size))\n",
        "        print('timer:  {:.4f} sec.'.format(t_epoch_finish - t_epoch_start))\n",
        "        t_epoch_start = time.time()\n",
        "\n",
        "    # print(\"총 반복 횟수: \", iteration)\n",
        "\n",
        "    return G, D"
      ],
      "metadata": {
        "id": "PiRVYozzf6Rz"
      },
      "execution_count": 23,
      "outputs": []
    },
    {
      "cell_type": "code",
      "source": [
        "def weights_init(m):\n",
        "    classname = m.__class__.__name__\n",
        "    if classname.find('Conv') != -1:\n",
        "        # Conv2d과 ConvTranspose2d 초기화\n",
        "        nn.init.normal_(m.weight.data, 0.0, 0.02)\n",
        "        nn.init.constant_(m.bias.data, 0)\n",
        "    elif classname.find('BatchNorm') != -1:\n",
        "        # BatchNorm2d 초기화\n",
        "        nn.init.normal_(m.weight.data, 1.0, 0.02)\n",
        "        nn.init.constant_(m.bias.data, 0)\n",
        "\n",
        "# 초기화 실시\n",
        "G.apply(weights_init)\n",
        "D.apply(weights_init)\n",
        "\n",
        "print(\"네트워크 초기화 완료\")"
      ],
      "metadata": {
        "colab": {
          "base_uri": "https://localhost:8080/"
        },
        "id": "8HebV0wnlxBu",
        "outputId": "c7ebd830-7755-4123-b3a6-ff1fbf6a87bb"
      },
      "execution_count": 24,
      "outputs": [
        {
          "output_type": "stream",
          "name": "stdout",
          "text": [
            "네트워크 초기화 완료\n"
          ]
        }
      ]
    },
    {
      "cell_type": "code",
      "source": [
        "num_epochs = 300\n",
        "G_update, D_update = train_model(G, D, dataloader=train_dataloader, num_epochs=num_epochs)\n"
      ],
      "metadata": {
        "colab": {
          "base_uri": "https://localhost:8080/",
          "height": 432
        },
        "id": "F5IKScuzl5ta",
        "outputId": "b95368f1-9ae3-49a2-fdb0-766c1354966a"
      },
      "execution_count": 25,
      "outputs": [
        {
          "output_type": "stream",
          "name": "stdout",
          "text": [
            "사용 장치:  cpu\n",
            "-------------\n",
            "Epoch 0/300\n",
            "-------------\n",
            "(train)\n"
          ]
        },
        {
          "output_type": "error",
          "ename": "KeyboardInterrupt",
          "evalue": "ignored",
          "traceback": [
            "\u001b[0;31m---------------------------------------------------------------------------\u001b[0m",
            "\u001b[0;31mKeyboardInterrupt\u001b[0m                         Traceback (most recent call last)",
            "\u001b[0;32m<ipython-input-25-cadb007210df>\u001b[0m in \u001b[0;36m<module>\u001b[0;34m()\u001b[0m\n\u001b[1;32m      1\u001b[0m \u001b[0mnum_epochs\u001b[0m \u001b[0;34m=\u001b[0m \u001b[0;36m300\u001b[0m\u001b[0;34m\u001b[0m\u001b[0;34m\u001b[0m\u001b[0m\n\u001b[0;32m----> 2\u001b[0;31m \u001b[0mG_update\u001b[0m\u001b[0;34m,\u001b[0m \u001b[0mD_update\u001b[0m \u001b[0;34m=\u001b[0m \u001b[0mtrain_model\u001b[0m\u001b[0;34m(\u001b[0m\u001b[0mG\u001b[0m\u001b[0;34m,\u001b[0m \u001b[0mD\u001b[0m\u001b[0;34m,\u001b[0m \u001b[0mdataloader\u001b[0m\u001b[0;34m=\u001b[0m\u001b[0mtrain_dataloader\u001b[0m\u001b[0;34m,\u001b[0m \u001b[0mnum_epochs\u001b[0m\u001b[0;34m=\u001b[0m\u001b[0mnum_epochs\u001b[0m\u001b[0;34m)\u001b[0m\u001b[0;34m\u001b[0m\u001b[0;34m\u001b[0m\u001b[0m\n\u001b[0m",
            "\u001b[0;32m<ipython-input-23-59f22f954843>\u001b[0m in \u001b[0;36mtrain_model\u001b[0;34m(G, D, dataloader, num_epochs)\u001b[0m\n\u001b[1;32m    100\u001b[0m             \u001b[0mg_optimizer\u001b[0m\u001b[0;34m.\u001b[0m\u001b[0mzero_grad\u001b[0m\u001b[0;34m(\u001b[0m\u001b[0;34m)\u001b[0m\u001b[0;34m\u001b[0m\u001b[0;34m\u001b[0m\u001b[0m\n\u001b[1;32m    101\u001b[0m             \u001b[0md_optimizer\u001b[0m\u001b[0;34m.\u001b[0m\u001b[0mzero_grad\u001b[0m\u001b[0;34m(\u001b[0m\u001b[0;34m)\u001b[0m\u001b[0;34m\u001b[0m\u001b[0;34m\u001b[0m\u001b[0m\n\u001b[0;32m--> 102\u001b[0;31m             \u001b[0mg_loss\u001b[0m\u001b[0;34m.\u001b[0m\u001b[0mbackward\u001b[0m\u001b[0;34m(\u001b[0m\u001b[0;34m)\u001b[0m\u001b[0;34m\u001b[0m\u001b[0;34m\u001b[0m\u001b[0m\n\u001b[0m\u001b[1;32m    103\u001b[0m             \u001b[0mg_optimizer\u001b[0m\u001b[0;34m.\u001b[0m\u001b[0mstep\u001b[0m\u001b[0;34m(\u001b[0m\u001b[0;34m)\u001b[0m\u001b[0;34m\u001b[0m\u001b[0;34m\u001b[0m\u001b[0m\n\u001b[1;32m    104\u001b[0m \u001b[0;34m\u001b[0m\u001b[0m\n",
            "\u001b[0;32m/usr/local/lib/python3.7/dist-packages/torch/_tensor.py\u001b[0m in \u001b[0;36mbackward\u001b[0;34m(self, gradient, retain_graph, create_graph, inputs)\u001b[0m\n\u001b[1;32m    305\u001b[0m                 \u001b[0mcreate_graph\u001b[0m\u001b[0;34m=\u001b[0m\u001b[0mcreate_graph\u001b[0m\u001b[0;34m,\u001b[0m\u001b[0;34m\u001b[0m\u001b[0;34m\u001b[0m\u001b[0m\n\u001b[1;32m    306\u001b[0m                 inputs=inputs)\n\u001b[0;32m--> 307\u001b[0;31m         \u001b[0mtorch\u001b[0m\u001b[0;34m.\u001b[0m\u001b[0mautograd\u001b[0m\u001b[0;34m.\u001b[0m\u001b[0mbackward\u001b[0m\u001b[0;34m(\u001b[0m\u001b[0mself\u001b[0m\u001b[0;34m,\u001b[0m \u001b[0mgradient\u001b[0m\u001b[0;34m,\u001b[0m \u001b[0mretain_graph\u001b[0m\u001b[0;34m,\u001b[0m \u001b[0mcreate_graph\u001b[0m\u001b[0;34m,\u001b[0m \u001b[0minputs\u001b[0m\u001b[0;34m=\u001b[0m\u001b[0minputs\u001b[0m\u001b[0;34m)\u001b[0m\u001b[0;34m\u001b[0m\u001b[0;34m\u001b[0m\u001b[0m\n\u001b[0m\u001b[1;32m    308\u001b[0m \u001b[0;34m\u001b[0m\u001b[0m\n\u001b[1;32m    309\u001b[0m     \u001b[0;32mdef\u001b[0m \u001b[0mregister_hook\u001b[0m\u001b[0;34m(\u001b[0m\u001b[0mself\u001b[0m\u001b[0;34m,\u001b[0m \u001b[0mhook\u001b[0m\u001b[0;34m)\u001b[0m\u001b[0;34m:\u001b[0m\u001b[0;34m\u001b[0m\u001b[0;34m\u001b[0m\u001b[0m\n",
            "\u001b[0;32m/usr/local/lib/python3.7/dist-packages/torch/autograd/__init__.py\u001b[0m in \u001b[0;36mbackward\u001b[0;34m(tensors, grad_tensors, retain_graph, create_graph, grad_variables, inputs)\u001b[0m\n\u001b[1;32m    154\u001b[0m     Variable._execution_engine.run_backward(\n\u001b[1;32m    155\u001b[0m         \u001b[0mtensors\u001b[0m\u001b[0;34m,\u001b[0m \u001b[0mgrad_tensors_\u001b[0m\u001b[0;34m,\u001b[0m \u001b[0mretain_graph\u001b[0m\u001b[0;34m,\u001b[0m \u001b[0mcreate_graph\u001b[0m\u001b[0;34m,\u001b[0m \u001b[0minputs\u001b[0m\u001b[0;34m,\u001b[0m\u001b[0;34m\u001b[0m\u001b[0;34m\u001b[0m\u001b[0m\n\u001b[0;32m--> 156\u001b[0;31m         allow_unreachable=True, accumulate_grad=True)  # allow_unreachable flag\n\u001b[0m\u001b[1;32m    157\u001b[0m \u001b[0;34m\u001b[0m\u001b[0m\n\u001b[1;32m    158\u001b[0m \u001b[0;34m\u001b[0m\u001b[0m\n",
            "\u001b[0;31mKeyboardInterrupt\u001b[0m: "
          ]
        }
      ]
    },
    {
      "cell_type": "code",
      "source": [
        ""
      ],
      "metadata": {
        "id": "J9uGpl3Fl9h9"
      },
      "execution_count": null,
      "outputs": []
    }
  ]
}