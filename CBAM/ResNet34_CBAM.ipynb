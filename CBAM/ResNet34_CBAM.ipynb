{
  "nbformat": 4,
  "nbformat_minor": 0,
  "metadata": {
    "colab": {
      "name": "CBAM_ResNet34.ipynb",
      "provenance": []
    },
    "kernelspec": {
      "name": "python3",
      "display_name": "Python 3"
    },
    "language_info": {
      "name": "python"
    },
    "accelerator": "GPU"
  },
  "cells": [
    {
      "cell_type": "markdown",
      "source": [
        "https://github.com/Jongchan/attention-module"
      ],
      "metadata": {
        "id": "flRhVZ7plQTc"
      }
    },
    {
      "cell_type": "markdown",
      "source": [
        "## CBAM"
      ],
      "metadata": {
        "id": "y29Hxl5NlENU"
      }
    },
    {
      "cell_type": "code",
      "source": [
        "import torch\n",
        "import math\n",
        "import torch.nn as nn\n",
        "import torch.nn.functional as F\n",
        "\n",
        "class BasicConv(nn.Module):\n",
        "    def __init__(self, in_planes, out_planes, kernel_size, stride=1, padding=0, dilation=1, groups=1, relu=True, bn=True, bias=False):\n",
        "        super(BasicConv, self).__init__()\n",
        "        self.out_channels = out_planes\n",
        "        self.conv = nn.Conv2d(in_planes, out_planes, kernel_size=kernel_size, stride=stride, padding=padding, dilation=dilation, groups=groups, bias=bias)\n",
        "        self.bn = nn.BatchNorm2d(out_planes,eps=1e-5, momentum=0.01, affine=True) if bn else None\n",
        "        self.relu = nn.ReLU() if relu else None\n",
        "\n",
        "    def forward(self, x):\n",
        "        x = self.conv(x)\n",
        "        if self.bn is not None:\n",
        "            x = self.bn(x)\n",
        "        if self.relu is not None:\n",
        "            x = self.relu(x)\n",
        "        return x"
      ],
      "metadata": {
        "id": "NW20mxnqZz8J"
      },
      "execution_count": null,
      "outputs": []
    },
    {
      "cell_type": "code",
      "source": [
        "class Flatten(nn.Module):\n",
        "    def forward(self, x):\n",
        "        return x.view(x.size(0), -1)\n",
        "\n",
        "class ChannelGate(nn.Module):\n",
        "    '''Generate 2 different(avg, pool) spatial context descriptors to refine input feature'''\n",
        "    def __init__(self, gate_channels, reduction_ratio=16, pool_types=['avg', 'max']):\n",
        "        super(ChannelGate, self).__init__()\n",
        "        self.gate_channels = gate_channels\n",
        "\n",
        "        # Shared MLP\n",
        "        self.mlp = nn.Sequential(\n",
        "            Flatten(),\n",
        "            nn.Linear(gate_channels, gate_channels // reduction_ratio),  # reduction\n",
        "            nn.ReLU(),\n",
        "            nn.Linear(gate_channels // reduction_ratio, gate_channels)  # restoration\n",
        "            )\n",
        "        \n",
        "        self.pool_types = pool_types\n",
        "\n",
        "    def forward(self, x):\n",
        "        '''x: Input feature  (N, C, h, w)\n",
        "           kernel_size of pooling operation = (h, w) -> squeeze the spatial dimension'''\n",
        "        channel_att_sum = None  # It should be MLP(AvgPool(x)) + MLP(MaxPool(x))\n",
        "        for pool_type in self.pool_types:\n",
        "            if pool_type=='avg':\n",
        "                avg_pool = F.avg_pool2d(x, (x.size(2), x.size(3)), stride=(x.size(2), x.size(3)))  # (N, C, 1, 1)\n",
        "                channel_att_raw = self.mlp(avg_pool)  # (N, C)\n",
        "                print('channel_att_raw_avg :', channel_att_raw.shape)\n",
        "\n",
        "            elif pool_type=='max':\n",
        "                max_pool = F.max_pool2d(x, (x.size(2), x.size(3)), stride=(x.size(2), x.size(3)))  # (N, C, 1, 1)\n",
        "                channel_att_raw = self.mlp(max_pool)  # (N, C)\n",
        "                print('channel_att_raw_max :', channel_att_raw.shape)\n",
        "\n",
        "            if channel_att_sum is None:\n",
        "                channel_att_sum = channel_att_raw\n",
        "\n",
        "            else:\n",
        "                channel_att_sum = channel_att_sum + channel_att_raw  # (N, C) - Channel Attention Map\n",
        "        \n",
        "        # Sigmoid & Broad-casting (N, C) -> (N, C, 1) -> (N, C, 1, 1) -> (N, C, h, w)\n",
        "        scale = F.sigmoid(channel_att_sum).unsqueeze(2).unsqueeze(3).expand_as(x)  \n",
        "        \n",
        "        # Feature Refinement \n",
        "        return x * scale  # (N, C, h, w)"
      ],
      "metadata": {
        "id": "tfsV4w1qfYXu"
      },
      "execution_count": null,
      "outputs": []
    },
    {
      "cell_type": "code",
      "source": [
        "class ChannelPool(nn.Module):\n",
        "    '''Apply max pooling & avg pooling along the channel axis and concatenate them\n",
        "       to generate an efficient feature descriptor'''\n",
        "    def forward(self, x):\n",
        "        return torch.cat((torch.max(x, 1)[0].unsqueeze(1), torch.mean(x, 1).unsqueeze(1)), dim=1)\n",
        "\n",
        "class SpatialGate(nn.Module):\n",
        "    '''Produce 2D spatial attention map to refine channel-refined feature (sequential)'''\n",
        "    def __init__(self):\n",
        "        super(SpatialGate, self).__init__()\n",
        "        kernel_size = 7\n",
        "        self.compress = ChannelPool()\n",
        "        self.spatial = BasicConv(2, 1, kernel_size, stride=1, padding=(kernel_size-1) // 2, relu=False)\n",
        "\n",
        "    def forward(self, x):\n",
        "        '''x: channel-refined feature (sequential)'''\n",
        "        x_compress = self.compress(x)  # (N, 2, h, w)\n",
        "        x_out = self.spatial(x_compress)  # (N, 1, h, w) - Spatial Attention Map\n",
        "        scale = F.sigmoid(x_out)  # broadcasting\n",
        "\n",
        "        return x * scale\n"
      ],
      "metadata": {
        "id": "nRCvrMzXfZNz"
      },
      "execution_count": null,
      "outputs": []
    },
    {
      "cell_type": "code",
      "source": [
        "class CBAM(nn.Module):\n",
        "    def __init__(self, gate_channels, reduction_ratio=16, pool_types=['avg', 'max'], no_spatial=False):\n",
        "        super(CBAM, self).__init__()\n",
        "        self.ChannelGate = ChannelGate(gate_channels, reduction_ratio, pool_types)\n",
        "        self.no_spatial = no_spatial\n",
        "        if not no_spatial:\n",
        "            self.SpatialGate = SpatialGate()\n",
        "\n",
        "    def forward(self, x):\n",
        "        '''x: Input feature'''\n",
        "        x_out = self.ChannelGate(x)  # Channel-refinement\n",
        "        if not self.no_spatial:\n",
        "            x_out = self.SpatialGate(x_out)  # Spatial-refinement\n",
        "\n",
        "        return x_out  # Refined feature"
      ],
      "metadata": {
        "id": "mh33BTKPgaJD"
      },
      "execution_count": null,
      "outputs": []
    },
    {
      "cell_type": "markdown",
      "source": [
        "## CBAM - ResNet34"
      ],
      "metadata": {
        "id": "KWtzkbeAlGCN"
      }
    },
    {
      "cell_type": "code",
      "source": [
        "def conv3x3(in_planes, out_planes, stride=1):\n",
        "    \"3x3 convolution with padding\"\n",
        "    return nn.Conv2d(in_planes, out_planes, kernel_size=3, stride=stride,\n",
        "                     padding=1, bias=False)\n",
        "\n",
        "class BasicBlock(nn.Module):\n",
        "    '''Conv Block Attention Module'''\n",
        "    expansion = 1\n",
        "\n",
        "    def __init__(self, inplanes, planes, stride=1, downsample=None, use_cbam=True):\n",
        "        super(BasicBlock, self).__init__()\n",
        "        self.conv1 = conv3x3(inplanes, planes, stride)\n",
        "        self.bn1 = nn.BatchNorm2d(planes)\n",
        "        self.relu = nn.ReLU(inplace=True)\n",
        "\n",
        "        self.conv2 = conv3x3(planes, planes)\n",
        "        self.bn2 = nn.BatchNorm2d(planes)\n",
        "\n",
        "        self.downsample = downsample\n",
        "        self.stride = stride\n",
        "  \n",
        "        if use_cbam:  # feature refinement\n",
        "            self.cbam = CBAM(planes, 16)  # in_ch, reduction ratio    \n",
        "        else:\n",
        "            self.cbam = None\n",
        "\n",
        "    def forward(self, x):\n",
        "        residual = x\n",
        "\n",
        "        out = self.conv1(x)\n",
        "        out = self.bn1(out)\n",
        "        out = self.relu(out)\n",
        "\n",
        "        out = self.conv2(out)\n",
        "        out = self.bn2(out)\n",
        "\n",
        "        if self.downsample is not None:\n",
        "            residual = self.downsample(x)\n",
        "\n",
        "        if not self.cbam is None:\n",
        "            out = self.cbam(out)\n",
        "\n",
        "        out += residual\n",
        "        out = self.relu(out)\n",
        "\n",
        "        return out"
      ],
      "metadata": {
        "id": "x-6mNu0NaxTC"
      },
      "execution_count": null,
      "outputs": []
    },
    {
      "cell_type": "code",
      "source": [
        "import torch\n",
        "import torch.nn as nn\n",
        "import torch.nn.functional as F\n",
        "import math\n",
        "from torch.nn import init\n",
        "#from .cbam import *\n",
        "#from .bam import *\n",
        "\n",
        "class ResNet34(nn.Module):\n",
        "    def __init__(self, block, layers,  network_type, num_classes, att_type=None):\n",
        "        '''block = BasicBlock\n",
        "           layers = [3, 4, 6, 3] for ResNet34'''\n",
        "        self.inplanes = 64\n",
        "        super(ResNet34, self).__init__()\n",
        "        self.network_type = network_type\n",
        "        # different model config between ImageNet and CIFAR \n",
        "        if network_type == \"ImageNet\":\n",
        "            self.conv1 = nn.Conv2d(3, 64, kernel_size=7, stride=2, padding=3, bias=False)\n",
        "            self.maxpool = nn.MaxPool2d(kernel_size=3, stride=2, padding=1)\n",
        "            self.avgpool = nn.AvgPool2d(7)\n",
        "        else:\n",
        "            self.conv1 = nn.Conv2d(3, 64, kernel_size=3, stride=1, padding=1, bias=False)\n",
        "\n",
        "        self.bn1 = nn.BatchNorm2d(64)\n",
        "        self.relu = nn.ReLU(inplace=True)\n",
        "        \n",
        "        # make_layer(block, planes, blocks, stride=1, att_type)\n",
        "        self.layer1 = self._make_layer(block, 64,  layers[0], stride=1, att_type=att_type)\n",
        "        self.layer2 = self._make_layer(block, 128, layers[1], stride=2, att_type=att_type)\n",
        "        self.layer3 = self._make_layer(block, 256, layers[2], stride=2, att_type=att_type)\n",
        "        self.layer4 = self._make_layer(block, 512, layers[3], stride=2, att_type=att_type)\n",
        "\n",
        "        self.fc = nn.Linear(512 * block.expansion, num_classes)\n",
        "\n",
        "        init.kaiming_normal(self.fc.weight)\n",
        "        for key in self.state_dict():\n",
        "            if key.split('.')[-1]==\"weight\":\n",
        "                if \"conv\" in key:\n",
        "                    init.kaiming_normal(self.state_dict()[key], mode='fan_out')\n",
        "                if \"bn\" in key:\n",
        "                    if \"SpatialGate\" in key:\n",
        "                        self.state_dict()[key][...] = 0\n",
        "                    else:\n",
        "                        self.state_dict()[key][...] = 1\n",
        "            elif key.split(\".\")[-1]=='bias':\n",
        "                self.state_dict()[key][...] = 0\n",
        "        \n",
        "        def _make_layer(self, block, planes, blocks, stride=1, att_type=None):\n",
        "            downsample = None\n",
        "            if stride != 1 or self.inplanes != planes * block.expansion:\n",
        "                downsample = nn.Sequential(\n",
        "                    nn.Conv2d(self.inplanes, planes * block.expansion,\n",
        "                              kernel_size=1, stride=stride, bias=False),\n",
        "                    nn.BatchNorm2d(planes * block.expansion),\n",
        "                )\n",
        "\n",
        "            layers = []\n",
        "            layers.append(block(self.inplanes, planes, stride, downsample, use_cbam=att_type=='CBAM'))\n",
        "            self.inplanes = planes * block.expansion\n",
        "            for i in range(1, blocks):\n",
        "                layers.append(block(self.inplanes, planes, use_cbam=att_type=='CBAM'))\n",
        "\n",
        "            return nn.Sequential(*layers)\n",
        "\n",
        "        def forward(self, x):\n",
        "            x = self.conv1(x)\n",
        "            x = self.bn1(x)\n",
        "            x = self.relu(x)\n",
        "            if self.network_type == \"ImageNet\":\n",
        "                x = self.maxpool(x)\n",
        "\n",
        "            x = self.layer1(x)\n",
        "            if not self.bam1 is None:\n",
        "                x = self.bam1(x)\n",
        "\n",
        "            x = self.layer2(x)\n",
        "            if not self.bam2 is None:\n",
        "                x = self.bam2(x)\n",
        "\n",
        "            x = self.layer3(x)\n",
        "            if not self.bam3 is None:\n",
        "                x = self.bam3(x)\n",
        "\n",
        "            x = self.layer4(x)\n",
        "\n",
        "            if self.network_type == \"ImageNet\":\n",
        "                x = self.avgpool(x)\n",
        "            else:\n",
        "                x = F.avg_pool2d(x, 4)\n",
        "            x = x.view(x.size(0), -1)\n",
        "            x = self.fc(x)\n",
        "\n",
        "            return x"
      ],
      "metadata": {
        "id": "8dM_Z0RRlixT"
      },
      "execution_count": null,
      "outputs": []
    },
    {
      "cell_type": "code",
      "source": [
        ""
      ],
      "metadata": {
        "id": "-E-Yq1MJmEG0"
      },
      "execution_count": null,
      "outputs": []
    }
  ]
}