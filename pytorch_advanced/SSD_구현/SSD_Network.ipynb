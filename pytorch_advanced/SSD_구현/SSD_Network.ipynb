{
  "nbformat": 4,
  "nbformat_minor": 0,
  "metadata": {
    "colab": {
      "name": "SSD_Network.ipynb",
      "provenance": []
    },
    "kernelspec": {
      "name": "python3",
      "display_name": "Python 3"
    },
    "language_info": {
      "name": "python"
    },
    "accelerator": "GPU"
  },
  "cells": [
    {
      "cell_type": "code",
      "execution_count": null,
      "metadata": {
        "id": "OwPz_eqB_PRb"
      },
      "outputs": [],
      "source": [
        ""
      ]
    },
    {
      "cell_type": "markdown",
      "source": [
        "1. SSD 네트워크 모델 구축\n",
        "\n",
        "2. DBox 구현"
      ],
      "metadata": {
        "id": "jmRRpZUK_sDy"
      }
    },
    {
      "cell_type": "code",
      "source": [
        "from math import sqrt\n",
        "from itertools import product\n",
        "\n",
        "import pandas as pd\n",
        "import torch\n",
        "from torch.autograd import Function\n",
        "import torch.nn as nn\n",
        "import torch.nn.functional as F\n",
        "import torch.nn.init as init"
      ],
      "metadata": {
        "id": "X2Ya7gRs_yfN"
      },
      "execution_count": 1,
      "outputs": []
    },
    {
      "cell_type": "markdown",
      "source": [
        "## 네트워크 개요\n",
        "\n",
        "1. 입력 이미지는 첫번 째로 VGG 모듈을 통과.\n",
        "  \n",
        "  - 총 10회의 convolution 연산을 수행한 feature map (conv4_3)은 별도로 추출하여 L2 정규화 적용. (source 1, 38x38x512)\n",
        "\n",
        "2. vgg 모듈의 최종 output feature map은 19x19x1024 (source 2)\n",
        "\n",
        "3. source2를 extra 모듈의 입력으로 제공. 총 8회의 convolution 연산 중 2회 마다 중간 결과 feature map을 source 3~6으로 지칭 (10x10x512, 5x5x256, 3x3x256, 1x1x256|)\n",
        "\n",
        "4. loc 모듈은 source1~6을 각각 입력으로 받아 개별적으로 1회씩 convolution 연산 수행 -> 8732개의 Dbox offset 정보 반환\n",
        "\n",
        "5. conf 모듈은 source1~6을 각각 입력으로 받아 개별적으로 1회씩 convolution 연산을 수행 -> 8732개 Dbox에 대한 클래스 신뢰도 반환"
      ],
      "metadata": {
        "id": "-YlR95VFRI03"
      }
    },
    {
      "cell_type": "markdown",
      "source": [
        "## 1. VGG 모듈\n",
        "\n"
      ],
      "metadata": {
        "id": "QVc4rserQITo"
      }
    },
    {
      "cell_type": "code",
      "source": [
        "def make_vgg():\n",
        "    layers = []\n",
        "    in_channels = 3\n",
        "    \n",
        "    # vgg 모듈이 사용하는 합성곱 층, 맥스 풀링 채널 수 지정\n",
        "    cfg = [64, 64, 'M', 128, 128, 'M', 256, 256, 256, 'MC',\n",
        "           512, 512, 512, 'M', 512, 512, 512]\n",
        "\n",
        "    for v in cfg:\n",
        "        if v == 'M':\n",
        "            layers += [nn.MaxPool2d(kernel_size=2, stride=2)]\n",
        "        elif v == 'MC':\n",
        "            layers += [nn.MaxPool2d(kernel_size=2, stride=2, ceil_mode=True)]\n",
        "        else:\n",
        "            conv2d = nn.Conv2d(in_channels, v, kernel_size=3, padding=1)\n",
        "            layers += [conv2d, nn.ReLU(inplace=True)]\n",
        "            in_channels = v\n",
        "    \n",
        "    pool5 = nn.MaxPool2d(kernel_size=3, stride=1, padding=1)\n",
        "    conv6 = nn.Conv2d(512, 1024, kernel_size=3, padding=6, dilation=6)\n",
        "    conv7 = nn.Conv2d(1024, 1024, kernel_size=1)\n",
        "    layers += [pool5, conv6,\n",
        "               nn.ReLU(inplace=True), conv7, nn.ReLU(inplace=True)]\n",
        "    \n",
        "    return nn.ModuleList(layers)"
      ],
      "metadata": {
        "id": "KPjpJFvlPf3N"
      },
      "execution_count": 2,
      "outputs": []
    },
    {
      "cell_type": "code",
      "source": [
        "vgg_test = make_vgg()\n",
        "print(vgg_test)"
      ],
      "metadata": {
        "colab": {
          "base_uri": "https://localhost:8080/"
        },
        "id": "dOiEMbUMToMv",
        "outputId": "60b1b1a7-3ccc-4b01-c1f6-b7be79a08436"
      },
      "execution_count": 3,
      "outputs": [
        {
          "output_type": "stream",
          "name": "stdout",
          "text": [
            "ModuleList(\n",
            "  (0): Conv2d(3, 64, kernel_size=(3, 3), stride=(1, 1), padding=(1, 1))\n",
            "  (1): ReLU(inplace=True)\n",
            "  (2): Conv2d(64, 64, kernel_size=(3, 3), stride=(1, 1), padding=(1, 1))\n",
            "  (3): ReLU(inplace=True)\n",
            "  (4): MaxPool2d(kernel_size=2, stride=2, padding=0, dilation=1, ceil_mode=False)\n",
            "  (5): Conv2d(64, 128, kernel_size=(3, 3), stride=(1, 1), padding=(1, 1))\n",
            "  (6): ReLU(inplace=True)\n",
            "  (7): Conv2d(128, 128, kernel_size=(3, 3), stride=(1, 1), padding=(1, 1))\n",
            "  (8): ReLU(inplace=True)\n",
            "  (9): MaxPool2d(kernel_size=2, stride=2, padding=0, dilation=1, ceil_mode=False)\n",
            "  (10): Conv2d(128, 256, kernel_size=(3, 3), stride=(1, 1), padding=(1, 1))\n",
            "  (11): ReLU(inplace=True)\n",
            "  (12): Conv2d(256, 256, kernel_size=(3, 3), stride=(1, 1), padding=(1, 1))\n",
            "  (13): ReLU(inplace=True)\n",
            "  (14): Conv2d(256, 256, kernel_size=(3, 3), stride=(1, 1), padding=(1, 1))\n",
            "  (15): ReLU(inplace=True)\n",
            "  (16): MaxPool2d(kernel_size=2, stride=2, padding=0, dilation=1, ceil_mode=True)\n",
            "  (17): Conv2d(256, 512, kernel_size=(3, 3), stride=(1, 1), padding=(1, 1))\n",
            "  (18): ReLU(inplace=True)\n",
            "  (19): Conv2d(512, 512, kernel_size=(3, 3), stride=(1, 1), padding=(1, 1))\n",
            "  (20): ReLU(inplace=True)\n",
            "  (21): Conv2d(512, 512, kernel_size=(3, 3), stride=(1, 1), padding=(1, 1))\n",
            "  (22): ReLU(inplace=True)\n",
            "  (23): MaxPool2d(kernel_size=2, stride=2, padding=0, dilation=1, ceil_mode=False)\n",
            "  (24): Conv2d(512, 512, kernel_size=(3, 3), stride=(1, 1), padding=(1, 1))\n",
            "  (25): ReLU(inplace=True)\n",
            "  (26): Conv2d(512, 512, kernel_size=(3, 3), stride=(1, 1), padding=(1, 1))\n",
            "  (27): ReLU(inplace=True)\n",
            "  (28): Conv2d(512, 512, kernel_size=(3, 3), stride=(1, 1), padding=(1, 1))\n",
            "  (29): ReLU(inplace=True)\n",
            "  (30): MaxPool2d(kernel_size=3, stride=1, padding=1, dilation=1, ceil_mode=False)\n",
            "  (31): Conv2d(512, 1024, kernel_size=(3, 3), stride=(1, 1), padding=(6, 6), dilation=(6, 6))\n",
            "  (32): ReLU(inplace=True)\n",
            "  (33): Conv2d(1024, 1024, kernel_size=(1, 1), stride=(1, 1))\n",
            "  (34): ReLU(inplace=True)\n",
            ")\n"
          ]
        }
      ]
    },
    {
      "cell_type": "markdown",
      "source": [
        "## 2. extra"
      ],
      "metadata": {
        "id": "J7elPafJTqjs"
      }
    },
    {
      "cell_type": "code",
      "source": [
        "def make_extras():\n",
        "    layers = []\n",
        "    in_channels = 1024  # vgg 모듈 최종 feature map은 1024 채널 (source2의 채널)\n",
        "\n",
        "    # 합성곱 layer 채널수 설정\n",
        "    # 2개의 convolution block마다 source 출력 (1x1 conv, 3x3 conv로 구성된 bottlencek과 유사한 구조)\n",
        "    cfg = [256, 512, 128, 256, 128, 256, 128, 256]\n",
        "    \n",
        "    # source3\n",
        "    layers += [nn.Conv2d(in_channels, cfg[0], kernel_size=(1))]  # 1024 -> 256\n",
        "    layers += [nn.Conv2d(cfg[0], cfg[1], kernel_size=(3), stride=2, padding=1)]  # 256 -> 512\n",
        "\n",
        "    # source4\n",
        "    layers += [nn.Conv2d(cfg[1], cfg[2], kernel_size=(1))]  # 512 -> 128\n",
        "    layers += [nn.Conv2d(cfg[2], cfg[3], kernel_size=(3), stride=2, padding=1)]  # 128 -> 256\n",
        "\n",
        "    # source5\n",
        "    layers += [nn.Conv2d(cfg[3], cfg[4], kernel_size=(1))]  # 256 -> 128\n",
        "    layers += [nn.Conv2d(cfg[4], cfg[5], kernel_size=(3))]  # 128 -> 256\n",
        "\n",
        "    # source6\n",
        "    layers += [nn.Conv2d(cfg[5], cfg[6], kernel_size=(1))]  # 256 -> 128\n",
        "    layers += [nn.Conv2d(cfg[6], cfg[7], kernel_size=(3))]  # 128 -> 256\n",
        "\n",
        "    return nn.ModuleList(layers)"
      ],
      "metadata": {
        "id": "BYN-BqltToYH"
      },
      "execution_count": 4,
      "outputs": []
    },
    {
      "cell_type": "code",
      "source": [
        "extras_test = make_extras()\n",
        "print(extras_test)"
      ],
      "metadata": {
        "colab": {
          "base_uri": "https://localhost:8080/"
        },
        "id": "eT6XRg-lVPla",
        "outputId": "000a278f-0907-4031-ae99-8ccda21b4a5f"
      },
      "execution_count": 5,
      "outputs": [
        {
          "output_type": "stream",
          "name": "stdout",
          "text": [
            "ModuleList(\n",
            "  (0): Conv2d(1024, 256, kernel_size=(1, 1), stride=(1, 1))\n",
            "  (1): Conv2d(256, 512, kernel_size=(3, 3), stride=(2, 2), padding=(1, 1))\n",
            "  (2): Conv2d(512, 128, kernel_size=(1, 1), stride=(1, 1))\n",
            "  (3): Conv2d(128, 256, kernel_size=(3, 3), stride=(2, 2), padding=(1, 1))\n",
            "  (4): Conv2d(256, 128, kernel_size=(1, 1), stride=(1, 1))\n",
            "  (5): Conv2d(128, 256, kernel_size=(3, 3), stride=(1, 1))\n",
            "  (6): Conv2d(256, 128, kernel_size=(1, 1), stride=(1, 1))\n",
            "  (7): Conv2d(128, 256, kernel_size=(3, 3), stride=(1, 1))\n",
            ")\n"
          ]
        }
      ]
    },
    {
      "cell_type": "markdown",
      "source": [
        "`source1` : 38 x 38 x 512\n",
        "\n",
        "`source2` : 19 x 19 x 1024\n",
        "\n",
        "`source3` : 10 x 10 x 512\n",
        "\n",
        "`source4` : 5 x 5 x 256\n",
        "\n",
        "`source5` : 3 x 3 x 256\n",
        "\n",
        "`source6` : 1 x 1 x 256"
      ],
      "metadata": {
        "id": "OlpF09aZ6UMv"
      }
    },
    {
      "cell_type": "markdown",
      "source": [
        "## 3. loc & conf\n",
        "\n",
        "loc는 DBox의 offset 정보 출력\n",
        "\n",
        "conf는 각 클래스에 대한 신뢰도 출력"
      ],
      "metadata": {
        "id": "saaZuziYVY4b"
      }
    },
    {
      "cell_type": "code",
      "source": [
        "# bbox_aspect_num : source별로 개별 feature map에 존재하는 DBox의 종류\n",
        "# ex) source1 : 38x38x4 (각 픽셀 당 4개의 DBox)  /  source2 :19x19x6 (각 픽셀 당 6개 DBox)\n",
        "def make_loc_conf(num_classes=21, bbox_aspect_num=[4, 6, 6, 6, 4, 4]):\n",
        "\n",
        "    loc_layers = []\n",
        "    conf_layers = []\n",
        "    \n",
        "    # source1 처리\n",
        "    loc_layers += [nn.Conv2d(512, bbox_aspect_num[0] * 4, kernel_size=3, padding=1)]  # DBox의 좌표 정보\n",
        "    conf_layers += [nn.Conv2d(512, bbox_aspect_num[0] * num_classes, kernel_size=3, padding=1)]  # 21개 클래스에 대한 DBox 신뢰도\n",
        "\n",
        "    # VGG 모듈 최종 output(source2) 처리\n",
        "    loc_layers += [nn.Conv2d(1024, bbox_aspect_num[1] * 4, kernel_size=3, padding=1)]\n",
        "    conf_layers += [nn.Conv2d(1024, bbox_aspect_num[1] * num_classes, kernel_size=3, padding=1)]\n",
        "    \n",
        "    ## extra outputs\n",
        "    # source3 처리\n",
        "    loc_layers += [nn.Conv2d(512, bbox_aspect_num[2] * 4, kernel_size=3, padding=1)]\n",
        "    conf_layers += [nn.Conv2d(512, bbox_aspect_num[2] * num_classes, kernel_size=3, padding=1)]\n",
        "\n",
        "    # source4 처리\n",
        "    loc_layers += [nn.Conv2d(256, bbox_aspect_num[3] * 4, kernel_size=3, padding=1)]\n",
        "    conf_layers += [nn.Conv2d(256, bbox_aspect_num[3] * num_classes, kernel_size=3, padding=1)]\n",
        "\n",
        "    # source5 처리\n",
        "    loc_layers += [nn.Conv2d(256, bbox_aspect_num[4] * 4, kernel_size=3, padding=1)]\n",
        "    conf_layers += [nn.Conv2d(256, bbox_aspect_num[4] * num_classes, kernel_size=3, padding=1)]\n",
        "\n",
        "    # source6 처리\n",
        "    loc_layers += [nn.Conv2d(256, bbox_aspect_num[5] * 4, kernel_size=3, padding=1)]\n",
        "    conf_layers += [nn.Conv2d(256, bbox_aspect_num[5] * num_classes, kernel_size=3, padding=1)]\n",
        "\n",
        "    return nn.ModuleList(loc_layers), nn.ModuleList(conf_layers)\n"
      ],
      "metadata": {
        "id": "P9TSv1_UVWcM"
      },
      "execution_count": 6,
      "outputs": []
    },
    {
      "cell_type": "code",
      "source": [
        "# 동작 확인\n",
        "loc_test, conf_test = make_loc_conf()\n",
        "print(loc_test)\n",
        "print(conf_test)"
      ],
      "metadata": {
        "colab": {
          "base_uri": "https://localhost:8080/"
        },
        "id": "tutnBAxC7b2A",
        "outputId": "150d91fc-5d6f-49bc-8feb-148bd906a5fc"
      },
      "execution_count": 7,
      "outputs": [
        {
          "output_type": "stream",
          "name": "stdout",
          "text": [
            "ModuleList(\n",
            "  (0): Conv2d(512, 16, kernel_size=(3, 3), stride=(1, 1), padding=(1, 1))\n",
            "  (1): Conv2d(1024, 24, kernel_size=(3, 3), stride=(1, 1), padding=(1, 1))\n",
            "  (2): Conv2d(512, 24, kernel_size=(3, 3), stride=(1, 1), padding=(1, 1))\n",
            "  (3): Conv2d(256, 24, kernel_size=(3, 3), stride=(1, 1), padding=(1, 1))\n",
            "  (4): Conv2d(256, 16, kernel_size=(3, 3), stride=(1, 1), padding=(1, 1))\n",
            "  (5): Conv2d(256, 16, kernel_size=(3, 3), stride=(1, 1), padding=(1, 1))\n",
            ")\n",
            "ModuleList(\n",
            "  (0): Conv2d(512, 84, kernel_size=(3, 3), stride=(1, 1), padding=(1, 1))\n",
            "  (1): Conv2d(1024, 126, kernel_size=(3, 3), stride=(1, 1), padding=(1, 1))\n",
            "  (2): Conv2d(512, 126, kernel_size=(3, 3), stride=(1, 1), padding=(1, 1))\n",
            "  (3): Conv2d(256, 126, kernel_size=(3, 3), stride=(1, 1), padding=(1, 1))\n",
            "  (4): Conv2d(256, 84, kernel_size=(3, 3), stride=(1, 1), padding=(1, 1))\n",
            "  (5): Conv2d(256, 84, kernel_size=(3, 3), stride=(1, 1), padding=(1, 1))\n",
            ")\n"
          ]
        }
      ]
    },
    {
      "cell_type": "markdown",
      "source": [
        "## 4. L2 Norm\n",
        "\n",
        "source1 feature map의 통계적 특성을 채널을 기준으로 정규화\n",
        "\n",
        " - 각 채널 마다 38x38=1444개의 픽셀이 존재\n",
        " - 동일한 위치의 픽셀들에 대해 채널 방향으로 정규화\n",
        "\n",
        "1444개 픽셀 마다 채널 방향으로(512 dim) 제곱합을 구하고 루트"
      ],
      "metadata": {
        "id": "0xAqn5Dg8Uad"
      }
    },
    {
      "cell_type": "code",
      "source": [
        "class L2Norm(nn.Module):\n",
        "    def __init__(self, input_channels=512, scale=20):\n",
        "        super(L2Norm, self).__init__()  \n",
        "        self.weight = nn.Parameter(torch.Tensor(input_channels))\n",
        "        self.scale = scale \n",
        "        self.reset_parameters()  # 파라미터의 초기화\n",
        "        self.eps = 1e-10\n",
        "\n",
        "    def reset_parameters(self):\n",
        "        init.constant_(self.weight, self.scale)  # weight값이 모두 20으로 초기화됨\n",
        "\n",
        "    def forward(self, x):\n",
        "        norm = x.pow(2).sum(dim=1, keepdim=True).sqrt() + self.eps  # 채널 방향으로 제곱합, 루트 계산\n",
        "        x = torch.div(x, norm)\n",
        "\n",
        "        weights = self.weight.unsqueeze(0).unsqueeze(2).unsqueeze(3).expand_as(x)\n",
        "        out = weights * x\n",
        "\n",
        "        return out"
      ],
      "metadata": {
        "id": "aSlmi2rC7cxP"
      },
      "execution_count": 8,
      "outputs": []
    },
    {
      "cell_type": "code",
      "source": [
        "# 참고\n",
        "x = torch.randn(1, 512, 38, 38)\n",
        "print(x.pow(2).sum(dim=1, keepdim=True).shape)\n",
        "weight = nn.Parameter(torch.Tensor(512))\n",
        "print(weight.shape)\n",
        "print(weight.unsqueeze(0).unsqueeze(2).unsqueeze(3).shape)\n",
        "print(weight.unsqueeze(0).unsqueeze(2).unsqueeze(3).expand_as(x).shape)"
      ],
      "metadata": {
        "colab": {
          "base_uri": "https://localhost:8080/"
        },
        "id": "TB1OzxMx-3Z1",
        "outputId": "414562a2-ae01-419c-cdc3-987197c6934f"
      },
      "execution_count": 9,
      "outputs": [
        {
          "output_type": "stream",
          "name": "stdout",
          "text": [
            "torch.Size([1, 1, 38, 38])\n",
            "torch.Size([512])\n",
            "torch.Size([1, 512, 1, 1])\n",
            "torch.Size([1, 512, 38, 38])\n"
          ]
        }
      ]
    },
    {
      "cell_type": "markdown",
      "source": [
        "## 5. DBox 구현\n",
        "\n",
        "4개인 경우 : 작은 정사각형, 큰 정사각형, 1:2 직사각형, 2:1 직사각형\n",
        "\n",
        "6개인 경우 : 3:1 직사각형, 1:3 직사각형 추가"
      ],
      "metadata": {
        "id": "krUW7avOBCVy"
      }
    },
    {
      "cell_type": "code",
      "source": [
        "class DBox(object):\n",
        "    def __init__(self, cfg):\n",
        "        super(DBox, self).__init__()\n",
        "\n",
        "        # Config\n",
        "        self.image_size = cfg['input_size']  # 이미지 크기 : 300\n",
        "        self.feature_maps = cfg['feature_maps']  # [38, 19, 10, 5, 3, 1] 각 source별 feature map 크기\n",
        "        self.num_priors = len(cfg[\"feature_maps\"])  # source 개수 6\n",
        "\n",
        "        self.steps = cfg['steps']  # [8, 16, 32, 64, 100, 300] DBox 픽셀 크기 (source1 : 작은 객체 인식 용이 / source6 : 큰 객체 인식 용이)    \n",
        "        self.min_sizes = cfg['min_sizes']  # 작은 정사각형의 DBox 크기\n",
        "        self.max_sizes = cfg['max_sizes']  # 큰 정사각형의 DBox 크기\n",
        "        self.aspect_ratios = cfg['aspect_ratios']  # source별 정,직사각형 DBox 종횡비\n",
        "\n",
        "    def make_dbox_list(self):\n",
        "        mean = []\n",
        "        for k, f in enumerate(self.feature_maps):\n",
        "            # fxf개의 좌상단 좌표 정보\n",
        "            for i, j in product(range(f), repeat=2):\n",
        "                # source 별 feature map의 크기\n",
        "                f_k = self.image_size / self.steps[k]  # 300 / 'steps': [8, 16, 32, 64, 100, 300]\n",
        "                \n",
        "                # DBox 중심 좌표. 0~1로 정규화함\n",
        "                cx = (j + 0.5) / f_k\n",
        "                cy = (i + 0.5) / f_k\n",
        "\n",
        "                # 작은 정사각형 DBox [cx, cy, w, h] - 중심점만 달라지고 w, h는 동일\n",
        "                s_k = self.min_sizes[k] / self.image_size\n",
        "                mean += [cx, cy, s_k, s_k]\n",
        "\n",
        "                # 큰 정사각형 DBox [cx, cy, w, h]\n",
        "                s_k_prime = sqrt(s_k * (self.max_sizes[k] / self.image_size))\n",
        "                mean += [cx, cy, s_k_prime, s_k_prime]\n",
        "                \n",
        "                # 종횡비가 다른 직사각형 DBox\n",
        "                for ar in self.aspect_ratios[k]:\n",
        "                    mean += [cx, cy, s_k * sqrt(ar), s_k / sqrt(ar)]\n",
        "                    mean += [cx, cy, s_k / sqrt(ar), s_k * sqrt(ar)]\n",
        "\n",
        "        output = torch.Tensor(mean).view(-1, 4)  # (8732, 4)\n",
        "        output.clamp_(max=1, min=0)  # DBox가 이미지 밖에 위치하지 않도록\n",
        "\n",
        "        return output"
      ],
      "metadata": {
        "id": "kVKzUQey_0Ax"
      },
      "execution_count": 10,
      "outputs": []
    },
    {
      "cell_type": "code",
      "source": [
        "ssd_cfg = {\n",
        "    'num_classes': 21,  # 총 클래스 수 (배경 포함)\n",
        "    'input_size': 300,  # 이미지 크기\n",
        "    'bbox_aspect_num': [4, 6, 6, 6, 4, 4],  # source 별 DBox 종류\n",
        "    'feature_maps': [38, 19, 10, 5, 3, 1],  # source 별 feature map 크기\n",
        "    'steps': [8, 16, 32, 64, 100, 300],  # source 별 DBox 크기\n",
        "    'min_sizes': [30, 60, 111, 162, 213, 264],  # 작은 정사각형 DBox 크기\n",
        "    'max_sizes': [60, 111, 162, 213, 264, 315],  # 큰 정사각형 DBox 크기\n",
        "    'aspect_ratios': [[2], [2, 3], [2, 3], [2, 3], [2], [2]],  # 직사각형 DBox용 (4개인 경우 2만 이용, 6개인 경우 1:3, 3:1 비율 직사각형이 추가되기 때문에 [2, 3])\n",
        "}"
      ],
      "metadata": {
        "id": "ffvuj3qLDrxL"
      },
      "execution_count": 11,
      "outputs": []
    },
    {
      "cell_type": "code",
      "source": [
        "# DBox \n",
        "dbox = DBox(ssd_cfg)\n",
        "dbox_list = dbox.make_dbox_list()\n",
        "\n",
        "# DBox 출력 확인\n",
        "pd.DataFrame(dbox_list.numpy())"
      ],
      "metadata": {
        "colab": {
          "base_uri": "https://localhost:8080/",
          "height": 423
        },
        "id": "4OsnJw0-BUE9",
        "outputId": "e3f7fad1-8ad1-4349-99ea-2062181a7aa3"
      },
      "execution_count": 12,
      "outputs": [
        {
          "output_type": "execute_result",
          "data": {
            "text/html": [
              "\n",
              "  <div id=\"df-eefc8107-74a4-4b89-8bd7-38ab904ceb63\">\n",
              "    <div class=\"colab-df-container\">\n",
              "      <div>\n",
              "<style scoped>\n",
              "    .dataframe tbody tr th:only-of-type {\n",
              "        vertical-align: middle;\n",
              "    }\n",
              "\n",
              "    .dataframe tbody tr th {\n",
              "        vertical-align: top;\n",
              "    }\n",
              "\n",
              "    .dataframe thead th {\n",
              "        text-align: right;\n",
              "    }\n",
              "</style>\n",
              "<table border=\"1\" class=\"dataframe\">\n",
              "  <thead>\n",
              "    <tr style=\"text-align: right;\">\n",
              "      <th></th>\n",
              "      <th>0</th>\n",
              "      <th>1</th>\n",
              "      <th>2</th>\n",
              "      <th>3</th>\n",
              "    </tr>\n",
              "  </thead>\n",
              "  <tbody>\n",
              "    <tr>\n",
              "      <th>0</th>\n",
              "      <td>0.013333</td>\n",
              "      <td>0.013333</td>\n",
              "      <td>0.100000</td>\n",
              "      <td>0.100000</td>\n",
              "    </tr>\n",
              "    <tr>\n",
              "      <th>1</th>\n",
              "      <td>0.013333</td>\n",
              "      <td>0.013333</td>\n",
              "      <td>0.141421</td>\n",
              "      <td>0.141421</td>\n",
              "    </tr>\n",
              "    <tr>\n",
              "      <th>2</th>\n",
              "      <td>0.013333</td>\n",
              "      <td>0.013333</td>\n",
              "      <td>0.141421</td>\n",
              "      <td>0.070711</td>\n",
              "    </tr>\n",
              "    <tr>\n",
              "      <th>3</th>\n",
              "      <td>0.013333</td>\n",
              "      <td>0.013333</td>\n",
              "      <td>0.070711</td>\n",
              "      <td>0.141421</td>\n",
              "    </tr>\n",
              "    <tr>\n",
              "      <th>4</th>\n",
              "      <td>0.040000</td>\n",
              "      <td>0.013333</td>\n",
              "      <td>0.100000</td>\n",
              "      <td>0.100000</td>\n",
              "    </tr>\n",
              "    <tr>\n",
              "      <th>...</th>\n",
              "      <td>...</td>\n",
              "      <td>...</td>\n",
              "      <td>...</td>\n",
              "      <td>...</td>\n",
              "    </tr>\n",
              "    <tr>\n",
              "      <th>8727</th>\n",
              "      <td>0.833333</td>\n",
              "      <td>0.833333</td>\n",
              "      <td>0.502046</td>\n",
              "      <td>1.000000</td>\n",
              "    </tr>\n",
              "    <tr>\n",
              "      <th>8728</th>\n",
              "      <td>0.500000</td>\n",
              "      <td>0.500000</td>\n",
              "      <td>0.880000</td>\n",
              "      <td>0.880000</td>\n",
              "    </tr>\n",
              "    <tr>\n",
              "      <th>8729</th>\n",
              "      <td>0.500000</td>\n",
              "      <td>0.500000</td>\n",
              "      <td>0.961249</td>\n",
              "      <td>0.961249</td>\n",
              "    </tr>\n",
              "    <tr>\n",
              "      <th>8730</th>\n",
              "      <td>0.500000</td>\n",
              "      <td>0.500000</td>\n",
              "      <td>1.000000</td>\n",
              "      <td>0.622254</td>\n",
              "    </tr>\n",
              "    <tr>\n",
              "      <th>8731</th>\n",
              "      <td>0.500000</td>\n",
              "      <td>0.500000</td>\n",
              "      <td>0.622254</td>\n",
              "      <td>1.000000</td>\n",
              "    </tr>\n",
              "  </tbody>\n",
              "</table>\n",
              "<p>8732 rows × 4 columns</p>\n",
              "</div>\n",
              "      <button class=\"colab-df-convert\" onclick=\"convertToInteractive('df-eefc8107-74a4-4b89-8bd7-38ab904ceb63')\"\n",
              "              title=\"Convert this dataframe to an interactive table.\"\n",
              "              style=\"display:none;\">\n",
              "        \n",
              "  <svg xmlns=\"http://www.w3.org/2000/svg\" height=\"24px\"viewBox=\"0 0 24 24\"\n",
              "       width=\"24px\">\n",
              "    <path d=\"M0 0h24v24H0V0z\" fill=\"none\"/>\n",
              "    <path d=\"M18.56 5.44l.94 2.06.94-2.06 2.06-.94-2.06-.94-.94-2.06-.94 2.06-2.06.94zm-11 1L8.5 8.5l.94-2.06 2.06-.94-2.06-.94L8.5 2.5l-.94 2.06-2.06.94zm10 10l.94 2.06.94-2.06 2.06-.94-2.06-.94-.94-2.06-.94 2.06-2.06.94z\"/><path d=\"M17.41 7.96l-1.37-1.37c-.4-.4-.92-.59-1.43-.59-.52 0-1.04.2-1.43.59L10.3 9.45l-7.72 7.72c-.78.78-.78 2.05 0 2.83L4 21.41c.39.39.9.59 1.41.59.51 0 1.02-.2 1.41-.59l7.78-7.78 2.81-2.81c.8-.78.8-2.07 0-2.86zM5.41 20L4 18.59l7.72-7.72 1.47 1.35L5.41 20z\"/>\n",
              "  </svg>\n",
              "      </button>\n",
              "      \n",
              "  <style>\n",
              "    .colab-df-container {\n",
              "      display:flex;\n",
              "      flex-wrap:wrap;\n",
              "      gap: 12px;\n",
              "    }\n",
              "\n",
              "    .colab-df-convert {\n",
              "      background-color: #E8F0FE;\n",
              "      border: none;\n",
              "      border-radius: 50%;\n",
              "      cursor: pointer;\n",
              "      display: none;\n",
              "      fill: #1967D2;\n",
              "      height: 32px;\n",
              "      padding: 0 0 0 0;\n",
              "      width: 32px;\n",
              "    }\n",
              "\n",
              "    .colab-df-convert:hover {\n",
              "      background-color: #E2EBFA;\n",
              "      box-shadow: 0px 1px 2px rgba(60, 64, 67, 0.3), 0px 1px 3px 1px rgba(60, 64, 67, 0.15);\n",
              "      fill: #174EA6;\n",
              "    }\n",
              "\n",
              "    [theme=dark] .colab-df-convert {\n",
              "      background-color: #3B4455;\n",
              "      fill: #D2E3FC;\n",
              "    }\n",
              "\n",
              "    [theme=dark] .colab-df-convert:hover {\n",
              "      background-color: #434B5C;\n",
              "      box-shadow: 0px 1px 3px 1px rgba(0, 0, 0, 0.15);\n",
              "      filter: drop-shadow(0px 1px 2px rgba(0, 0, 0, 0.3));\n",
              "      fill: #FFFFFF;\n",
              "    }\n",
              "  </style>\n",
              "\n",
              "      <script>\n",
              "        const buttonEl =\n",
              "          document.querySelector('#df-eefc8107-74a4-4b89-8bd7-38ab904ceb63 button.colab-df-convert');\n",
              "        buttonEl.style.display =\n",
              "          google.colab.kernel.accessAllowed ? 'block' : 'none';\n",
              "\n",
              "        async function convertToInteractive(key) {\n",
              "          const element = document.querySelector('#df-eefc8107-74a4-4b89-8bd7-38ab904ceb63');\n",
              "          const dataTable =\n",
              "            await google.colab.kernel.invokeFunction('convertToInteractive',\n",
              "                                                     [key], {});\n",
              "          if (!dataTable) return;\n",
              "\n",
              "          const docLinkHtml = 'Like what you see? Visit the ' +\n",
              "            '<a target=\"_blank\" href=https://colab.research.google.com/notebooks/data_table.ipynb>data table notebook</a>'\n",
              "            + ' to learn more about interactive tables.';\n",
              "          element.innerHTML = '';\n",
              "          dataTable['output_type'] = 'display_data';\n",
              "          await google.colab.output.renderOutput(dataTable, element);\n",
              "          const docLink = document.createElement('div');\n",
              "          docLink.innerHTML = docLinkHtml;\n",
              "          element.appendChild(docLink);\n",
              "        }\n",
              "      </script>\n",
              "    </div>\n",
              "  </div>\n",
              "  "
            ],
            "text/plain": [
              "             0         1         2         3\n",
              "0     0.013333  0.013333  0.100000  0.100000\n",
              "1     0.013333  0.013333  0.141421  0.141421\n",
              "2     0.013333  0.013333  0.141421  0.070711\n",
              "3     0.013333  0.013333  0.070711  0.141421\n",
              "4     0.040000  0.013333  0.100000  0.100000\n",
              "...        ...       ...       ...       ...\n",
              "8727  0.833333  0.833333  0.502046  1.000000\n",
              "8728  0.500000  0.500000  0.880000  0.880000\n",
              "8729  0.500000  0.500000  0.961249  0.961249\n",
              "8730  0.500000  0.500000  1.000000  0.622254\n",
              "8731  0.500000  0.500000  0.622254  1.000000\n",
              "\n",
              "[8732 rows x 4 columns]"
            ]
          },
          "metadata": {},
          "execution_count": 12
        }
      ]
    },
    {
      "cell_type": "code",
      "source": [
        "class SSD(nn.Module):\n",
        "    \n",
        "    def __init__(self, phase, cfg):\n",
        "        super(SSD, self).__init__()\n",
        "\n",
        "        self.phase = phase  \n",
        "        self.num_classes = cfg[\"num_classes\"]  \n",
        "\n",
        "        # SSD 네트워크 구성\n",
        "        self.vgg = make_vgg()\n",
        "        self.extras = make_extras()\n",
        "        self.L2Norm = L2Norm()\n",
        "        self.loc, self.conf = make_loc_conf(cfg[\"num_classes\"], cfg[\"bbox_aspect_num\"])\n",
        "\n",
        "        # 8792개 DBox 생성\n",
        "        dbox = DBox(cfg)\n",
        "        self.dbox_list = dbox.make_dbox_list()\n",
        "\n",
        "        if phase == 'inference':\n",
        "            self.detect = Detect()"
      ],
      "metadata": {
        "id": "gIg5_dFCBUJo"
      },
      "execution_count": 13,
      "outputs": []
    },
    {
      "cell_type": "code",
      "source": [
        "# 동작 확인\n",
        "ssd_test = SSD(phase=\"train\", cfg=ssd_cfg)\n",
        "print(ssd_test)"
      ],
      "metadata": {
        "colab": {
          "base_uri": "https://localhost:8080/"
        },
        "id": "u7tN-m5aL3iF",
        "outputId": "6d17c896-ba1b-4e51-9bc1-29225e55bfda"
      },
      "execution_count": 14,
      "outputs": [
        {
          "output_type": "stream",
          "name": "stdout",
          "text": [
            "SSD(\n",
            "  (vgg): ModuleList(\n",
            "    (0): Conv2d(3, 64, kernel_size=(3, 3), stride=(1, 1), padding=(1, 1))\n",
            "    (1): ReLU(inplace=True)\n",
            "    (2): Conv2d(64, 64, kernel_size=(3, 3), stride=(1, 1), padding=(1, 1))\n",
            "    (3): ReLU(inplace=True)\n",
            "    (4): MaxPool2d(kernel_size=2, stride=2, padding=0, dilation=1, ceil_mode=False)\n",
            "    (5): Conv2d(64, 128, kernel_size=(3, 3), stride=(1, 1), padding=(1, 1))\n",
            "    (6): ReLU(inplace=True)\n",
            "    (7): Conv2d(128, 128, kernel_size=(3, 3), stride=(1, 1), padding=(1, 1))\n",
            "    (8): ReLU(inplace=True)\n",
            "    (9): MaxPool2d(kernel_size=2, stride=2, padding=0, dilation=1, ceil_mode=False)\n",
            "    (10): Conv2d(128, 256, kernel_size=(3, 3), stride=(1, 1), padding=(1, 1))\n",
            "    (11): ReLU(inplace=True)\n",
            "    (12): Conv2d(256, 256, kernel_size=(3, 3), stride=(1, 1), padding=(1, 1))\n",
            "    (13): ReLU(inplace=True)\n",
            "    (14): Conv2d(256, 256, kernel_size=(3, 3), stride=(1, 1), padding=(1, 1))\n",
            "    (15): ReLU(inplace=True)\n",
            "    (16): MaxPool2d(kernel_size=2, stride=2, padding=0, dilation=1, ceil_mode=True)\n",
            "    (17): Conv2d(256, 512, kernel_size=(3, 3), stride=(1, 1), padding=(1, 1))\n",
            "    (18): ReLU(inplace=True)\n",
            "    (19): Conv2d(512, 512, kernel_size=(3, 3), stride=(1, 1), padding=(1, 1))\n",
            "    (20): ReLU(inplace=True)\n",
            "    (21): Conv2d(512, 512, kernel_size=(3, 3), stride=(1, 1), padding=(1, 1))\n",
            "    (22): ReLU(inplace=True)\n",
            "    (23): MaxPool2d(kernel_size=2, stride=2, padding=0, dilation=1, ceil_mode=False)\n",
            "    (24): Conv2d(512, 512, kernel_size=(3, 3), stride=(1, 1), padding=(1, 1))\n",
            "    (25): ReLU(inplace=True)\n",
            "    (26): Conv2d(512, 512, kernel_size=(3, 3), stride=(1, 1), padding=(1, 1))\n",
            "    (27): ReLU(inplace=True)\n",
            "    (28): Conv2d(512, 512, kernel_size=(3, 3), stride=(1, 1), padding=(1, 1))\n",
            "    (29): ReLU(inplace=True)\n",
            "    (30): MaxPool2d(kernel_size=3, stride=1, padding=1, dilation=1, ceil_mode=False)\n",
            "    (31): Conv2d(512, 1024, kernel_size=(3, 3), stride=(1, 1), padding=(6, 6), dilation=(6, 6))\n",
            "    (32): ReLU(inplace=True)\n",
            "    (33): Conv2d(1024, 1024, kernel_size=(1, 1), stride=(1, 1))\n",
            "    (34): ReLU(inplace=True)\n",
            "  )\n",
            "  (extras): ModuleList(\n",
            "    (0): Conv2d(1024, 256, kernel_size=(1, 1), stride=(1, 1))\n",
            "    (1): Conv2d(256, 512, kernel_size=(3, 3), stride=(2, 2), padding=(1, 1))\n",
            "    (2): Conv2d(512, 128, kernel_size=(1, 1), stride=(1, 1))\n",
            "    (3): Conv2d(128, 256, kernel_size=(3, 3), stride=(2, 2), padding=(1, 1))\n",
            "    (4): Conv2d(256, 128, kernel_size=(1, 1), stride=(1, 1))\n",
            "    (5): Conv2d(128, 256, kernel_size=(3, 3), stride=(1, 1))\n",
            "    (6): Conv2d(256, 128, kernel_size=(1, 1), stride=(1, 1))\n",
            "    (7): Conv2d(128, 256, kernel_size=(3, 3), stride=(1, 1))\n",
            "  )\n",
            "  (L2Norm): L2Norm()\n",
            "  (loc): ModuleList(\n",
            "    (0): Conv2d(512, 16, kernel_size=(3, 3), stride=(1, 1), padding=(1, 1))\n",
            "    (1): Conv2d(1024, 24, kernel_size=(3, 3), stride=(1, 1), padding=(1, 1))\n",
            "    (2): Conv2d(512, 24, kernel_size=(3, 3), stride=(1, 1), padding=(1, 1))\n",
            "    (3): Conv2d(256, 24, kernel_size=(3, 3), stride=(1, 1), padding=(1, 1))\n",
            "    (4): Conv2d(256, 16, kernel_size=(3, 3), stride=(1, 1), padding=(1, 1))\n",
            "    (5): Conv2d(256, 16, kernel_size=(3, 3), stride=(1, 1), padding=(1, 1))\n",
            "  )\n",
            "  (conf): ModuleList(\n",
            "    (0): Conv2d(512, 84, kernel_size=(3, 3), stride=(1, 1), padding=(1, 1))\n",
            "    (1): Conv2d(1024, 126, kernel_size=(3, 3), stride=(1, 1), padding=(1, 1))\n",
            "    (2): Conv2d(512, 126, kernel_size=(3, 3), stride=(1, 1), padding=(1, 1))\n",
            "    (3): Conv2d(256, 126, kernel_size=(3, 3), stride=(1, 1), padding=(1, 1))\n",
            "    (4): Conv2d(256, 84, kernel_size=(3, 3), stride=(1, 1), padding=(1, 1))\n",
            "    (5): Conv2d(256, 84, kernel_size=(3, 3), stride=(1, 1), padding=(1, 1))\n",
            "  )\n",
            ")\n"
          ]
        }
      ]
    },
    {
      "cell_type": "markdown",
      "source": [
        "## 6. Forward "
      ],
      "metadata": {
        "id": "0j-7xyzsvsG2"
      }
    },
    {
      "cell_type": "markdown",
      "source": [
        "### 6.1 decode\n",
        "\n",
        "Inference 용\n",
        "\n",
        "DBox, offset 정보를 이용하여 BBox 좌표 정보를 생성"
      ],
      "metadata": {
        "id": "8b4hDS5Pv1xb"
      }
    },
    {
      "cell_type": "code",
      "source": [
        "def decode(loc, dbox_list):\n",
        "    \"\"\"\n",
        "     loc:  [8732, 4]  [Δcx, Δcy, Δw, Δh]\n",
        "        SSD 모델을 통해 얻은 오프셋 정보.\n",
        "    dbox_list: [8732, 4]  [cx, cy, w, h]\n",
        "        DBox 정보\n",
        "    \"\"\"\n",
        "    boxes = torch.cat((\n",
        "        dbox_list[:, :2] + loc[:, :2] * 0.1 * dbox_list[:, 2:],  # BBox cx, cy 계산\n",
        "        dbox_list[:, 2:] * torch.exp(loc[:, 2:] * 0.2)), dim=1)  # w, h 계산\n",
        "    \n",
        "    # [cx, cy, w, h] -> [xmin, ymin, xmax, ymax]\n",
        "    boxes[:, :2] -= boxes[:, 2:] / 2 \n",
        "    boxes[:, 2:] += boxes[:, :2]\n",
        "\n",
        "    return boxes\n",
        "    "
      ],
      "metadata": {
        "id": "8sAomEs4L-jW"
      },
      "execution_count": 15,
      "outputs": []
    },
    {
      "cell_type": "markdown",
      "source": [
        "### 6.2 NMS\n",
        "\n",
        "8732개의 DBox를 사용하여 객체를 탐지하기 때문에 이미지 내 동일한 객체에 조금씩 다른 예측 BBox가 다수 피팅되는 경우 존재.\n",
        "\n",
        "BBox끼리 공통되는 면적이 ths 이상일 때 중복 BBox로 판정하고, 그 중 신뢰도가 가장 높은 BBox만 남기고 나머지는 삭제 (하나의 객체, 하나의 BBox)"
      ],
      "metadata": {
        "id": "5I8VHKmoxKdb"
      }
    },
    {
      "cell_type": "code",
      "source": [
        "def nm_suppression(boxes, scores, overlap=0.45, top_k=200):\n",
        "    \"\"\"\n",
        "    boxes 중에서 겹치는(overlap 이상)의 BBox를 삭제\n",
        "\n",
        "    Parameters\n",
        "    ----------\n",
        "    boxes : [신뢰도 임계값(0.01)을 넘은 BBox 수, 4]\n",
        "        BBox 좌표 정보\n",
        "    scores :[신뢰도 임계값(0.01)을 넘은 DBox 수]\n",
        "        conf 정보\n",
        "\n",
        "    Returns\n",
        "    -------\n",
        "    keep : 리스트\n",
        "        신뢰도의 내림차순으로 nms를 통과한 index 저장\n",
        "    count: int\n",
        "        nms를 통과한 BBox 수\n",
        "    \"\"\"\n",
        "    # 초기화\n",
        "    keep = scores.new(scores.size(0)).zero_().long()  # [신뢰도 ths를 넘은 BBox 수]\n",
        "    count = 0\n",
        "\n",
        "    # 개별 BBox의 면적 계산\n",
        "    x1 = boxes[:, 0]\n",
        "    y1 = boxes[:, 1]\n",
        "    x2 = boxes[:, 2]\n",
        "    y2 = boxes[:, 3]\n",
        "    area = torch.mul(x2 - x1, y2 - y1)\n",
        "    \n",
        "    # boxes 복사 (iou 계산시 활용)\n",
        "    tmp_x1 = boxes.new()  # tensor([])\n",
        "    tmp_y1 = boxes.new()\n",
        "    tmp_x2 = boxes.new()\n",
        "    tmp_y2 = boxes.new()\n",
        "    tmp_w = boxes.new()\n",
        "    tmp_h = boxes.new()\n",
        "\n",
        "    # 신뢰도 기준으로 정렬 (오름차순)\n",
        "    # v : 오름차순으로 정렬된 score 리스트 \n",
        "    v, idx = scores.sort(0)\n",
        "    \n",
        "    # 상위 200개의 BBox index 추출\n",
        "    idx = idx[-top_k:]\n",
        "\n",
        "    while idx.numel() > 0:\n",
        "        i = idx[-1]  # 신뢰도가 최대인 BBox index부터 추출\n",
        "\n",
        "        keep[count] = i  # keep 리스트 앞 부분 부터 신뢰도가 최대인 index 저장\n",
        "        count += 1\n",
        "\n",
        "        if idx.size(0) == 1:\n",
        "           break\n",
        "        \n",
        "        # keep에 저장된 index는 idx 리스트에서 삭제\n",
        "        # keep에 저장된 index의 BBox를 기준으로 idx의 나머지 BBox들과 겹치는 면적 계산, 삭제\n",
        "        idx = idx[:-1]  \n",
        "\n",
        "        ## keep에 저장된 BBox와 겹치는 정도가 큰 BBox를 추출하여 삭제\n",
        "        # idx의 BBox 정보를, out으로 지정한 변수로 저장\n",
        "        # index_select 참고 : https://runebook.dev/ko/docs/pytorch/generated/torch.index_select\n",
        "        torch.index_select(x1, 0, idx, out=tmp_x1)\n",
        "        torch.index_select(y1, 0, idx, out=tmp_y1)\n",
        "        torch.index_select(x2, 0, idx, out=tmp_x2)\n",
        "        torch.index_select(y2, 0, idx, out=tmp_y2)\n",
        "        \n",
        "        # 폭, 높이 계산\n",
        "        tmp_w.resize_as_(tmp_x2)\n",
        "        tmp_h.resize_as_(tmp_y2)\n",
        "        tmp_w = tmp_x2 - tmp_x1\n",
        "        tmp_h = tmp_y2 - tmp_y1\n",
        "\n",
        "        # w, h가 음수인 경우 0으로\n",
        "        tmp_w = torch.clamp(tmp_w, min=0.0)\n",
        "        tmp_h = torch.clamp(tmp_h, min=0.0)\n",
        "\n",
        "        # 면적 계산\n",
        "        inter = tmp_w * tmp_h\n",
        "        \n",
        "        # iou 계산 (broadcasting됨)\n",
        "        rem_areas = torch.index_select(area, 0, idx)  # 각 BBox의 원래 면적\n",
        "        union = (rem_areas - inter) + area[i]  # 두 구역의 합(OR)의 면적\n",
        "        IoU = inter / union\n",
        "        \n",
        "        # iou가 ths(overlap)보다 작은 idx만 남김\n",
        "        idx = idx[IoU.le(overlap)]  # le : less than or equal to 연산 수행\n",
        "\n",
        "    return keep, count"
      ],
      "metadata": {
        "id": "Mv0oRFSFxJcX"
      },
      "execution_count": 35,
      "outputs": []
    },
    {
      "cell_type": "markdown",
      "source": [
        "### 6.3 Detect\n",
        "\n",
        "입력 :                  \n",
        "1. loc 모듈 출력 : offset 정보 (B, 8732, 4)\n",
        "2. conf 모듈 출력 : (B, 8732, 21) - softmax 적용\n",
        "3. DBox 정보 : (8732, 4)\n",
        "\n",
        "\n",
        "출력 : (B, 21, 200, 5) - 객체 탐지 결과인 BBox\n",
        "\n",
        " - 배치, 클래스, 신뢰도 상위 200개 BBox, (신뢰도, 좌표 정보)\n",
        "\n",
        "\n",
        "forward\n",
        "\n",
        "1. 6.1 decode를 이용하여 DBox 정보, offset 정보를 BBox로 변환\n",
        "2. 신뢰도가 ths 이상인 BBox만 추출\n",
        "3. NMS로 중복 BBox 제거"
      ],
      "metadata": {
        "id": "eIjqvVp-_bxv"
      }
    },
    {
      "cell_type": "code",
      "source": [
        "class Detect(Function):\n",
        "\n",
        "    def __init__(self, conf_thresh=0.01, top_k=200, nms_thresh=0.45):\n",
        "        self.softmax = nn.Softmax(dim=-1)  # 신뢰도를 정규화\n",
        "        self.conf_thresh = conf_thresh  # conf가 conf_thresh=0.01보다 높은 DBox만 추출\n",
        "        self.top_k = top_k  # nms로 신뢰도가 높은 top_k개의 계산에 사용\n",
        "        self.nms_thresh = nms_thresh  # nms에서 iou가 nms_thresh=0.45보다 크면 동일한 물체의 BBox로 간주하고 삭제\n",
        "\n",
        "    def forward(self, loc_data, conf_data, dbox_list):\n",
        "        \"\"\"\n",
        "        Parameters\n",
        "        ----------\n",
        "        loc_data:  [batch_num,8732,4]\n",
        "            오프셋 정보\n",
        "        conf_data: [batch_num, 8732,num_classes]\n",
        "            감지 신뢰도\n",
        "        dbox_list: [8732,4]\n",
        "            DBox의 정보\n",
        "\n",
        "        Returns\n",
        "        -------\n",
        "        output : torch.Size([batch_num, 21, 200, 5])\n",
        "            (batch_num, 클래스, conf의 top200, BBox 정보)\n",
        "        \"\"\"\n",
        "        num_batch = loc_data.size(0)  \n",
        "        num_dbox = loc_data.size(1) \n",
        "        num_classes = conf_data.size(2)  \n",
        "\n",
        "        conf_data = self.softmax(conf_data)\n",
        "        conf_preds = conf_data.transpose(2, 1)\n",
        "\n",
        "        output = torch.zeros(num_batch, num_classes, self.top_k, 5)\n",
        "\n",
        "        for i in range(num_batch):\n",
        "            # 1. # offset정보로 DBox를 변경하여 예측 BBox 좌표 계산\n",
        "            decoded_boxes = decode(loc_data[i], dbox_list)        \n",
        "            conf_scores = conf_preds[i].clone()\n",
        "            \n",
        "            # 클래스 별로 loop\n",
        "            for cl in range(1, num_classes):\n",
        "                # 2. ths 이상의 신뢰도를 갖는 BBox index추출\n",
        "                c_mask = conf_scores[cl].gt(self.conf_thresh)  # greater than (넘으면 1, 아니면 0), (8732,)\n",
        "                scores = conf_scores[cl][c_mask]  # [ths를 넘은 BBox 수]\n",
        "\n",
        "                if scores.nelement() == 0:  # ths를 넘는 경우가 없으면\n",
        "                    continue\n",
        "                \n",
        "                # 임계값 이상의 신뢰도를 갖는 BBox만\n",
        "                l_mask = c_mask.unsqueeze(1).expand_as(decoded_boxes)  # (8732, 4)\n",
        "                boxes = decoded_boxes[l_mask].view(-1, 4)  # (ths를 넘은 BBox 수, 4)\n",
        "\n",
        "                # 3. NMS -> 중복 제거\n",
        "                # ids : 신뢰도 내림차순으로 nms를 통과한 index / count : nms를 통과한 BBox 수\n",
        "                ids, count = nm_suppression(boxes, scores, self.nms_thresh, self.top_k)\n",
        "                output[i, cl, :count] = torch.cat((scores[ids[:count]].unsqueeze(1),\n",
        "                                                   boxes[ids[:count]]), 1)\n",
        "                \n",
        "        return output  # torch.Size([1, 21, 200, 5])"
      ],
      "metadata": {
        "id": "-2d1p29h3hTn"
      },
      "execution_count": null,
      "outputs": []
    },
    {
      "cell_type": "markdown",
      "source": [
        "## 7. 최종 SSD 클래스 구현\n",
        "\n",
        "\n",
        "1. vgg, extra 모듈을 통해 source1~6 출력\n",
        "\n",
        "2. source1~6에 loc, conf 모듈을 적용시켜 offset, 신뢰도 정보 추출\n",
        "  - offset loc : (B, 8732, 4)\n",
        "  - conf : (B, 8732, 21)\n",
        "\n",
        "3. 학습 시에는 output : (loc, conf, 8732, 4), inference 시에는 (B, 21, 200, 5)"
      ],
      "metadata": {
        "id": "hS-l2bw6GTai"
      }
    },
    {
      "cell_type": "code",
      "source": [
        "class SSD(nn.Module):\n",
        "    def __init__(self, phase, cfg):\n",
        "        super(SSD, self).__init__()\n",
        "\n",
        "        self.phase = phase\n",
        "        self.num_classes = cfg['num_classes']\n",
        "\n",
        "        # SSD 네트워크\n",
        "        self.vgg = make_vgg()\n",
        "        self.extras = make_extras()\n",
        "        self.L2Norm = L2Norm()\n",
        "        self.loc, self.conf = make_loc_conf(cfg['num_classes'], cfg['bbox_aspect_num'])\n",
        "        \n",
        "        # DBox 생성 (8732, 4)\n",
        "        dbox = DBox(cfg)\n",
        "        self.dbox_list = dbox.make_dbox_list()\n",
        "        \n",
        "        # inference시에는 detect 호출\n",
        "        if phase == 'inference':\n",
        "            self.detect = Detect()\n",
        "\n",
        "    def forward(self, x):\n",
        "        sources = []\n",
        "        loc = []\n",
        "        conf = []\n",
        "        \n",
        "        # source1 (vgg conv4_3까지)\n",
        "        for k in range(23):\n",
        "            x = self.vgg[k](x)\n",
        "\n",
        "        source1 = self.L2Norm(x)\n",
        "        sources.append(source1)\n",
        "\n",
        "        # source2 (vgg를 끝까지 계산)\n",
        "        for k in range(23, len(self.vgg)):\n",
        "            x = self.vgg[k](x)\n",
        "\n",
        "        sources.append(x)\n",
        "        \n",
        "        # source3~6 (extras 모듈 - 총 8회의 합성곱)\n",
        "        for k, v in enumerate(self.extras):\n",
        "            x = F.relu(v(x), inplace=True)\n",
        "            if k % 2 == 1:  # 2회 합성곱 마다 중간 출력 결과를 source로 저장\n",
        "                sources.append(x)\n",
        "\n",
        "        for (x, l, c) in zip(sources, self.loc, self.conf):\n",
        "            loc.append(l(x).permute(0, 2, 3, 1).contiguous())  # l(x) : (B, 4x화면 비 종류, h, w), source마다 화면 비 다름\n",
        "            conf.append(c(x).permute(0, 2, 3, 1).contiguous())  # c(x) : (B, 21x화면 비 종류, h, w)\n",
        "\n",
        "        loc = torch.cat([o.view(o.size(0), -1) for o in loc], 1)  # (B, 8732x4)\n",
        "        conf = torch.cat([o.view(o.size(0), -1) for o in conf], 1)  # (B, 8732x21)\n",
        "\n",
        "        loc = loc.view(loc.size(0), -1, 4)  # (B, 8732x4) -> (B, 8732, 4)\n",
        "        conf = conf.view(conf.size(0), -1, self.num_classes)  # (B, 8732x21) -> (B, 8732, 21)\n",
        "\n",
        "        output = (loc, conf, self.dbox_list)    \n",
        "\n",
        "        if self.phase == 'inference':\n",
        "            return self.detect(output[0], output[1], output[2])\n",
        "\n",
        "        else:\n",
        "          return output"
      ],
      "metadata": {
        "id": "NAiEh2Mn_X7M"
      },
      "execution_count": null,
      "outputs": []
    },
    {
      "cell_type": "code",
      "source": [
        ""
      ],
      "metadata": {
        "id": "PbyIrcML_X9y"
      },
      "execution_count": null,
      "outputs": []
    },
    {
      "cell_type": "code",
      "source": [
        ""
      ],
      "metadata": {
        "id": "AGN3epS2_YBV"
      },
      "execution_count": null,
      "outputs": []
    }
  ]
}