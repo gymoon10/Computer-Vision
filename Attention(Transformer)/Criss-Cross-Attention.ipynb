{
 "cells": [
  {
   "cell_type": "code",
   "execution_count": null,
   "id": "5f349a7b",
   "metadata": {},
   "outputs": [],
   "source": []
  },
  {
   "cell_type": "code",
   "execution_count": 3,
   "id": "300f2083",
   "metadata": {},
   "outputs": [],
   "source": [
    "import torch\n",
    "import torch.nn as nn\n",
    "import torch.nn.functional as F\n",
    "from torch.nn import Softmax\n",
    "\n",
    "\n",
    "def INF(B,H,W):\n",
    "     return -torch.diag(torch.tensor(float(\"inf\")).repeat(H),0).unsqueeze(0).repeat(B*W,1,1)\n",
    "\n",
    "\n",
    "class CrissCrossAttention(nn.Module):\n",
    "    def __init__(self, in_dim):\n",
    "        super(CrissCrossAttention,self).__init__()\n",
    "        self.query_conv = nn.Conv2d(in_channels=in_dim, out_channels=in_dim//8, kernel_size=1)  # dim reduction\n",
    "        self.key_conv = nn.Conv2d(in_channels=in_dim, out_channels=in_dim//8, kernel_size=1)  # dim reduction\n",
    "        self.value_conv = nn.Conv2d(in_channels=in_dim, out_channels=in_dim, kernel_size=1)\n",
    "        \n",
    "        self.softmax = Softmax(dim=3)\n",
    "        self.INF = INF\n",
    "        self.gamma = nn.Parameter(torch.zeros(1))\n",
    "\n",
    "\n",
    "    def forward(self, x):\n",
    "        '''Input: local feature map (N, C, H, W), c=C/8'''\n",
    "        m_batchsize, _, height, width = x.size()\n",
    "        \n",
    "        proj_query = self.query_conv(x)  # (N, c, H, W)\n",
    "        # (N, c, H, W) -> (N, W, c, H) -> (NW, c, H) -> (NW, H, c)\n",
    "        proj_query_H = proj_query.permute(0, 3, 1, 2).contiguous().view(m_batchsize*width, -1, height).permute(0, 2, 1)\n",
    "        # (N, c, H, W) -> (N, H, c, W) -> (NH, c, W) -> (NH, W, c)\n",
    "        proj_query_W = proj_query.permute(0, 2, 1, 3).contiguous().view(m_batchsize*height, -1, width).permute(0, 2, 1)\n",
    "        \n",
    "        proj_key = self.key_conv(x)  # (N, c, H, W)\n",
    "        # (N, c, H, W) -> (N, W, c, H) -> (NW, c, H) \n",
    "        proj_key_H = proj_key.permute(0, 3, 1, 2).contiguous().view(m_batchsize*width, -1, height)\n",
    "        # (N, c, H, W) -> (N, H, c, W) -> (NH, c, W) \n",
    "        proj_key_W = proj_key.permute(0, 2, 1, 3).contiguous().view(m_batchsize*height, -1, width)\n",
    "        \n",
    "        proj_value = self.value_conv(x)  # (N, C, H, W)\n",
    "        # (N, C, H, W) -> (N, W, C, H) -> (NW, C, H) \n",
    "        proj_value_H = proj_value.permute(0, 3, 1, 2).contiguous().view(m_batchsize*width, -1, height)\n",
    "        # (N, C, H, W) -> (N, H, C, W) -> (NH, C, W) \n",
    "        proj_value_W = proj_value.permute(0, 2, 1, 3).contiguous().view(m_batchsize*height, -1, width)\n",
    "        \n",
    "        # (NW, H, c) x (NW, c, H) -> (NW, H, H) -> (N, W, H, H) -> (N, H, W, H)\n",
    "        energy_H = (torch.bmm(proj_query_H, proj_key_H) + self.INF(m_batchsize, height, width)).view(m_batchsize, width, height, height).permute(0, 2, 1, 3)\n",
    "        # (NH, W, c) x (NH, c, W) -> (NH, W, W) -> (N, H, W, W) \n",
    "        energy_W = torch.bmm(proj_query_W, proj_key_W).view(m_batchsize, height, width, width)\n",
    "        \n",
    "        concate = self.softmax(torch.cat([energy_H, energy_W], 3))  # (N, H, W, H+W)\n",
    "        \n",
    "        # (N, H, W, H) -> (N, W, H, H) -> (NW, H, H)\n",
    "        att_H = concate[:, :, :, 0:height].permute(0, 2, 1, 3).contiguous().view(m_batchsize*width, height, height)\n",
    "        # (N, H, W, W) -> (NH, W, W)\n",
    "        att_W = concate[:, :, :, height:height+width].contiguous().view(m_batchsize*height, width, width)\n",
    "        \n",
    "        # (NW, C, H) x (NW, H, H) -> (NW, C, H) -> (N, W, C, H) -> (N, C, H, W)\n",
    "        out_H = torch.bmm(proj_value_H, att_H.permute(0, 2, 1)).view(m_batchsize, width, -1, height).permute(0, 2, 3, 1)\n",
    "        # (NH, C, W) x (NH, W, W) -> (NH, C, W) -> (N, H, C, W) -> (N, C, H, W)\n",
    "        out_W = torch.bmm(proj_value_W, att_W.permute(0, 2, 1)).view(m_batchsize, height, -1, width).permute(0, 2, 1, 3)\n",
    "        \n",
    "        return self.gamma*(out_H + out_W) + x"
   ]
  },
  {
   "cell_type": "code",
   "execution_count": 4,
   "id": "f78d86e7",
   "metadata": {},
   "outputs": [
    {
     "name": "stdout",
     "output_type": "stream",
     "text": [
      "torch.Size([2, 64, 32, 16])\n"
     ]
    }
   ],
   "source": [
    "if __name__ == '__main__':\n",
    "    model = CrissCrossAttention(64)\n",
    "    x = torch.randn(2, 64, 32, 16)\n",
    "    out = model(x)\n",
    "    print(out.shape)"
   ]
  },
  {
   "cell_type": "code",
   "execution_count": null,
   "id": "c6159e41",
   "metadata": {},
   "outputs": [],
   "source": []
  }
 ],
 "metadata": {
  "kernelspec": {
   "display_name": "Python 3 (ipykernel)",
   "language": "python",
   "name": "python3"
  },
  "language_info": {
   "codemirror_mode": {
    "name": "ipython",
    "version": 3
   },
   "file_extension": ".py",
   "mimetype": "text/x-python",
   "name": "python",
   "nbconvert_exporter": "python",
   "pygments_lexer": "ipython3",
   "version": "3.9.12"
  }
 },
 "nbformat": 4,
 "nbformat_minor": 5
}
