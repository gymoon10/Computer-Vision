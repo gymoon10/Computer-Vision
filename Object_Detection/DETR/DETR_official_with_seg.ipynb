{
  "nbformat": 4,
  "nbformat_minor": 0,
  "metadata": {
    "colab": {
      "name": "DETR.ipynb",
      "provenance": []
    },
    "kernelspec": {
      "name": "python3",
      "display_name": "Python 3"
    },
    "language_info": {
      "name": "python"
    },
    "accelerator": "GPU",
    "widgets": {
      "application/vnd.jupyter.widget-state+json": {
        "deb752947cd44b519dfc93d8146c5350": {
          "model_module": "@jupyter-widgets/controls",
          "model_name": "HBoxModel",
          "model_module_version": "1.5.0",
          "state": {
            "_dom_classes": [],
            "_model_module": "@jupyter-widgets/controls",
            "_model_module_version": "1.5.0",
            "_model_name": "HBoxModel",
            "_view_count": null,
            "_view_module": "@jupyter-widgets/controls",
            "_view_module_version": "1.5.0",
            "_view_name": "HBoxView",
            "box_style": "",
            "children": [
              "IPY_MODEL_c4a86ceb4d0a4760b2f796470723aa9b",
              "IPY_MODEL_78746299d8c1441b88ab40c23414b473",
              "IPY_MODEL_fcafb3d7270142c581b5c9d01aa63a9c"
            ],
            "layout": "IPY_MODEL_b03aa26586fa4d5c932883275e07734f"
          }
        },
        "c4a86ceb4d0a4760b2f796470723aa9b": {
          "model_module": "@jupyter-widgets/controls",
          "model_name": "HTMLModel",
          "model_module_version": "1.5.0",
          "state": {
            "_dom_classes": [],
            "_model_module": "@jupyter-widgets/controls",
            "_model_module_version": "1.5.0",
            "_model_name": "HTMLModel",
            "_view_count": null,
            "_view_module": "@jupyter-widgets/controls",
            "_view_module_version": "1.5.0",
            "_view_name": "HTMLView",
            "description": "",
            "description_tooltip": null,
            "layout": "IPY_MODEL_2e229ca7349543fcaac0c93efd5ea6ad",
            "placeholder": "​",
            "style": "IPY_MODEL_8073c2ac934c4a77b215c63ae4154202",
            "value": "100%"
          }
        },
        "78746299d8c1441b88ab40c23414b473": {
          "model_module": "@jupyter-widgets/controls",
          "model_name": "FloatProgressModel",
          "model_module_version": "1.5.0",
          "state": {
            "_dom_classes": [],
            "_model_module": "@jupyter-widgets/controls",
            "_model_module_version": "1.5.0",
            "_model_name": "FloatProgressModel",
            "_view_count": null,
            "_view_module": "@jupyter-widgets/controls",
            "_view_module_version": "1.5.0",
            "_view_name": "ProgressView",
            "bar_style": "success",
            "description": "",
            "description_tooltip": null,
            "layout": "IPY_MODEL_92b01092fa024fd8b5e80737dba51551",
            "max": 102530333,
            "min": 0,
            "orientation": "horizontal",
            "style": "IPY_MODEL_ba9b871821344fdc9fe5c886068226a2",
            "value": 102530333
          }
        },
        "fcafb3d7270142c581b5c9d01aa63a9c": {
          "model_module": "@jupyter-widgets/controls",
          "model_name": "HTMLModel",
          "model_module_version": "1.5.0",
          "state": {
            "_dom_classes": [],
            "_model_module": "@jupyter-widgets/controls",
            "_model_module_version": "1.5.0",
            "_model_name": "HTMLModel",
            "_view_count": null,
            "_view_module": "@jupyter-widgets/controls",
            "_view_module_version": "1.5.0",
            "_view_name": "HTMLView",
            "description": "",
            "description_tooltip": null,
            "layout": "IPY_MODEL_adda8ae9431b41b093be5031064aa8da",
            "placeholder": "​",
            "style": "IPY_MODEL_1d1cb88bcfca4e9a8a371b1867074c08",
            "value": " 97.8M/97.8M [00:01&lt;00:00, 99.6MB/s]"
          }
        },
        "b03aa26586fa4d5c932883275e07734f": {
          "model_module": "@jupyter-widgets/base",
          "model_name": "LayoutModel",
          "model_module_version": "1.2.0",
          "state": {
            "_model_module": "@jupyter-widgets/base",
            "_model_module_version": "1.2.0",
            "_model_name": "LayoutModel",
            "_view_count": null,
            "_view_module": "@jupyter-widgets/base",
            "_view_module_version": "1.2.0",
            "_view_name": "LayoutView",
            "align_content": null,
            "align_items": null,
            "align_self": null,
            "border": null,
            "bottom": null,
            "display": null,
            "flex": null,
            "flex_flow": null,
            "grid_area": null,
            "grid_auto_columns": null,
            "grid_auto_flow": null,
            "grid_auto_rows": null,
            "grid_column": null,
            "grid_gap": null,
            "grid_row": null,
            "grid_template_areas": null,
            "grid_template_columns": null,
            "grid_template_rows": null,
            "height": null,
            "justify_content": null,
            "justify_items": null,
            "left": null,
            "margin": null,
            "max_height": null,
            "max_width": null,
            "min_height": null,
            "min_width": null,
            "object_fit": null,
            "object_position": null,
            "order": null,
            "overflow": null,
            "overflow_x": null,
            "overflow_y": null,
            "padding": null,
            "right": null,
            "top": null,
            "visibility": null,
            "width": null
          }
        },
        "2e229ca7349543fcaac0c93efd5ea6ad": {
          "model_module": "@jupyter-widgets/base",
          "model_name": "LayoutModel",
          "model_module_version": "1.2.0",
          "state": {
            "_model_module": "@jupyter-widgets/base",
            "_model_module_version": "1.2.0",
            "_model_name": "LayoutModel",
            "_view_count": null,
            "_view_module": "@jupyter-widgets/base",
            "_view_module_version": "1.2.0",
            "_view_name": "LayoutView",
            "align_content": null,
            "align_items": null,
            "align_self": null,
            "border": null,
            "bottom": null,
            "display": null,
            "flex": null,
            "flex_flow": null,
            "grid_area": null,
            "grid_auto_columns": null,
            "grid_auto_flow": null,
            "grid_auto_rows": null,
            "grid_column": null,
            "grid_gap": null,
            "grid_row": null,
            "grid_template_areas": null,
            "grid_template_columns": null,
            "grid_template_rows": null,
            "height": null,
            "justify_content": null,
            "justify_items": null,
            "left": null,
            "margin": null,
            "max_height": null,
            "max_width": null,
            "min_height": null,
            "min_width": null,
            "object_fit": null,
            "object_position": null,
            "order": null,
            "overflow": null,
            "overflow_x": null,
            "overflow_y": null,
            "padding": null,
            "right": null,
            "top": null,
            "visibility": null,
            "width": null
          }
        },
        "8073c2ac934c4a77b215c63ae4154202": {
          "model_module": "@jupyter-widgets/controls",
          "model_name": "DescriptionStyleModel",
          "model_module_version": "1.5.0",
          "state": {
            "_model_module": "@jupyter-widgets/controls",
            "_model_module_version": "1.5.0",
            "_model_name": "DescriptionStyleModel",
            "_view_count": null,
            "_view_module": "@jupyter-widgets/base",
            "_view_module_version": "1.2.0",
            "_view_name": "StyleView",
            "description_width": ""
          }
        },
        "92b01092fa024fd8b5e80737dba51551": {
          "model_module": "@jupyter-widgets/base",
          "model_name": "LayoutModel",
          "model_module_version": "1.2.0",
          "state": {
            "_model_module": "@jupyter-widgets/base",
            "_model_module_version": "1.2.0",
            "_model_name": "LayoutModel",
            "_view_count": null,
            "_view_module": "@jupyter-widgets/base",
            "_view_module_version": "1.2.0",
            "_view_name": "LayoutView",
            "align_content": null,
            "align_items": null,
            "align_self": null,
            "border": null,
            "bottom": null,
            "display": null,
            "flex": null,
            "flex_flow": null,
            "grid_area": null,
            "grid_auto_columns": null,
            "grid_auto_flow": null,
            "grid_auto_rows": null,
            "grid_column": null,
            "grid_gap": null,
            "grid_row": null,
            "grid_template_areas": null,
            "grid_template_columns": null,
            "grid_template_rows": null,
            "height": null,
            "justify_content": null,
            "justify_items": null,
            "left": null,
            "margin": null,
            "max_height": null,
            "max_width": null,
            "min_height": null,
            "min_width": null,
            "object_fit": null,
            "object_position": null,
            "order": null,
            "overflow": null,
            "overflow_x": null,
            "overflow_y": null,
            "padding": null,
            "right": null,
            "top": null,
            "visibility": null,
            "width": null
          }
        },
        "ba9b871821344fdc9fe5c886068226a2": {
          "model_module": "@jupyter-widgets/controls",
          "model_name": "ProgressStyleModel",
          "model_module_version": "1.5.0",
          "state": {
            "_model_module": "@jupyter-widgets/controls",
            "_model_module_version": "1.5.0",
            "_model_name": "ProgressStyleModel",
            "_view_count": null,
            "_view_module": "@jupyter-widgets/base",
            "_view_module_version": "1.2.0",
            "_view_name": "StyleView",
            "bar_color": null,
            "description_width": ""
          }
        },
        "adda8ae9431b41b093be5031064aa8da": {
          "model_module": "@jupyter-widgets/base",
          "model_name": "LayoutModel",
          "model_module_version": "1.2.0",
          "state": {
            "_model_module": "@jupyter-widgets/base",
            "_model_module_version": "1.2.0",
            "_model_name": "LayoutModel",
            "_view_count": null,
            "_view_module": "@jupyter-widgets/base",
            "_view_module_version": "1.2.0",
            "_view_name": "LayoutView",
            "align_content": null,
            "align_items": null,
            "align_self": null,
            "border": null,
            "bottom": null,
            "display": null,
            "flex": null,
            "flex_flow": null,
            "grid_area": null,
            "grid_auto_columns": null,
            "grid_auto_flow": null,
            "grid_auto_rows": null,
            "grid_column": null,
            "grid_gap": null,
            "grid_row": null,
            "grid_template_areas": null,
            "grid_template_columns": null,
            "grid_template_rows": null,
            "height": null,
            "justify_content": null,
            "justify_items": null,
            "left": null,
            "margin": null,
            "max_height": null,
            "max_width": null,
            "min_height": null,
            "min_width": null,
            "object_fit": null,
            "object_position": null,
            "order": null,
            "overflow": null,
            "overflow_x": null,
            "overflow_y": null,
            "padding": null,
            "right": null,
            "top": null,
            "visibility": null,
            "width": null
          }
        },
        "1d1cb88bcfca4e9a8a371b1867074c08": {
          "model_module": "@jupyter-widgets/controls",
          "model_name": "DescriptionStyleModel",
          "model_module_version": "1.5.0",
          "state": {
            "_model_module": "@jupyter-widgets/controls",
            "_model_module_version": "1.5.0",
            "_model_name": "DescriptionStyleModel",
            "_view_count": null,
            "_view_module": "@jupyter-widgets/base",
            "_view_module_version": "1.2.0",
            "_view_name": "StyleView",
            "description_width": ""
          }
        }
      }
    }
  },
  "cells": [
    {
      "cell_type": "code",
      "execution_count": null,
      "metadata": {
        "id": "aEUhhymCwxnb"
      },
      "outputs": [],
      "source": [
        ""
      ]
    },
    {
      "cell_type": "code",
      "source": [
        "!git clone https://github.com/facebookresearch/detr.git"
      ],
      "metadata": {
        "colab": {
          "base_uri": "https://localhost:8080/"
        },
        "id": "QmNNIuucw17w",
        "outputId": "e0ffaa23-dfca-4729-a13d-199d2368e5f5"
      },
      "execution_count": 1,
      "outputs": [
        {
          "output_type": "stream",
          "name": "stdout",
          "text": [
            "Cloning into 'detr'...\n",
            "remote: Enumerating objects: 260, done.\u001b[K\n",
            "remote: Counting objects: 100% (3/3), done.\u001b[K\n",
            "remote: Compressing objects: 100% (3/3), done.\u001b[K\n",
            "remote: Total 260 (delta 0), reused 2 (delta 0), pack-reused 257\u001b[K\n",
            "Receiving objects: 100% (260/260), 12.85 MiB | 5.47 MiB/s, done.\n",
            "Resolving deltas: 100% (140/140), done.\n"
          ]
        }
      ]
    },
    {
      "cell_type": "markdown",
      "source": [
        "## 0. Positional Encoding\n",
        "\n",
        "Various positional encodings for the transformer.\n",
        "\n",
        "논문에서는 sin-cos 함수를 이용한 fixed positional encoding 활용"
      ],
      "metadata": {
        "id": "IOAprkqAxQ-E"
      }
    },
    {
      "cell_type": "code",
      "source": [
        "import math\n",
        "import torch\n",
        "from torch import nn\n",
        "\n",
        "from detr.util.misc import NestedTensor"
      ],
      "metadata": {
        "id": "kDZXhHBmw1-o"
      },
      "execution_count": 2,
      "outputs": []
    },
    {
      "cell_type": "code",
      "source": [
        "class PositionEmbeddingSine(nn.Module):\n",
        "    \n",
        "    def __init__(self, num_pos_feats=64, temperature=10000, normalize=False, scale=None):\n",
        "          super().__init__()\n",
        "          self.num_pos_feats = num_pos_feats\n",
        "          self.temperature = temperature\n",
        "          self.normalize = normalize\n",
        "          if scale is not None and normalize is False:\n",
        "              raise ValueError(\"normalize should be True if scale is passed\")\n",
        "          if scale is None:\n",
        "              scale = 2 * math.pi\n",
        "          self.scale = scale\n",
        "\n",
        "    def forward(self, tensor_list: NestedTensor):  # NestedTensor : 입력 이미지 텐서, mask 텐서 결합\n",
        "          x = tensor_list.tensors\n",
        "          mask = tensor_list.mask\n",
        "          assert mask is not None\n",
        "          not_mask = ~mask\n",
        "          y_embed = not_mask.cumsum(1, dtype=torch.float32)\n",
        "          x_embed = not_mask.cumsum(2, dtype=torch.float32)\n",
        "          if self.normalize:\n",
        "              eps = 1e-6\n",
        "              y_embed = y_embed / (y_embed[:, -1:, :] + eps) * self.scale\n",
        "              x_embed = x_embed / (x_embed[:, :, -1:] + eps) * self.scale\n",
        "\n",
        "          dim_t = torch.arange(self.num_pos_feats, dtype=torch.float32, device=x.device)\n",
        "          dim_t = self.temperature ** (2 * (dim_t // 2) / self.num_pos_feats)\n",
        "\n",
        "          pos_x = x_embed[:, :, :, None] / dim_t\n",
        "          pos_y = y_embed[:, :, :, None] / dim_t\n",
        "          pos_x = torch.stack((pos_x[:, :, :, 0::2].sin(), pos_x[:, :, :, 1::2].cos()), dim=4).flatten(3)\n",
        "          pos_y = torch.stack((pos_y[:, :, :, 0::2].sin(), pos_y[:, :, :, 1::2].cos()), dim=4).flatten(3)\n",
        "          pos = torch.cat((pos_y, pos_x), dim=3).permute(0, 3, 1, 2)\n",
        "          \n",
        "          return pos\n"
      ],
      "metadata": {
        "id": "7x1cML0gxj51"
      },
      "execution_count": 3,
      "outputs": []
    },
    {
      "cell_type": "code",
      "source": [
        "position_embedding = PositionEmbeddingSine(256 // 2, normalize=True)"
      ],
      "metadata": {
        "id": "ROSjeW5oy95R"
      },
      "execution_count": 4,
      "outputs": []
    },
    {
      "cell_type": "markdown",
      "source": [
        "## 1. Backbone"
      ],
      "metadata": {
        "id": "3slJVCMY0A11"
      }
    },
    {
      "cell_type": "code",
      "source": [
        "from collections import OrderedDict\n",
        "\n",
        "import torch\n",
        "import torch.nn.functional as F\n",
        "import torchvision\n",
        "from torch import nn\n",
        "from torchvision.models._utils import IntermediateLayerGetter\n",
        "from typing import Dict, List\n",
        "\n",
        "from detr.util.misc import NestedTensor, is_main_process"
      ],
      "metadata": {
        "id": "Y_tw8Doj0AHz"
      },
      "execution_count": 5,
      "outputs": []
    },
    {
      "cell_type": "code",
      "source": [
        "class FrozenBatchNorm2d(torch.nn.Module):\n",
        "    \"\"\"\n",
        "    BatchNorm2d where the batch statistics and the affine parameters are fixed.\n",
        "    Copy-paste from torchvision.misc.ops with added eps before rqsrt,\n",
        "    without which any other models than torchvision.models.resnet[18,34,50,101]\n",
        "    produce nans.\n",
        "    \"\"\"\n",
        "\n",
        "    def __init__(self, n):\n",
        "        super(FrozenBatchNorm2d, self).__init__()\n",
        "        self.register_buffer(\"weight\", torch.ones(n))\n",
        "        self.register_buffer(\"bias\", torch.zeros(n))\n",
        "        self.register_buffer(\"running_mean\", torch.zeros(n))\n",
        "        self.register_buffer(\"running_var\", torch.ones(n))\n",
        "\n",
        "    def _load_from_state_dict(self, state_dict, prefix, local_metadata, strict,\n",
        "                              missing_keys, unexpected_keys, error_msgs):\n",
        "        num_batches_tracked_key = prefix + 'num_batches_tracked'\n",
        "        if num_batches_tracked_key in state_dict:\n",
        "            del state_dict[num_batches_tracked_key]\n",
        "\n",
        "        super(FrozenBatchNorm2d, self)._load_from_state_dict(\n",
        "            state_dict, prefix, local_metadata, strict,\n",
        "            missing_keys, unexpected_keys, error_msgs)\n",
        "\n",
        "    def forward(self, x):\n",
        "        # move reshapes to the beginning\n",
        "        # to make it fuser-friendly\n",
        "        w = self.weight.reshape(1, -1, 1, 1)\n",
        "        b = self.bias.reshape(1, -1, 1, 1)\n",
        "        rv = self.running_var.reshape(1, -1, 1, 1)\n",
        "        rm = self.running_mean.reshape(1, -1, 1, 1)\n",
        "        eps = 1e-5\n",
        "        scale = w * (rv + eps).rsqrt()\n",
        "        bias = b - rm * scale\n",
        "        \n",
        "        return x * scale + bias"
      ],
      "metadata": {
        "id": "wiELEkuQzCDo"
      },
      "execution_count": 6,
      "outputs": []
    },
    {
      "cell_type": "code",
      "source": [
        "class BackboneBase(nn.Module):\n",
        "    def __init__(self, backbone: nn.Module, train_backbone: bool, num_channels: int, return_interm_layers: bool):\n",
        "        super().__init__()\n",
        "        for name, parameter in backbone.named_parameters():\n",
        "             # eval용이거나 / layer2, layer3, layer4가 없으면 (classifier면) 가중치 동결\n",
        "             # layer2~4의 conv layer들만 학습에 사용 (FPN 형식으로 활용-Appendix 참고)\n",
        "            if not train_backbone or 'layer2' not in name and 'layer3' not in name and 'layer4' not in name:\n",
        "                parameter.requires_grad_(False)\n",
        "        \n",
        "        if return_interm_layers:  # conv layer만 반환\n",
        "            return_layers = {\"layer1\": \"0\", \"layer2\": \"1\", \"layer3\": \"2\", \"layer4\": \"3\"}\n",
        "        else:\n",
        "            return_layers = {'layer4': \"0\"}\n",
        "\n",
        "        self.body = IntermediateLayerGetter(backbone, return_layers=return_layers)\n",
        "        self.num_channels = num_channels  # backbone 최종 출력의 채널 차원 지정 (2048)\n",
        "\n",
        "    def forward(self, tensor_list: NestedTensor):\n",
        "        xs = self.body(tensor_list.tensors)  # 입력 (이미지 텐서)\n",
        "        out: Dict[str, NestedTensor] = {}  # 출력\n",
        "        for name, x in xs.items():\n",
        "            m = tensor_list.mask\n",
        "            assert m is not None\n",
        "            mask = F.interpolate(m[None].float(), size=x.shape[-2:]).to(torch.bool)[0]\n",
        "            out[name] = NestedTensor(x, mask)  # 이미지 텐서에 mask 반영\n",
        "\n",
        "        return out\n",
        "\n",
        "\n",
        "# ResNet기반 Backbone 정의\n",
        "class Backbone(BackboneBase):\n",
        "    \"\"\"ResNet backbone with frozen BatchNorm.\"\"\"\n",
        "    def __init__(self, name: str,\n",
        "                 train_backbone: bool,  # backbone을 처음부터 학습시킬 지 여부\n",
        "                 return_interm_layers: bool,  # backbone의 중간 conv layer들을 반환할 지 여부\n",
        "                 dilation: bool):  # dilation conv 사용 여부\n",
        "\n",
        "        # backbone 불러오기         \n",
        "        backbone = getattr(torchvision.models, name)(\n",
        "            replace_stride_with_dilation=[False, False, dilation],  # layer2, 3은 dilation 적용 x\n",
        "            pretrained = is_main_process(), norm_layer=FrozenBatchNorm2d)  # default: pretrained=False\n",
        "        \n",
        "        num_channels = 512 if name in ('resnet18', 'resnet34') else 2048  # backbone conv layer의 최종 출력 채널 dim\n",
        "        super().__init__(backbone, train_backbone, num_channels, return_interm_layers)\n",
        "\n",
        "\n",
        "# Backbone output + Positonal encodings\n",
        "class Joiner(nn.Sequential):\n",
        "    def __init__(self, backbone, position_embedding):\n",
        "        super().__init__(backbone, position_embedding)\n",
        "\n",
        "    def forward(self, tensor_list: NestedTensor):\n",
        "        xs = self[0](tensor_list)\n",
        "        out: List[NestedTensor] = []\n",
        "        pos = []\n",
        "        for name, x in xs.items():\n",
        "            out.append(x)\n",
        "            # position encoding\n",
        "            pos.append(self[1](x).to(x.tensors.dtype))\n",
        "\n",
        "        return out, pos"
      ],
      "metadata": {
        "id": "KEuqrJWbzHsN"
      },
      "execution_count": 7,
      "outputs": []
    },
    {
      "cell_type": "code",
      "source": [
        "# backbone build of official code\n",
        "def build_backbone(args):\n",
        "    position_embedding = build_position_encoding(args)  # position embedding\n",
        "    train_backbone = args.lr_backbone > 0   # True\n",
        "    return_interm_layers = args.masks  # True\n",
        "\n",
        "    backbone = Backbone(args.backbone, train_backbone, return_interm_layers, args.dilation)  # backbone\n",
        "\n",
        "    model = Joiner(backbone, position_embedding)\n",
        "    model.num_channels = backbone.num_channels\n",
        "\n",
        "    return model"
      ],
      "metadata": {
        "id": "UwqvzgsGZ7qA"
      },
      "execution_count": 8,
      "outputs": []
    },
    {
      "cell_type": "code",
      "source": [
        "backbone_name = 'resnet50'\n",
        "lr_backbone = 1e-5\n",
        "train_backbone = lr_backbone > 0  # True \n",
        "return_interm_layers = 'store_true'\n",
        "dilation = 'store_true'\n",
        "\n",
        "backbone = Backbone(backbone_name, train_backbone, return_interm_layers, dilation)\n",
        "backbone = Joiner(backbone, position_embedding)  # position embedding layer가 추가되는 것을 확인\n",
        "backbone.num_channels = 2048"
      ],
      "metadata": {
        "id": "WRV5Kq-L1b0y",
        "colab": {
          "base_uri": "https://localhost:8080/",
          "height": 67,
          "referenced_widgets": [
            "deb752947cd44b519dfc93d8146c5350",
            "c4a86ceb4d0a4760b2f796470723aa9b",
            "78746299d8c1441b88ab40c23414b473",
            "fcafb3d7270142c581b5c9d01aa63a9c",
            "b03aa26586fa4d5c932883275e07734f",
            "2e229ca7349543fcaac0c93efd5ea6ad",
            "8073c2ac934c4a77b215c63ae4154202",
            "92b01092fa024fd8b5e80737dba51551",
            "ba9b871821344fdc9fe5c886068226a2",
            "adda8ae9431b41b093be5031064aa8da",
            "1d1cb88bcfca4e9a8a371b1867074c08"
          ]
        },
        "outputId": "6daade86-78be-45fd-acfb-09e5c73fb3b5"
      },
      "execution_count": 9,
      "outputs": [
        {
          "output_type": "stream",
          "name": "stderr",
          "text": [
            "Downloading: \"https://download.pytorch.org/models/resnet50-0676ba61.pth\" to /root/.cache/torch/hub/checkpoints/resnet50-0676ba61.pth\n"
          ]
        },
        {
          "output_type": "display_data",
          "data": {
            "text/plain": [
              "  0%|          | 0.00/97.8M [00:00<?, ?B/s]"
            ],
            "application/vnd.jupyter.widget-view+json": {
              "version_major": 2,
              "version_minor": 0,
              "model_id": "deb752947cd44b519dfc93d8146c5350"
            }
          },
          "metadata": {}
        }
      ]
    },
    {
      "cell_type": "code",
      "source": [
        "#backbone  # layer1~4반환"
      ],
      "metadata": {
        "id": "nyhqGmGM4bQN"
      },
      "execution_count": null,
      "outputs": []
    },
    {
      "cell_type": "markdown",
      "source": [
        "## 2. Transformer\n",
        "\n",
        "* positional encodings are passed in MHattention\n",
        "\n",
        "* extra LN at the end of encoder is removed\n",
        "\n",
        "* decoder returns a stack of activations from all decoding layers"
      ],
      "metadata": {
        "id": "qNKwNEny41aH"
      }
    },
    {
      "cell_type": "code",
      "source": [
        "import copy\n",
        "from typing import Optional, List\n",
        "\n",
        "import torch\n",
        "import torch.nn.functional as F\n",
        "from torch import nn, Tensor"
      ],
      "metadata": {
        "id": "WOdwUy4v6Hob"
      },
      "execution_count": 11,
      "outputs": []
    },
    {
      "cell_type": "markdown",
      "source": [
        "### 2.1 Encoder "
      ],
      "metadata": {
        "id": "6GmkneYu9szY"
      }
    },
    {
      "cell_type": "code",
      "source": [
        "def _get_clones(module, N):\n",
        "    return nn.ModuleList([copy.deepcopy(module) for i in range(N)])\n",
        "\n",
        "def _get_activation_fn(activation):\n",
        "    \"\"\"Return an activation function given a string\"\"\"\n",
        "    if activation == \"relu\":\n",
        "        return F.relu\n",
        "    if activation == \"gelu\":\n",
        "        return F.gelu\n",
        "    if activation == \"glu\":\n",
        "        return F.glu\n",
        "    raise RuntimeError(F\"activation should be relu/gelu, not {activation}.\")"
      ],
      "metadata": {
        "id": "doTsHC-0b8Pf"
      },
      "execution_count": 15,
      "outputs": []
    },
    {
      "cell_type": "code",
      "source": [
        "class TransformerEncoder(nn.Module):\n",
        "\n",
        "    def __init__(self, encoder_layer, num_layers, norm=None):\n",
        "        super().__init__()\n",
        "        self.layers = _get_clones(encoder_layer, num_layers)\n",
        "        self.num_layers = num_layers\n",
        "        self.norm = norm\n",
        "\n",
        "    def forward(self, src,  # src : 입력 이미지 feature (spatial dim collapsed)\n",
        "                mask: Optional[Tensor] = None,\n",
        "                src_key_padding_mask: Optional[Tensor] = None,\n",
        "                pos: Optional[Tensor] = None):\n",
        "      \n",
        "        output = src\n",
        "        \n",
        "        # src가 encoder layer 통과하며 갱신됨\n",
        "        for layer in self.layers:\n",
        "            output = layer(output, src_mask=mask,\n",
        "                           src_key_padding_mask=src_key_padding_mask, pos=pos)\n",
        "\n",
        "        if self.norm is not None:\n",
        "            output = self.norm(output)\n",
        "\n",
        "        return output  # encdoer embedding representation"
      ],
      "metadata": {
        "id": "SKM9DEvF7N_v"
      },
      "execution_count": 16,
      "outputs": []
    },
    {
      "cell_type": "code",
      "source": [
        "class TransformerEncoderLayer(nn.Module):\n",
        "\n",
        "    def __init__(self, d_model, nhead, dim_feedforward=2048, dropout=0.1,\n",
        "                 activation=\"relu\", normalize_before=False):\n",
        "        super().__init__()\n",
        "\n",
        "        # Multi-head Self attention\n",
        "        self.self_attn = nn.MultiheadAttention(d_model, nhead, dropout=dropout)  # d_model=256\n",
        "\n",
        "        # FFN\n",
        "        self.linear1 = nn.Linear(d_model, dim_feedforward)  # dim_feedforward=2048\n",
        "        self.dropout = nn.Dropout(dropout)\n",
        "        self.linear2 = nn.Linear(dim_feedforward, d_model)\n",
        "\n",
        "        self.norm1 = nn.LayerNorm(d_model)\n",
        "        self.norm2 = nn.LayerNorm(d_model)\n",
        "        self.dropout1 = nn.Dropout(dropout)\n",
        "        self.dropout2 = nn.Dropout(dropout)\n",
        "\n",
        "        self.activation = _get_activation_fn(activation)\n",
        "        self.normalize_before = normalize_before  # normalize한 후 layer에 통과 (default=True이기 때문에 forward pre사용)\n",
        "    \n",
        "    # img feature 입력 (src) + positional encoding\n",
        "    def with_pos_embed(self, tensor, pos: Optional[Tensor]):\n",
        "        return tensor if pos is None else tensor + pos\n",
        "    \n",
        "    def forward_pre(self, src,\n",
        "                    src_mask: Optional[Tensor] = None,\n",
        "                    src_key_padding_mask: Optional[Tensor] = None,\n",
        "                    pos: Optional[Tensor] = None):\n",
        "        \n",
        "        # normalize before\n",
        "        src2 = self.norm1(src)\n",
        "\n",
        "        # query & key = src + pos_embedding / value : normalized src (w.o pos_emb)\n",
        "        q = k = self.with_pos_embed(src2, pos)\n",
        "        src2 = self.self_attn(q, k, value=src2, attn_mask=src_mask,\n",
        "                              key_padding_mask=src_key_padding_mask)[0]\n",
        "\n",
        "        # 여러 layer를 거치면서 src가 갱신됨 (2.3의 memory)                  \n",
        "        src = src + self.dropout1(src2)\n",
        "        src2 = self.norm2(src)\n",
        "        src2 = self.linear2(self.dropout(self.activation(self.linear1(src2))))\n",
        "        src = src + self.dropout2(src2)\n",
        "\n",
        "        return src\n",
        "\n",
        "    def forward(self, src,\n",
        "                src_mask: Optional[Tensor] = None,\n",
        "                src_key_padding_mask: Optional[Tensor] = None,\n",
        "                pos: Optional[Tensor] = None):\n",
        "      \n",
        "        return self.forward_pre(src, src_mask, src_key_padding_mask, pos)"
      ],
      "metadata": {
        "id": "gpTp1r9a7OCs"
      },
      "execution_count": 17,
      "outputs": []
    },
    {
      "cell_type": "markdown",
      "source": [
        "### 2.2 Decoder\n",
        "\n",
        "Object query를 입력으로 받음 (small fixed # of learned positional embeddings)\n",
        "\n",
        "  - Self attention 수행\n",
        "\n",
        "  - Encoder output과 attention 수행 (pair-wise relationship 학습, 이미지에 대한 global text 반영)"
      ],
      "metadata": {
        "id": "APRVMvgu9v6v"
      }
    },
    {
      "cell_type": "code",
      "source": [
        "class TransformerDecoder(nn.Module):\n",
        "    def __init__(self, decoder_layer, num_layers, norm=None, return_intermediate=False):\n",
        "        super().__init__()\n",
        "        self.layers = _get_clones(decoder_layer, num_layers)\n",
        "        self.num_layers = num_layers\n",
        "        self.norm = norm\n",
        "        self.return_intermediate = return_intermediate\n",
        "\n",
        "    def forward(self, tgt, memory,  # object query embedding, encoder output\n",
        "                tgt_mask: Optional[Tensor] = None,\n",
        "                memory_mask: Optional[Tensor] = None,\n",
        "                tgt_key_padding_mask: Optional[Tensor] = None,\n",
        "                memory_key_padding_mask: Optional[Tensor] = None,\n",
        "                pos: Optional[Tensor] = None,  # position embedding (for encoder & decoder)\n",
        "                query_pos: Optional[Tensor] = None):  # position embedding (for object query)\n",
        "      \n",
        "        output = tgt  # object query\n",
        "        intermediate = []\n",
        "        \n",
        "        # Decoder layer 통과 - object query와 encoder출력(memory) 간의 attention\n",
        "        # 초기화된 object query가 갱신됨\n",
        "        for layer in self.layers:\n",
        "            output = layer(output, memory, tgt_mask=tgt_mask,\n",
        "                           memory_mask=memory_mask,\n",
        "                           tgt_key_padding_mask=tgt_key_padding_mask,\n",
        "                           memory_key_padding_mask=memory_key_padding_mask,\n",
        "                           pos=pos, query_pos=query_pos)\n",
        "            \n",
        "            if self.return_intermediate:\n",
        "                intermediate.append(self.norm(output))\n",
        "\n",
        "        if self.norm is not None:\n",
        "            output = self.norm(output)\n",
        "            if self.return_intermediate:\n",
        "                intermediate.pop()\n",
        "                intermediate.append(output)\n",
        "\n",
        "        if self.return_intermediate:\n",
        "            return torch.stack(intermediate)\n",
        "\n",
        "        return output.unsqueeze(0)"
      ],
      "metadata": {
        "id": "8jwxe9up9xw5"
      },
      "execution_count": null,
      "outputs": []
    },
    {
      "cell_type": "code",
      "source": [
        "class TransformerDecoderLayer(nn.Module):\n",
        "\n",
        "    def __init__(self, d_model, nhead, dim_feedforward=2048, dropout=0.1,\n",
        "                 activation=\"relu\", normalize_before=False):\n",
        "        super().__init__()\n",
        "\n",
        "        # MHA\n",
        "        self.self_attn = nn.MultiheadAttention(d_model, nhead, dropout=dropout)  # self-attn\n",
        "        self.multihead_attn = nn.MultiheadAttention(d_model, nhead, dropout=dropout)  # cross-attn\n",
        "\n",
        "        # Implementation of Feedforward model\n",
        "        self.linear1 = nn.Linear(d_model, dim_feedforward)\n",
        "        self.dropout = nn.Dropout(dropout)\n",
        "        self.linear2 = nn.Linear(dim_feedforward, d_model)\n",
        "\n",
        "        self.norm1 = nn.LayerNorm(d_model)\n",
        "        self.norm2 = nn.LayerNorm(d_model)\n",
        "        self.norm3 = nn.LayerNorm(d_model)\n",
        "        self.dropout1 = nn.Dropout(dropout)\n",
        "        self.dropout2 = nn.Dropout(dropout)\n",
        "        self.dropout3 = nn.Dropout(dropout)\n",
        "\n",
        "        self.activation = _get_activation_fn(activation)\n",
        "        self.normalize_before = normalize_before\n",
        "\n",
        "    def with_pos_embed(self, tensor, pos: Optional[Tensor]):\n",
        "        return tensor if pos is None else tensor + pos\n",
        "\n",
        "    def forward_pre(self, tgt, memory,\n",
        "                    tgt_mask: Optional[Tensor] = None,\n",
        "                    memory_mask: Optional[Tensor] = None,\n",
        "                    tgt_key_padding_mask: Optional[Tensor] = None,\n",
        "                    memory_key_padding_mask: Optional[Tensor] = None,\n",
        "                    pos: Optional[Tensor] = None,\n",
        "                    query_pos: Optional[Tensor] = None):\n",
        "        \n",
        "        # normalize object query before\n",
        "        tgt2 = self.norm1(tgt)\n",
        "        q = k = self.with_pos_embed(tgt2, query_pos)  # object query + position embedding\n",
        "\n",
        "        # self attention (object query)\n",
        "        tgt2 = self.self_attn(q, k, value=tgt2, attn_mask=tgt_mask,\n",
        "                              key_padding_mask=tgt_key_padding_mask)[0]\n",
        "        tgt = tgt + self.dropout1(tgt2)\n",
        "        tgt2 = self.norm2(tgt)\n",
        "\n",
        "        # cross attention (object query - encoder output)\n",
        "        tgt2 = self.multihead_attn(query=self.with_pos_embed(tgt2, query_pos),  # object query + position embedding\n",
        "                                   key=self.with_pos_embed(memory, pos),  # encoder output + position embedding\n",
        "                                   value=memory, attn_mask=memory_mask,  # encoder output with mask\n",
        "                                   key_padding_mask=memory_key_padding_mask)[0]\n",
        "                                   \n",
        "        tgt = tgt + self.dropout2(tgt2)\n",
        "        tgt2 = self.norm3(tgt)\n",
        "        tgt2 = self.linear2(self.dropout(self.activation(self.linear1(tgt2))))\n",
        "        tgt = tgt + self.dropout3(tgt2)\n",
        "\n",
        "        return tgt  # output embedding\n",
        "\n",
        "    def forward(self, tgt, memory,\n",
        "                tgt_mask: Optional[Tensor] = None,\n",
        "                memory_mask: Optional[Tensor] = None,\n",
        "                tgt_key_padding_mask: Optional[Tensor] = None,\n",
        "                memory_key_padding_mask: Optional[Tensor] = None,\n",
        "                pos: Optional[Tensor] = None,\n",
        "                query_pos: Optional[Tensor] = None):\n",
        "      \n",
        "        return self.forward_pre(tgt, memory, tgt_mask, memory_mask,\n",
        "                                tgt_key_padding_mask, memory_key_padding_mask, pos, query_pos)"
      ],
      "metadata": {
        "id": "FHEranQZ9xze"
      },
      "execution_count": null,
      "outputs": []
    },
    {
      "cell_type": "markdown",
      "source": [
        "### 2.3 Transformer Network"
      ],
      "metadata": {
        "id": "ju6TCACcAwb6"
      }
    },
    {
      "cell_type": "code",
      "source": [
        "class Transformer(nn.Module):\n",
        "\n",
        "    def __init__(self, d_model=512, nhead=8, num_encoder_layers=6,\n",
        "                 num_decoder_layers=6, dim_feedforward=2048, dropout=0.1,\n",
        "                 activation=\"relu\", normalize_before=False,\n",
        "                 return_intermediate_dec=False):\n",
        "        super().__init__()\n",
        "        \n",
        "        # Encoder\n",
        "        encoder_layer = TransformerEncoderLayer(d_model, nhead, dim_feedforward,\n",
        "                                                dropout, activation, normalize_before)\n",
        "        encoder_norm = nn.LayerNorm(d_model) if normalize_before else None\n",
        "        self.encoder = TransformerEncoder(encoder_layer, num_encoder_layers, encoder_norm)\n",
        "        \n",
        "        # Decoder\n",
        "        decoder_layer = TransformerDecoderLayer(d_model, nhead, dim_feedforward,\n",
        "                                                dropout, activation, normalize_before)\n",
        "        decoder_norm = nn.LayerNorm(d_model)\n",
        "        self.decoder = TransformerDecoder(decoder_layer, num_decoder_layers, decoder_norm,\n",
        "                                          return_intermediate=return_intermediate_dec)\n",
        "        \n",
        "        self._reset_parameters()\n",
        "\n",
        "        self.d_model = d_model  # 512\n",
        "        self.nhead = nhead\n",
        "\n",
        "    def _reset_parameters(self):\n",
        "        for p in self.parameters():\n",
        "            if p.dim() > 1:\n",
        "                nn.init.xavier_uniform_(p)\n",
        "\n",
        "    def forward(self, src, mask, query_embed, pos_embed):\n",
        "        # flatten NxCxHxW image feature(backbone output) to HWxNxC\n",
        "        bs, c, h, w = src.shape\n",
        "        src = src.flatten(2).permute(2, 0, 1)  # Encdoer 입력\n",
        "\n",
        "        pos_embed = pos_embed.flatten(2).permute(2, 0, 1)  # positional encoding\n",
        "        query_embed = query_embed.unsqueeze(1).repeat(1, bs, 1)  # object query embedding\n",
        "        mask = mask.flatten(1)  # attention mask\n",
        "\n",
        "        tgt = torch.zeros_like(query_embed)  # Decoder 입력\n",
        "        memory = self.encoder(src, src_key_padding_mask=mask, pos=pos_embed)  # Encoder 출력\n",
        "        hs = self.decoder(tgt, memory, memory_key_padding_mask=mask,  # tgt, memory : object query, encoder output간의 attn\n",
        "                          pos=pos_embed, query_pos=query_embed)  # hs : output embedding of object queries\n",
        "        \n",
        "        return hs.transpose(1, 2), memory.permute(1, 2, 0).view(bs, c, h, w)"
      ],
      "metadata": {
        "id": "Mdso0I7G6PNg"
      },
      "execution_count": null,
      "outputs": []
    },
    {
      "cell_type": "code",
      "source": [
        "# Transformer Parameters\n",
        "d_model = hidden_dim = 256  # 2048 ch -> 256 ch (backbone 출력에 1x1 conv를 통해 차원 축소)\n",
        "dropout = 0.1\n",
        "nhead = 8\n",
        "dim_feedforward = 2048  # Transformer의 FFN layers에서의 intermediate size\n",
        "num_encoder_layers = enc_layers = 6\n",
        "num_decoder_layers = dec_layers = 6\n",
        "normalize_before = 'store_true'\n",
        "return_intermediate_dec = True "
      ],
      "metadata": {
        "id": "y8dTF5Rl6PQX"
      },
      "execution_count": null,
      "outputs": []
    },
    {
      "cell_type": "code",
      "source": [
        "Transformer = Transformer()"
      ],
      "metadata": {
        "id": "Mi_66uf9MS7q"
      },
      "execution_count": null,
      "outputs": []
    },
    {
      "cell_type": "markdown",
      "source": [
        "## 3. Hungarian Matcher\n",
        "\n",
        "Modules to compute the matching cost and solve the corresponding LSAP."
      ],
      "metadata": {
        "id": "1sGXO3IoSeYb"
      }
    },
    {
      "cell_type": "code",
      "source": [
        "import torch\n",
        "from scipy.optimize import linear_sum_assignment\n",
        "from torch import nn\n",
        "\n",
        "from detr.util.box_ops import box_cxcywh_to_xyxy, generalized_box_iou"
      ],
      "metadata": {
        "id": "4P4k_Q_DSc3h"
      },
      "execution_count": null,
      "outputs": []
    },
    {
      "cell_type": "code",
      "source": [
        "class HungarianMatcher(nn.Module):\n",
        "    \"\"\"This class computes an unique assignment between the targets and the predictions of the network (1대1 매칭)\n",
        "    For efficiency reasons, the targets don't include the no_object. Because of this, in general,\n",
        "    there are more predictions than targets. In this case, we do a 1-to-1 matching of the best predictions,\n",
        "    while the others are un-matched (and thus treated as non-objects).\n",
        "    \"\"\"\n",
        "\n",
        "    def __init__(self, cost_class: float = 1, cost_bbox: float = 1, cost_giou: float = 1):\n",
        "        \"\"\"\n",
        "        Params: matching cost를 구성하는 개별 loss들에 대한 가중치\n",
        "            cost_class : relative weight of the classification error \n",
        "            cost_bbox : relative weight of the L1 error of the bounding box coordinates \n",
        "            cost_giou : relative weight of the giou loss of the bounding box \n",
        "        \"\"\"\n",
        "        super().__init__()\n",
        "        self.cost_class = cost_class\n",
        "        self.cost_bbox = cost_bbox\n",
        "        self.cost_giou = cost_giou\n",
        "        assert cost_class != 0 or cost_bbox != 0 or cost_giou != 0, \"all costs cant be 0\"\n",
        "\n",
        "    @torch.no_grad()\n",
        "    def forward(self, outputs, targets):\n",
        "        '''Params:\n",
        "               outputs: DETR 네트워크의 출력\n",
        "                   \"pred_logits\": classification logits - [batch_size, num_queries, num_classes]\n",
        "                   \"pred_boxes\": predicted box coordinates - [batch_size, num_queries, 4]\n",
        "\n",
        "               targets: GT targets (len(targets) = batch_size)\n",
        "                   \"labels\": class labels - [num_target_boxes]\n",
        "                   \"boxes\": target box coordinates - [num_target_boxes, 4]\n",
        "\n",
        "            Returns:\n",
        "                A list of size batch_size, containing tuples of (index_i, index_j) where:\n",
        "                    - index_i is the indices of the selected predictions (in order)\n",
        "                    - index_j is the indices of the corresponding selected targets (in order)\n",
        "                For each batch element, it holds:\n",
        "                    len(index_i) = len(index_j) = min(num_queries, num_target_boxes)'''\n",
        "\n",
        "        bs, num_queries = outputs[\"pred_logits\"].shape[:2]\n",
        "\n",
        "        out_prob = outputs[\"pred_logits\"].flatten(0, 1).softmax(-1)  # [batch_size * num_queries, num_classes]\n",
        "        out_bbox = outputs[\"pred_boxes\"].flatten(0, 1)  # [batch_size * num_queries, 4]\n",
        "\n",
        "        # Also concat the target labels and boxes\n",
        "        tgt_ids = torch.cat([v[\"labels\"] for v in targets])\n",
        "        tgt_bbox = torch.cat([v[\"boxes\"] for v in targets])\n",
        "\n",
        "        # Compute the classification cost. Contrary to the loss, we don't use the NLL,\n",
        "        # but approximate it in 1 - proba[target class].\n",
        "        # The 1 is a constant that doesn't change the matching, it can be ommitted.\n",
        "        cost_class = -out_prob[:, tgt_ids]\n",
        "\n",
        "        # Compute the L1 cost between boxes\n",
        "        cost_bbox = torch.cdist(out_bbox, tgt_bbox, p=1)\n",
        "\n",
        "        # Compute the giou cost betwen boxes\n",
        "        cost_giou = -generalized_box_iou(box_cxcywh_to_xyxy(out_bbox), box_cxcywh_to_xyxy(tgt_bbox))\n",
        "\n",
        "        # Final cost matrix\n",
        "        C = self.cost_bbox * cost_bbox + self.cost_class * cost_class + self.cost_giou * cost_giou\n",
        "        C = C.view(bs, num_queries, -1).cpu()\n",
        "\n",
        "        sizes = [len(v[\"boxes\"]) for v in targets]\n",
        "        indices = [linear_sum_assignment(c[i]) for i, c in enumerate(C.split(sizes, -1))]\n",
        "\n",
        "        return [(torch.as_tensor(i, dtype=torch.int64), torch.as_tensor(j, dtype=torch.int64)) for i, j in indices]"
      ],
      "metadata": {
        "id": "ZpYv4nuNSc56"
      },
      "execution_count": null,
      "outputs": []
    },
    {
      "cell_type": "code",
      "source": [
        "set_cost_class = 1\n",
        "set_cost_bbox = 5\n",
        "set_cost_giou = 2"
      ],
      "metadata": {
        "id": "OrOPJdJJU4Fy"
      },
      "execution_count": null,
      "outputs": []
    },
    {
      "cell_type": "code",
      "source": [
        "HungarianMatcher = HungarianMatcher(cost_class=set_cost_class, cost_bbox=set_cost_bbox, cost_giou=set_cost_giou)"
      ],
      "metadata": {
        "id": "SLrOuULMSc8n"
      },
      "execution_count": null,
      "outputs": []
    },
    {
      "cell_type": "markdown",
      "source": [
        "## 4. DETR\n",
        "\n",
        "DETR module that performs object detection (bbox reg + class label pred)"
      ],
      "metadata": {
        "id": "joBH1Nx4o5-L"
      }
    },
    {
      "cell_type": "code",
      "source": [
        "import torch\n",
        "import torch.nn.functional as F\n",
        "from torch import nn\n",
        "\n",
        "from detr.util import box_ops\n",
        "from detr.util.misc import (NestedTensor, nested_tensor_from_tensor_list,\n",
        "                            accuracy, get_world_size, interpolate,\n",
        "                            is_dist_avail_and_initialized)"
      ],
      "metadata": {
        "id": "vv2QDAjSo5K0"
      },
      "execution_count": null,
      "outputs": []
    },
    {
      "cell_type": "markdown",
      "source": [
        "### 4.1 Network"
      ],
      "metadata": {
        "id": "WnYA6eeUsBm9"
      }
    },
    {
      "cell_type": "code",
      "source": [
        "class MLP(nn.Module):\n",
        "    \"\"\" Very simple multi-layer perceptron (also called FFN)\n",
        "        최종 예측은 hidden_dim=256에 대한 3개의 MLP layer 연산을 통해 출력됨\"\"\"\n",
        "\n",
        "    def __init__(self, input_dim, hidden_dim, output_dim, num_layers):\n",
        "        super().__init__()\n",
        "        self.num_layers = num_layers  # 3\n",
        "        h = [hidden_dim] * (num_layers - 1)\n",
        "        # input_dim -> hidden_dim -> output_dim 형식\n",
        "        self.layers = nn.ModuleList(nn.Linear(n, k) for n, k in zip([input_dim] + h, h + [output_dim]))  \n",
        "\n",
        "    def forward(self, x):\n",
        "        for i, layer in enumerate(self.layers):\n",
        "            x = F.relu(layer(x)) if i < self.num_layers - 1 else layer(x)\n",
        "        return x"
      ],
      "metadata": {
        "id": "aTgKgZCoptw8"
      },
      "execution_count": null,
      "outputs": []
    },
    {
      "cell_type": "code",
      "source": [
        "class DETR(nn.Module):\n",
        "    def __init__(self, backbone, transformer, num_classes, num_queries, aux_loss=False):\n",
        "        \"\"\" \n",
        "        Parameters:\n",
        "            backbone: 1.Backbone\n",
        "            transformer: 2. Transformer\n",
        "            num_classes: # of object classes\n",
        "            num_queries: # of object queries, ie detection slot. (recommend=100)\n",
        "\n",
        "            aux_loss: True if auxiliary decoding losses (loss at each decoder layer) are to be used.\n",
        "        \"\"\"\n",
        "        super().__init__()\n",
        "        self.num_queries = num_queries\n",
        "        self.transformer = transformer\n",
        "        hidden_dim = transformer.d_model\n",
        "\n",
        "        self.class_embed = nn.Linear(hidden_dim, num_classes + 1)  # +1 : no object 추가\n",
        "        self.bbox_embed = MLP(hidden_dim, hidden_dim, 4, 3)  # MLP 3개를 거쳐서 예측됨\n",
        "\n",
        "        self.query_embed = nn.Embedding(num_queries, hidden_dim)  # object query embedding\n",
        "        self.input_proj = nn.Conv2d(backbone.num_channels, hidden_dim, kernel_size=1)  # proj of Transformer\n",
        "        self.backbone = backbone\n",
        "        self.aux_loss = aux_loss  # default=False (Bipartite matching loss를 사용)\n",
        "\n",
        "    def forward(self, samples: NestedTensor):\n",
        "        \"\"\" NestedTensor :\n",
        "               - samples.tensor: minibatch - [batch_size x 3 x H x W]\n",
        "               - samples.mask: mask - [batch_size x H x W]\n",
        "\n",
        "            Return :\n",
        "               - \"pred_logits\": the classification logits (including no-object) for all object queries.\n",
        "                                Shape= [batch_size x num_queries x (num_classes + 1)]\n",
        "               - \"pred_boxes\": The normalized boxes coordinates for all object queries - (center_x, center_y, height, width)\n",
        "                               Postprocessing 과정 필요\n",
        "        \"\"\"\n",
        "        if isinstance(samples, (list, torch.Tensor)):\n",
        "            samples = nested_tensor_from_tensor_list(samples)  # img with mask\n",
        "\n",
        "        # 1. Backbone    \n",
        "        features, pos = self.backbone(samples)\n",
        "        \n",
        "        # 2. Transformer\n",
        "        src, mask = features[-1].decompose()\n",
        "        assert mask is not None\n",
        "        hs = self.transformer(self.input_proj(src), mask, self.query_embed.weight, pos[-1])[0]  # output embedding\n",
        "\n",
        "        # 3. Prediction FFNs\n",
        "        outputs_class = self.class_embed(hs)\n",
        "        outputs_coord = self.bbox_embed(hs).sigmoid()\n",
        "        out = {'pred_logits': outputs_class[-1], 'pred_boxes': outputs_coord[-1]}\n",
        "        if self.aux_loss:\n",
        "            out['aux_outputs'] = self._set_aux_loss(outputs_class, outputs_coord)\n",
        "            \n",
        "        return out"
      ],
      "metadata": {
        "id": "699g9uQqo5VQ"
      },
      "execution_count": null,
      "outputs": []
    },
    {
      "cell_type": "markdown",
      "source": [
        "### 4.2 Loss"
      ],
      "metadata": {
        "id": "MPbixRa-sXyz"
      }
    },
    {
      "cell_type": "code",
      "source": [
        "class SetCriterion(nn.Module):\n",
        "    \"\"\" This class computes the loss for DETR.\n",
        "    The process happens in two steps:\n",
        "        1) we compute hungarian assignment between ground truth boxes and the outputs of the model\n",
        "        2) we supervise each pair of matched ground-truth / prediction (supervise class and box)\n",
        "    \"\"\"\n",
        "    def __init__(self, num_classes, matcher, weight_dict, eos_coef, losses):\n",
        "        \"\"\" Create the criterion.\n",
        "        Parameters:\n",
        "            num_classes: number of object categories, omitting the special no-object category\n",
        "            matcher: module able to compute a matching between targets and proposals\n",
        "            weight_dict: dict containing as key the names of the losses and as values their relative weight.\n",
        "            eos_coef: relative classification weight applied to the no-object category\n",
        "            losses: list of all the losses to be applied. See get_loss for list of available losses.\n",
        "        \"\"\"\n",
        "        super().__init__()\n",
        "        self.num_classes = num_classes\n",
        "        self.matcher = matcher\n",
        "        self.weight_dict = weight_dict\n",
        "        self.eos_coef = eos_coef  # matching loss의 hyper-parameter\n",
        "        self.losses = losses\n",
        "        empty_weight = torch.ones(self.num_classes + 1)\n",
        "        empty_weight[-1] = self.eos_coef\n",
        "        self.register_buffer('empty_weight', empty_weight)\n",
        "\n",
        "    def loss_labels(self, outputs, targets, indices, num_boxes, log=True):\n",
        "        \"\"\"Classification loss (NLL)\n",
        "        targets dicts must contain the key \"labels\" containing a tensor of dim [nb_target_boxes]\n",
        "        \"\"\"\n",
        "        assert 'pred_logits' in outputs\n",
        "        src_logits = outputs['pred_logits']\n",
        "\n",
        "        idx = self._get_src_permutation_idx(indices)\n",
        "        target_classes_o = torch.cat([t[\"labels\"][J] for t, (_, J) in zip(targets, indices)])\n",
        "        target_classes = torch.full(src_logits.shape[:2], self.num_classes,\n",
        "                                    dtype=torch.int64, device=src_logits.device)\n",
        "        target_classes[idx] = target_classes_o\n",
        "\n",
        "        loss_ce = F.cross_entropy(src_logits.transpose(1, 2), target_classes, self.empty_weight)\n",
        "        losses = {'loss_ce': loss_ce}\n",
        "\n",
        "        if log:\n",
        "            # TODO this should probably be a separate loss, not hacked in this one here\n",
        "            losses['class_error'] = 100 - accuracy(src_logits[idx], target_classes_o)[0]\n",
        "        return losses\n",
        "\n",
        "    @torch.no_grad()\n",
        "    def loss_cardinality(self, outputs, targets, indices, num_boxes):\n",
        "        \"\"\" Compute the cardinality error, ie the absolute error in the number of predicted non-empty boxes\n",
        "        This is not really a loss, it is intended for logging purposes only. It doesn't propagate gradients\n",
        "        \"\"\"\n",
        "        pred_logits = outputs['pred_logits']\n",
        "        device = pred_logits.device\n",
        "        tgt_lengths = torch.as_tensor([len(v[\"labels\"]) for v in targets], device=device)\n",
        "        # Count the number of predictions that are NOT \"no-object\" (which is the last class)\n",
        "        card_pred = (pred_logits.argmax(-1) != pred_logits.shape[-1] - 1).sum(1)\n",
        "        card_err = F.l1_loss(card_pred.float(), tgt_lengths.float())\n",
        "        losses = {'cardinality_error': card_err}\n",
        "        return losses\n",
        "\n",
        "    def loss_boxes(self, outputs, targets, indices, num_boxes):\n",
        "        \"\"\"Compute the losses related to the bounding boxes, the L1 regression loss and the GIoU loss\n",
        "           targets dicts must contain the key \"boxes\" containing a tensor of dim [nb_target_boxes, 4]\n",
        "           The target boxes are expected in format (center_x, center_y, w, h), normalized by the image size.\n",
        "        \"\"\"\n",
        "        assert 'pred_boxes' in outputs\n",
        "        idx = self._get_src_permutation_idx(indices)\n",
        "        src_boxes = outputs['pred_boxes'][idx]\n",
        "        target_boxes = torch.cat([t['boxes'][i] for t, (_, i) in zip(targets, indices)], dim=0)\n",
        "\n",
        "        loss_bbox = F.l1_loss(src_boxes, target_boxes, reduction='none')\n",
        "\n",
        "        losses = {}\n",
        "        losses['loss_bbox'] = loss_bbox.sum() / num_boxes\n",
        "\n",
        "        loss_giou = 1 - torch.diag(box_ops.generalized_box_iou(\n",
        "            box_ops.box_cxcywh_to_xyxy(src_boxes),\n",
        "            box_ops.box_cxcywh_to_xyxy(target_boxes)))\n",
        "        losses['loss_giou'] = loss_giou.sum() / num_boxes\n",
        "        return losses\n",
        "\n",
        "    def loss_masks(self, outputs, targets, indices, num_boxes):\n",
        "        \"\"\"Compute the losses related to the masks: the focal loss and the dice loss.\n",
        "           targets dicts must contain the key \"masks\" containing a tensor of dim [nb_target_boxes, h, w]\n",
        "        \"\"\"\n",
        "        assert \"pred_masks\" in outputs\n",
        "\n",
        "        src_idx = self._get_src_permutation_idx(indices)\n",
        "        tgt_idx = self._get_tgt_permutation_idx(indices)\n",
        "        src_masks = outputs[\"pred_masks\"]\n",
        "        src_masks = src_masks[src_idx]\n",
        "        masks = [t[\"masks\"] for t in targets]\n",
        "        # TODO use valid to mask invalid areas due to padding in loss\n",
        "        target_masks, valid = nested_tensor_from_tensor_list(masks).decompose()\n",
        "        target_masks = target_masks.to(src_masks)\n",
        "        target_masks = target_masks[tgt_idx]\n",
        "\n",
        "        # upsample predictions to the target size\n",
        "        src_masks = interpolate(src_masks[:, None], size=target_masks.shape[-2:],\n",
        "                                mode=\"bilinear\", align_corners=False)\n",
        "        src_masks = src_masks[:, 0].flatten(1)\n",
        "\n",
        "        target_masks = target_masks.flatten(1)\n",
        "        target_masks = target_masks.view(src_masks.shape)\n",
        "        losses = {\n",
        "            \"loss_mask\": sigmoid_focal_loss(src_masks, target_masks, num_boxes),\n",
        "            \"loss_dice\": dice_loss(src_masks, target_masks, num_boxes),\n",
        "        }\n",
        "        return losses\n",
        "\n",
        "    def _get_src_permutation_idx(self, indices):\n",
        "        # permute predictions following indices\n",
        "        batch_idx = torch.cat([torch.full_like(src, i) for i, (src, _) in enumerate(indices)])\n",
        "        src_idx = torch.cat([src for (src, _) in indices])\n",
        "        return batch_idx, src_idx\n",
        "\n",
        "    def _get_tgt_permutation_idx(self, indices):\n",
        "        # permute targets following indices\n",
        "        batch_idx = torch.cat([torch.full_like(tgt, i) for i, (_, tgt) in enumerate(indices)])\n",
        "        tgt_idx = torch.cat([tgt for (_, tgt) in indices])\n",
        "        return batch_idx, tgt_idx\n",
        "\n",
        "    def get_loss(self, loss, outputs, targets, indices, num_boxes, **kwargs):\n",
        "        loss_map = {\n",
        "            'labels': self.loss_labels,\n",
        "            'cardinality': self.loss_cardinality,\n",
        "            'boxes': self.loss_boxes,\n",
        "            'masks': self.loss_masks\n",
        "        }\n",
        "        assert loss in loss_map, f'do you really want to compute {loss} loss?'\n",
        "        return loss_map[loss](outputs, targets, indices, num_boxes, **kwargs)\n",
        "\n",
        "    def forward(self, outputs, targets):\n",
        "        \"\"\" This performs the loss computation.\n",
        "        Parameters:\n",
        "             outputs: dict of tensors, see the output specification of the model for the format\n",
        "             targets: list of dicts, such that len(targets) == batch_size.\n",
        "                      The expected keys in each dict depends on the losses applied, see each loss' doc\n",
        "        \"\"\"\n",
        "        outputs_without_aux = {k: v for k, v in outputs.items() if k != 'aux_outputs'}\n",
        "\n",
        "        # Retrieve the matching between the outputs of the last layer and the targets\n",
        "        indices = self.matcher(outputs_without_aux, targets)\n",
        "\n",
        "        # Compute the average number of target boxes accross all nodes, for normalization purposes\n",
        "        num_boxes = sum(len(t[\"labels\"]) for t in targets)\n",
        "        num_boxes = torch.as_tensor([num_boxes], dtype=torch.float, device=next(iter(outputs.values())).device)\n",
        "        if is_dist_avail_and_initialized():\n",
        "            torch.distributed.all_reduce(num_boxes)\n",
        "        num_boxes = torch.clamp(num_boxes / get_world_size(), min=1).item()\n",
        "\n",
        "        # Compute all the requested losses\n",
        "        losses = {}\n",
        "        for loss in self.losses:\n",
        "            losses.update(self.get_loss(loss, outputs, targets, indices, num_boxes))\n",
        "\n",
        "        # In case of auxiliary losses, we repeat this process with the output of each intermediate layer.\n",
        "        if 'aux_outputs' in outputs:\n",
        "            for i, aux_outputs in enumerate(outputs['aux_outputs']):\n",
        "                indices = self.matcher(aux_outputs, targets)\n",
        "                for loss in self.losses:\n",
        "                    if loss == 'masks':\n",
        "                        # Intermediate masks losses are too costly to compute, we ignore them.\n",
        "                        continue\n",
        "                    kwargs = {}\n",
        "                    if loss == 'labels':\n",
        "                        # Logging is enabled only for the last layer\n",
        "                        kwargs = {'log': False}\n",
        "                    l_dict = self.get_loss(loss, aux_outputs, targets, indices, num_boxes, **kwargs)\n",
        "                    l_dict = {k + f'_{i}': v for k, v in l_dict.items()}\n",
        "                    losses.update(l_dict)\n",
        "\n",
        "        return losses"
      ],
      "metadata": {
        "id": "ReCHgVIxo5YG"
      },
      "execution_count": null,
      "outputs": []
    },
    {
      "cell_type": "markdown",
      "source": [
        "### 4.3 PostProcess"
      ],
      "metadata": {
        "id": "Zxu6-nTrs61p"
      }
    },
    {
      "cell_type": "code",
      "source": [
        "class PostProcess(nn.Module):\n",
        "    \"\"\" This module converts the model's output into the format expected by the coco api\"\"\"\n",
        "    @torch.no_grad()\n",
        "    def forward(self, outputs, target_sizes):\n",
        "        \"\"\" Perform the computation\n",
        "        Parameters:\n",
        "            outputs: raw outputs of the model\n",
        "            target_sizes: tensor of dimension [batch_size x 2] containing the size of each images of the batch\n",
        "                          For evaluation, this must be the original image size (before any data augmentation)\n",
        "                          For visualization, this should be the image size after data augment, but before padding\n",
        "        \"\"\"\n",
        "        out_logits, out_bbox = outputs['pred_logits'], outputs['pred_boxes']\n",
        "\n",
        "        assert len(out_logits) == len(target_sizes)\n",
        "        assert target_sizes.shape[1] == 2\n",
        "\n",
        "        prob = F.softmax(out_logits, -1)\n",
        "        scores, labels = prob[..., :-1].max(-1)\n",
        "\n",
        "        # convert to [x0, y0, x1, y1] format\n",
        "        boxes = box_ops.box_cxcywh_to_xyxy(out_bbox)\n",
        "        # and from relative [0, 1] to absolute [0, height] coordinates\n",
        "        img_h, img_w = target_sizes.unbind(1)\n",
        "        scale_fct = torch.stack([img_w, img_h, img_w, img_h], dim=1)\n",
        "        boxes = boxes * scale_fct[:, None, :]\n",
        "\n",
        "        results = [{'scores': s, 'labels': l, 'boxes': b} for s, l, b in zip(scores, labels, boxes)]\n",
        "\n",
        "        return results"
      ],
      "metadata": {
        "id": "S8Ghppy4o5ar"
      },
      "execution_count": null,
      "outputs": []
    },
    {
      "cell_type": "markdown",
      "source": [
        "## 5. Build DETR"
      ],
      "metadata": {
        "id": "dl5HhhpF28Bv"
      }
    },
    {
      "cell_type": "markdown",
      "source": [
        "### 5.1 Setting"
      ],
      "metadata": {
        "id": "chaaBfht3R8t"
      }
    },
    {
      "cell_type": "code",
      "source": [
        "num_classes = 90 + 1  # coco\n",
        "device = 'cuda'\n",
        "\n",
        "backbone = backbone  # backbone\n",
        "transformer = Transformer  # Transformer\n",
        "\n",
        "model = DETR(backbone,\n",
        "             transformer,\n",
        "             num_classes=91,\n",
        "             num_queries=100,  # # of object queries\n",
        "             aux_loss=False)\n",
        "\n",
        "matcher = HungarianMatcher"
      ],
      "metadata": {
        "id": "5CRQeYBn27hT"
      },
      "execution_count": null,
      "outputs": []
    },
    {
      "cell_type": "markdown",
      "source": [
        "### 5.2 Loss"
      ],
      "metadata": {
        "id": "6GXnnUsg3eaU"
      }
    },
    {
      "cell_type": "code",
      "source": [
        "# 개별 loss에 대한 가중치 설정\n",
        "weight_dict = {'loss_ce': 1, 'loss_bbox': 5}\n",
        "weight_dict['loss_giou'] = 2\n",
        "\n",
        "losses = ['labels', 'boxes', 'cardinality']\n",
        "\n",
        "criterion = SetCriterion(num_classes, matcher=matcher, weight_dict=weight_dict,\n",
        "                          eos_coef=0.1, losses=losses)\n",
        "criterion.to(device)\n",
        "\n",
        "postprocessors = {'bbox': PostProcess()}"
      ],
      "metadata": {
        "id": "WQv_W2o927jx"
      },
      "execution_count": null,
      "outputs": []
    },
    {
      "cell_type": "markdown",
      "source": [
        "### 5.2 Main.py"
      ],
      "metadata": {
        "id": "VvJsGTYU3oL2"
      }
    },
    {
      "cell_type": "code",
      "source": [
        "import argparse\n",
        "import datetime\n",
        "import json\n",
        "import random\n",
        "import time\n",
        "from pathlib import Path\n",
        "\n",
        "import numpy as np\n",
        "import torch\n",
        "from torch.utils.data import DataLoader, DistributedSampler\n",
        "\n",
        "import detr.datasets  # detr/datasets/coco.py에서 import detr.datasets.transforms as T로 수정\n",
        "import detr.util.misc as utils  # datasets/transforms.py에서 util 앞에 detr. 붙이기\n",
        "from detr.datasets import build_dataset, get_coco_api_from_dataset\n",
        "from detr.engine import evaluate, train_one_epoch  # util/engine.py, util/eval.py, panoptic_eval.py에서 turil, datasets앞에 detr. 붙이기\n",
        "#from detr.models import build_model"
      ],
      "metadata": {
        "id": "ZLf-snHg3nwl"
      },
      "execution_count": null,
      "outputs": []
    },
    {
      "cell_type": "code",
      "source": [
        "model.to(device)\n",
        "\n",
        "n_parameters = sum(p.numel() for p in model.parameters() if p.requires_grad)\n",
        "print('number of params:', n_parameters)"
      ],
      "metadata": {
        "id": "581Kv5_i3re9"
      },
      "execution_count": null,
      "outputs": []
    },
    {
      "cell_type": "code",
      "source": [
        "param_dicts = [\n",
        "    {\"params\": [p for n, p in model.named_parameters() if \"backbone\" not in n and p.requires_grad]},\n",
        "    {\n",
        "     \"params\": [p for n, p in model.named_parameters() if \"backbone\" in n and p.requires_grad],\n",
        "     \"lr\": 1e-5,\n",
        "    },\n",
        "]\n",
        "optimizer = torch.optim.AdamW(param_dicts, lr=1e-4,\n",
        "                              weight_decay=1e-4)\n",
        "    \n",
        "lr_scheduler = torch.optim.lr_scheduler.StepLR(optimizer, 200)"
      ],
      "metadata": {
        "id": "AUpPhTEx3rhD"
      },
      "execution_count": null,
      "outputs": []
    },
    {
      "cell_type": "code",
      "source": [
        ""
      ],
      "metadata": {
        "id": "ujGIuCwL3rnX"
      },
      "execution_count": null,
      "outputs": []
    },
    {
      "cell_type": "code",
      "source": [
        ""
      ],
      "metadata": {
        "id": "DW34DN7U27mS"
      },
      "execution_count": null,
      "outputs": []
    },
    {
      "cell_type": "markdown",
      "source": [
        "## Appendix. DETR Segmentation"
      ],
      "metadata": {
        "id": "_PztSC-q33n8"
      }
    },
    {
      "cell_type": "markdown",
      "source": [
        "## A.1 Segmentation\n",
        "\n",
        "convolutional heads used to predict masks, as well as the losses"
      ],
      "metadata": {
        "id": "5fHIwpWJP4UY"
      }
    },
    {
      "cell_type": "code",
      "source": [
        "import io\n",
        "from collections import defaultdict\n",
        "from typing import List, Optional\n",
        "\n",
        "import torch\n",
        "import torch.nn as nn\n",
        "import torch.nn.functional as F\n",
        "from torch import Tensor\n",
        "from PIL import Image\n",
        "\n",
        "import detr.util.box_ops as box_ops\n",
        "from detr.util.misc import NestedTensor, interpolate, nested_tensor_from_tensor_list\n",
        "\n",
        "try:\n",
        "    from panopticapi.utils import id2rgb, rgb2id\n",
        "except ImportError:\n",
        "    pass"
      ],
      "metadata": {
        "id": "bpXMcXGsWl-A"
      },
      "execution_count": null,
      "outputs": []
    },
    {
      "cell_type": "markdown",
      "source": [
        "### A.1.1 Multi Head Attention Map\n",
        "\n",
        "2D attention module, which only returns the attention softmax (no multiplication by value)"
      ],
      "metadata": {
        "id": "NWQn74x3XRUP"
      }
    },
    {
      "cell_type": "code",
      "source": [
        "class MHAttentionMap(nn.Module):\n",
        "    def __init__(self, query_dim, hidden_dim, num_heads, dropout=0.0, bias=True):\n",
        "        super().__init__()\n",
        "        self.num_heads = num_heads  # 8\n",
        "        self.hidden_dim = hidden_dim  # 256\n",
        "        self.dropout = nn.Dropout(dropout)\n",
        "        \n",
        "        # query, key embedding\n",
        "        self.q_linear = nn.Linear(query_dim, hidden_dim, bias=bias)\n",
        "        self.k_linear = nn.Linear(query_dim, hidden_dim, bias=bias)\n",
        "\n",
        "        nn.init.zeros_(self.k_linear.bias)\n",
        "        nn.init.zeros_(self.q_linear.bias)\n",
        "        nn.init.xavier_uniform_(self.k_linear.weight)\n",
        "        nn.init.xavier_uniform_(self.q_linear.weight)\n",
        "        self.normalize_fact = float(hidden_dim / self.num_heads) ** -0.5\n",
        "\n",
        "    def forward(self, q, k, mask: Optional[Tensor] = None):\n",
        "        q = self.q_linear(q)\n",
        "        k = F.conv2d(k, self.k_linear.weight.unsqueeze(-1).unsqueeze(-1), self.k_linear.bias)\n",
        "        \n",
        "        # scaled dot\n",
        "        qh = q.view(q.shape[0], q.shape[1], self.num_heads, self.hidden_dim // self.num_heads)\n",
        "        kh = k.view(k.shape[0], self.num_heads, self.hidden_dim // self.num_heads, k.shape[-2], k.shape[-1])\n",
        "        weights = torch.einsum(\"bqnc, bnchw -> bqnhw\", qh * self.normalize_fact, kh)\n",
        "        \n",
        "        # mask\n",
        "        if mask is not None:\n",
        "            weights.masked_fill_(mask.unsqueeze(1).unsqueeze(1), float(\"-inf\"))\n",
        "\n",
        "        weights = F.softmax(weights.flatten(2), dim=-1).view(weights.size())\n",
        "        weights = self.dropout(weights)\n",
        "\n",
        "        return weights"
      ],
      "metadata": {
        "id": "IbwKtOmcXOJw"
      },
      "execution_count": null,
      "outputs": []
    },
    {
      "cell_type": "markdown",
      "source": [
        "### A.2 Multi Head Small Conv\n",
        "\n",
        "Segmentation mask 예측\n",
        "\n",
        "Simple convolutional head, using group norm. Upsampling is done using a FPN approach"
      ],
      "metadata": {
        "id": "3r7eUjOgYK4Q"
      }
    },
    {
      "cell_type": "code",
      "source": [
        "def _expand(tensor, length: int):\n",
        "    return tensor.unsqueeze(1).repeat(1, int(length), 1, 1, 1).flatten(0, 1)\n",
        "\n",
        "\n",
        "class MaskHeadSmallConv(nn.Module):\n",
        "    def __init__(self, dim, fpn_dims, context_dim):  # 256+8, [1024, 512, 256], 256\n",
        "        super().__init__()\n",
        "\n",
        "        inter_dims = [dim, context_dim // 2, context_dim // 4, context_dim // 8, context_dim // 16, context_dim // 64]  # [264, 128, 64, 32, 16, 4]  \n",
        "\n",
        "        self.lay1 = torch.nn.Conv2d(dim, dim, 3, padding=1)  # 264 -> 264\n",
        "        self.gn1 = torch.nn.GroupNorm(8, dim)\n",
        "\n",
        "        self.lay2 = torch.nn.Conv2d(dim, inter_dims[1], 3, padding=1)  # 264 -> 128\n",
        "        self.gn2 = torch.nn.GroupNorm(8, inter_dims[1])\n",
        "\n",
        "        self.lay3 = torch.nn.Conv2d(inter_dims[1], inter_dims[2], 3, padding=1)  # 128 -> 64\n",
        "        self.gn3 = torch.nn.GroupNorm(8, inter_dims[2])\n",
        "\n",
        "        self.lay4 = torch.nn.Conv2d(inter_dims[2], inter_dims[3], 3, padding=1)  # 64 -> 32\n",
        "        self.gn4 = torch.nn.GroupNorm(8, inter_dims[3])\n",
        "\n",
        "        self.lay5 = torch.nn.Conv2d(inter_dims[3], inter_dims[4], 3, padding=1)  # 32 -> 16\n",
        "        self.gn5 = torch.nn.GroupNorm(8, inter_dims[4])\n",
        "\n",
        "        self.out_lay = torch.nn.Conv2d(inter_dims[4], 1, 3, padding=1)  # 16 -> 4 (bbox)\n",
        "\n",
        "        self.dim = dim\n",
        "        \n",
        "        # Feature Pyramid\n",
        "        self.adapter1 = torch.nn.Conv2d(fpn_dims[0], inter_dims[1], 1)  # 1024 -> 128\n",
        "        self.adapter2 = torch.nn.Conv2d(fpn_dims[1], inter_dims[2], 1)  # 512 -> 64\n",
        "        self.adapter3 = torch.nn.Conv2d(fpn_dims[2], inter_dims[3], 1)  # 256 -> 32\n",
        "\n",
        "        for m in self.modules():\n",
        "            if isinstance(m, nn.Conv2d):\n",
        "                nn.init.kaiming_uniform_(m.weight, a=1)\n",
        "                nn.init.constant_(m.bias, 0)\n",
        "\n",
        "    def forward(self, x: Tensor, bbox_mask: Tensor, fpns: List[Tensor]):\n",
        "        '''x : backbone의 image feature 출력 (high level & low resolution)\n",
        "           bbox_mask : Trnasformer의 output embedding, encoder embedding간의 attn\n",
        "           fpns : backbone에서 사용되는 conv layer들(layer2~4)의 입력 차원'''\n",
        "\n",
        "        x = torch.cat([_expand(x, bbox_mask.shape[1]), bbox_mask.flatten(0, 1)], 1)  \n",
        "\n",
        "        x = self.lay1(x)\n",
        "        x = self.gn1(x)\n",
        "        x = F.relu(x)\n",
        "\n",
        "        x = self.lay2(x)  # 128 ch\n",
        "        x = self.gn2(x)\n",
        "        x = F.relu(x)\n",
        "        \n",
        "        # 128 -> 64\n",
        "        cur_fpn = self.adapter1(fpns[0])\n",
        "        if cur_fpn.size(0) != x.size(0):\n",
        "            cur_fpn = _expand(cur_fpn, x.size(0) // cur_fpn.size(0))\n",
        "        x = cur_fpn + F.interpolate(x, size=cur_fpn.shape[-2:], mode=\"nearest\")  # up-sampling\n",
        "        x = self.lay3(x)\n",
        "        x = self.gn3(x)\n",
        "        x = F.relu(x)\n",
        "        \n",
        "        # 64 -> 32\n",
        "        cur_fpn = self.adapter2(fpns[1])\n",
        "        if cur_fpn.size(0) != x.size(0):\n",
        "            cur_fpn = _expand(cur_fpn, x.size(0) // cur_fpn.size(0))\n",
        "        x = cur_fpn + F.interpolate(x, size=cur_fpn.shape[-2:], mode=\"nearest\")\n",
        "        x = self.lay4(x)\n",
        "        x = self.gn4(x)\n",
        "        x = F.relu(x)\n",
        "        \n",
        "        # 32 -> 16\n",
        "        cur_fpn = self.adapter3(fpns[2])\n",
        "        if cur_fpn.size(0) != x.size(0):\n",
        "            cur_fpn = _expand(cur_fpn, x.size(0) // cur_fpn.size(0))\n",
        "        x = cur_fpn + F.interpolate(x, size=cur_fpn.shape[-2:], mode=\"nearest\")\n",
        "        x = self.lay5(x)\n",
        "        x = self.gn5(x)\n",
        "        x = F.relu(x)\n",
        "        \n",
        "        # 16 -> 4\n",
        "        x = self.out_lay(x)\n",
        "\n",
        "        return x"
      ],
      "metadata": {
        "id": "tfjllkfYXOMN"
      },
      "execution_count": null,
      "outputs": []
    },
    {
      "cell_type": "markdown",
      "source": [
        "### A.3 DETR Segmentation"
      ],
      "metadata": {
        "id": "SG5t8GffYyIi"
      }
    },
    {
      "cell_type": "code",
      "source": [
        "class DETRsegm(nn.Module):\n",
        "    def __init__(self, detr, freeze_detr=False):\n",
        "        super().__init__()\n",
        "        self.detr = detr\n",
        "\n",
        "        if freeze_detr:\n",
        "            for p in self.parameters():\n",
        "                p.requires_grad_(False)\n",
        "\n",
        "        hidden_dim, nheads = detr.transformer.d_model, detr.transformer.nhead  # 256, 8\n",
        "        self.bbox_attention = MHAttentionMap(hidden_dim, hidden_dim, nheads, dropout=0.0)\n",
        "        self.mask_head = MaskHeadSmallConv(hidden_dim + nheads, [1024, 512, 256], hidden_dim)  # dim, FPN_dims, context_dim\n",
        "    \n",
        "    def forward(self, samples: NestedTensor):\n",
        "        if isinstance(samples, (list, torch.Tensor)):\n",
        "            samples = nested_tensor_from_tensor_list(samples)\n",
        "\n",
        "        # 1. Backbone    \n",
        "        features, pos = self.detr.backbone(samples)\n",
        "\n",
        "        bs = features[-1].tensors.shape[0]\n",
        "        src, mask = features[-1].decompose()  # img_feature, mask\n",
        "        assert mask is not None\n",
        "\n",
        "        # 2. Trnasformer\n",
        "        src_proj = self.detr.input_proj(src)\n",
        "        hs, memory = self.detr.transformer(src_proj, mask, self.detr.query_embed.weight, pos[-1])  # output_embedding, encoder_output\n",
        "\n",
        "        # 3. Prediction with FFNs\n",
        "        outputs_class = self.detr.class_embed(hs)  # class pred\n",
        "        outputs_coord = self.detr.bbox_embed(hs).sigmoid()  # bbox pred\n",
        "        out = {\"pred_logits\": outputs_class[-1], \"pred_boxes\": outputs_coord[-1]}\n",
        "        if self.detr.aux_loss:\n",
        "            out['aux_outputs'] = self.detr._set_aux_loss(outputs_class, outputs_coord)\n",
        "        \n",
        "        # 4. Segmentation\n",
        "        # FIXME h_boxes takes the last one computed, keep this in mind\n",
        "        bbox_mask = self.bbox_attention(hs[-1], memory, mask=mask)  # MHA, (query, key, mask)\n",
        "        \n",
        "        # layer4, layer3, layer2의 feature map 입력을 FPN으로 이용\n",
        "        seg_masks = self.mask_head(src_proj, bbox_mask, [features[2].tensors, features[1].tensors, features[0].tensors])  \n",
        "        outputs_seg_masks = seg_masks.view(bs, self.detr.num_queries, seg_masks.shape[-2], seg_masks.shape[-1])\n",
        "\n",
        "        out[\"pred_masks\"] = outputs_seg_masks\n",
        "\n",
        "        return out"
      ],
      "metadata": {
        "id": "8fHkqk-JP2-Z"
      },
      "execution_count": null,
      "outputs": []
    },
    {
      "cell_type": "code",
      "source": [
        "def dice_loss(inputs, targets, num_boxes):\n",
        "    \"\"\"\n",
        "    Compute the DICE loss, similar to generalized IOU for masks\n",
        "    Args:\n",
        "        inputs: A float tensor of arbitrary shape.\n",
        "                The predictions for each example.\n",
        "        targets: A float tensor with the same shape as inputs. Stores the binary\n",
        "                 classification label for each element in inputs\n",
        "                (0 for the negative class and 1 for the positive class).\n",
        "    \"\"\"\n",
        "    inputs = inputs.sigmoid()\n",
        "    inputs = inputs.flatten(1)\n",
        "    numerator = 2 * (inputs * targets).sum(1)\n",
        "    denominator = inputs.sum(-1) + targets.sum(-1)\n",
        "    loss = 1 - (numerator + 1) / (denominator + 1)\n",
        "    return loss.sum() / num_boxes\n",
        "\n",
        "\n",
        "def sigmoid_focal_loss(inputs, targets, num_boxes, alpha: float = 0.25, gamma: float = 2):\n",
        "    \"\"\"\n",
        "    Loss used in RetinaNet for dense detection: https://arxiv.org/abs/1708.02002.\n",
        "    Args:\n",
        "        inputs: A float tensor of arbitrary shape.\n",
        "                The predictions for each example.\n",
        "        targets: A float tensor with the same shape as inputs. Stores the binary\n",
        "                 classification label for each element in inputs\n",
        "                (0 for the negative class and 1 for the positive class).\n",
        "        alpha: (optional) Weighting factor in range (0,1) to balance\n",
        "                positive vs negative examples. Default = -1 (no weighting).\n",
        "        gamma: Exponent of the modulating factor (1 - p_t) to\n",
        "               balance easy vs hard examples.\n",
        "    Returns:\n",
        "        Loss tensor\n",
        "    \"\"\"\n",
        "    prob = inputs.sigmoid()\n",
        "    ce_loss = F.binary_cross_entropy_with_logits(inputs, targets, reduction=\"none\")\n",
        "    p_t = prob * targets + (1 - prob) * (1 - targets)\n",
        "    loss = ce_loss * ((1 - p_t) ** gamma)\n",
        "\n",
        "    if alpha >= 0:\n",
        "        alpha_t = alpha * targets + (1 - alpha) * (1 - targets)\n",
        "        loss = alpha_t * loss\n",
        "\n",
        "    return loss.mean(1).sum() / num_boxes\n",
        "\n",
        "\n",
        "class PostProcessSegm(nn.Module):\n",
        "    def __init__(self, threshold=0.5):\n",
        "        super().__init__()\n",
        "        self.threshold = threshold\n",
        "\n",
        "    @torch.no_grad()\n",
        "    def forward(self, results, outputs, orig_target_sizes, max_target_sizes):\n",
        "        assert len(orig_target_sizes) == len(max_target_sizes)\n",
        "        max_h, max_w = max_target_sizes.max(0)[0].tolist()\n",
        "        outputs_masks = outputs[\"pred_masks\"].squeeze(2)\n",
        "        outputs_masks = F.interpolate(outputs_masks, size=(max_h, max_w), mode=\"bilinear\", align_corners=False)\n",
        "        outputs_masks = (outputs_masks.sigmoid() > self.threshold).cpu()\n",
        "\n",
        "        for i, (cur_mask, t, tt) in enumerate(zip(outputs_masks, max_target_sizes, orig_target_sizes)):\n",
        "            img_h, img_w = t[0], t[1]\n",
        "            results[i][\"masks\"] = cur_mask[:, :img_h, :img_w].unsqueeze(1)\n",
        "            results[i][\"masks\"] = F.interpolate(\n",
        "                results[i][\"masks\"].float(), size=tuple(tt.tolist()), mode=\"nearest\"\n",
        "            ).byte()\n",
        "\n",
        "        return results\n",
        "\n",
        "\n",
        "class PostProcessPanoptic(nn.Module):\n",
        "    \"\"\"This class converts the output of the model to the final panoptic result, in the format expected by the\n",
        "    coco panoptic API \"\"\"\n",
        "\n",
        "    def __init__(self, is_thing_map, threshold=0.85):\n",
        "        \"\"\"\n",
        "        Parameters:\n",
        "           is_thing_map: This is a whose keys are the class ids, and the values a boolean indicating whether\n",
        "                          the class is  a thing (True) or a stuff (False) class\n",
        "           threshold: confidence threshold: segments with confidence lower than this will be deleted\n",
        "        \"\"\"\n",
        "        super().__init__()\n",
        "        self.threshold = threshold\n",
        "        self.is_thing_map = is_thing_map\n",
        "\n",
        "    def forward(self, outputs, processed_sizes, target_sizes=None):\n",
        "        \"\"\" This function computes the panoptic prediction from the model's predictions.\n",
        "        Parameters:\n",
        "            outputs: This is a dict coming directly from the model. See the model doc for the content.\n",
        "            processed_sizes: This is a list of tuples (or torch tensors) of sizes of the images that were passed to the\n",
        "                             model, ie the size after data augmentation but before batching.\n",
        "            target_sizes: This is a list of tuples (or torch tensors) corresponding to the requested final size\n",
        "                          of each prediction. If left to None, it will default to the processed_sizes\n",
        "            \"\"\"\n",
        "        if target_sizes is None:\n",
        "            target_sizes = processed_sizes\n",
        "        assert len(processed_sizes) == len(target_sizes)\n",
        "        out_logits, raw_masks, raw_boxes = outputs[\"pred_logits\"], outputs[\"pred_masks\"], outputs[\"pred_boxes\"]\n",
        "        assert len(out_logits) == len(raw_masks) == len(target_sizes)\n",
        "        preds = []\n",
        "\n",
        "        def to_tuple(tup):\n",
        "            if isinstance(tup, tuple):\n",
        "                return tup\n",
        "            return tuple(tup.cpu().tolist())\n",
        "\n",
        "        for cur_logits, cur_masks, cur_boxes, size, target_size in zip(\n",
        "            out_logits, raw_masks, raw_boxes, processed_sizes, target_sizes\n",
        "        ):\n",
        "            # we filter empty queries and detection below threshold\n",
        "            scores, labels = cur_logits.softmax(-1).max(-1)\n",
        "            keep = labels.ne(outputs[\"pred_logits\"].shape[-1] - 1) & (scores > self.threshold)\n",
        "            cur_scores, cur_classes = cur_logits.softmax(-1).max(-1)\n",
        "            cur_scores = cur_scores[keep]\n",
        "            cur_classes = cur_classes[keep]\n",
        "            cur_masks = cur_masks[keep]\n",
        "            cur_masks = interpolate(cur_masks[:, None], to_tuple(size), mode=\"bilinear\").squeeze(1)\n",
        "            cur_boxes = box_ops.box_cxcywh_to_xyxy(cur_boxes[keep])\n",
        "\n",
        "            h, w = cur_masks.shape[-2:]\n",
        "            assert len(cur_boxes) == len(cur_classes)\n",
        "\n",
        "            # It may be that we have several predicted masks for the same stuff class.\n",
        "            # In the following, we track the list of masks ids for each stuff class (they are merged later on)\n",
        "            cur_masks = cur_masks.flatten(1)\n",
        "            stuff_equiv_classes = defaultdict(lambda: [])\n",
        "            for k, label in enumerate(cur_classes):\n",
        "                if not self.is_thing_map[label.item()]:\n",
        "                    stuff_equiv_classes[label.item()].append(k)\n",
        "\n",
        "            def get_ids_area(masks, scores, dedup=False):\n",
        "                # This helper function creates the final panoptic segmentation image\n",
        "                # It also returns the area of the masks that appears on the image\n",
        "\n",
        "                m_id = masks.transpose(0, 1).softmax(-1)\n",
        "\n",
        "                if m_id.shape[-1] == 0:\n",
        "                    # We didn't detect any mask :(\n",
        "                    m_id = torch.zeros((h, w), dtype=torch.long, device=m_id.device)\n",
        "                else:\n",
        "                    m_id = m_id.argmax(-1).view(h, w)\n",
        "\n",
        "                if dedup:\n",
        "                    # Merge the masks corresponding to the same stuff class\n",
        "                    for equiv in stuff_equiv_classes.values():\n",
        "                        if len(equiv) > 1:\n",
        "                            for eq_id in equiv:\n",
        "                                m_id.masked_fill_(m_id.eq(eq_id), equiv[0])\n",
        "\n",
        "                final_h, final_w = to_tuple(target_size)\n",
        "\n",
        "                seg_img = Image.fromarray(id2rgb(m_id.view(h, w).cpu().numpy()))\n",
        "                seg_img = seg_img.resize(size=(final_w, final_h), resample=Image.NEAREST)\n",
        "\n",
        "                np_seg_img = (\n",
        "                    torch.ByteTensor(torch.ByteStorage.from_buffer(seg_img.tobytes())).view(final_h, final_w, 3).numpy()\n",
        "                )\n",
        "                m_id = torch.from_numpy(rgb2id(np_seg_img))\n",
        "\n",
        "                area = []\n",
        "                for i in range(len(scores)):\n",
        "                    area.append(m_id.eq(i).sum().item())\n",
        "                return area, seg_img\n",
        "\n",
        "            area, seg_img = get_ids_area(cur_masks, cur_scores, dedup=True)\n",
        "            if cur_classes.numel() > 0:\n",
        "                # We know filter empty masks as long as we find some\n",
        "                while True:\n",
        "                    filtered_small = torch.as_tensor(\n",
        "                        [area[i] <= 4 for i, c in enumerate(cur_classes)], dtype=torch.bool, device=keep.device\n",
        "                    )\n",
        "                    if filtered_small.any().item():\n",
        "                        cur_scores = cur_scores[~filtered_small]\n",
        "                        cur_classes = cur_classes[~filtered_small]\n",
        "                        cur_masks = cur_masks[~filtered_small]\n",
        "                        area, seg_img = get_ids_area(cur_masks, cur_scores)\n",
        "                    else:\n",
        "                        break\n",
        "\n",
        "            else:\n",
        "                cur_classes = torch.ones(1, dtype=torch.long, device=cur_classes.device)\n",
        "\n",
        "            segments_info = []\n",
        "            for i, a in enumerate(area):\n",
        "                cat = cur_classes[i].item()\n",
        "                segments_info.append({\"id\": i, \"isthing\": self.is_thing_map[cat], \"category_id\": cat, \"area\": a})\n",
        "            del cur_classes\n",
        "\n",
        "            with io.BytesIO() as out:\n",
        "                seg_img.save(out, format=\"PNG\")\n",
        "                predictions = {\"png_string\": out.getvalue(), \"segments_info\": segments_info}\n",
        "            preds.append(predictions)\n",
        "        return preds"
      ],
      "metadata": {
        "id": "x2J0coJqcCgT"
      },
      "execution_count": null,
      "outputs": []
    },
    {
      "cell_type": "code",
      "source": [
        ""
      ],
      "metadata": {
        "id": "g0hb5IaXcGn7"
      },
      "execution_count": null,
      "outputs": []
    },
    {
      "cell_type": "code",
      "source": [
        ""
      ],
      "metadata": {
        "id": "0HYgSONEIzeF"
      },
      "execution_count": null,
      "outputs": []
    }
  ]
}