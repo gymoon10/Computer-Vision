{
  "nbformat": 4,
  "nbformat_minor": 0,
  "metadata": {
    "colab": {
      "name": "loss_function.ipynb",
      "provenance": []
    },
    "kernelspec": {
      "name": "python3",
      "display_name": "Python 3"
    },
    "language_info": {
      "name": "python"
    }
  },
  "cells": [
    {
      "cell_type": "code",
      "execution_count": null,
      "metadata": {
        "id": "y5bJVN9Nem_Z"
      },
      "outputs": [],
      "source": [
        "import torch\n",
        "import torch.nn as nn\n",
        "import torch.nn.functional as F\n",
        "\n",
        "# \"utils\" 폴더에 있는 match 함수를 기술한 match.py를 import\n",
        "from utils.match import match"
      ]
    },
    {
      "cell_type": "code",
      "source": [
        "class MultiBoxLoss(nn.Module):\n",
        "    def __init__(self, jaccard_thresh=0.5, neg_pos=3, device='cpu'):\n",
        "        super(MultiBoxLoss, self).__init__()\n",
        "        self.jaccard_thresh = jaccard_thresh  # jaccard ths\n",
        "        self.negpos_ratio = neg_pos  # 3:1 Hard Negative Mining (neg/pos 비율)\n",
        "        self.device = device \n",
        "\n",
        "    def forward(self, predictions, targets):\n",
        "        \"\"\"\n",
        "        손실 함수 계산\n",
        "\n",
        "        Parameters\n",
        "        ----------\n",
        "        predictions : SSD net의 훈련시의 출력(tuple)\n",
        "            (loc=torch.Size([num_batch, 8732, 4]), conf=torch.Size([num_batch, 8732, 21]), dbox_list=torch.Size [8732, 4])\n",
        "\n",
        "        targets : [num_batch, num_objs, 5]\n",
        "            5는 정답의 어노테이션 정보[xmin, ymin, xmax, ymax, label_ind]를 나타낸다\n",
        "\n",
        "        Returns\n",
        "        -------\n",
        "        loss_l : 텐서\n",
        "            loc의 손실값\n",
        "        loss_c : 텐서\n",
        "            conf의 손실값\n",
        "        \"\"\"\n",
        "        loc_data, conf_data, dbox_list = predictions\n",
        "\n",
        "        num_batch = loc_data.size(0) \n",
        "        num_dbox = loc_data.size(1)  \n",
        "        num_classes = conf_data.size(2)  \n",
        "        \n",
        "        # 손실 함수에 사용되는 변수\n",
        "        conf_t_label = torch.LongTensor(num_batch, num_dbox).to(self.device)  # 개별 DBox에 가장 가까운 정답 BBox의 클래스 저장\n",
        "        loc_t = torch.Tensor(num_batch, num_dbox, 4).to(self.device)  # 개별 DBox에 가장 가까운 정답 BBox의 좌표 저장\n",
        "\n",
        "        for idx in range(num_batch):\n",
        "            truths = targets[idx][:, :-1].to(self.device)  # 정답 BBox\n",
        "            labels = targets[idx][:, -1].to(self.device)\n",
        "\n",
        "            dbox = dbox_list.to(self.device)\n",
        "\n",
        "            ## match 실행\n",
        "            # loc_t : 개별 DBox에 가장 가까운 정답 BBox의 위치 정보 저장\n",
        "            # conf_t_label : 개별 DBox에 가장 가까운 정답 BBox의 클래스 라벨 저장 (가장 가까운 BBox와의 jaccard overlap이 ths 미만인 경우 0)\n",
        "            variance = [0.1, 0.2]\n",
        "            match(self.jaccard_thresh, truths, dbox,\n",
        "                  variance, labels, loc_t, conf_t_label, idx)\n",
        "            \n",
        "        ## loss 계산\n",
        "        # 1. loss_l : offset 정보에 대한 손실\n",
        "        pos_mask = conf_t_label > 0  # positive DBox에서만 계산함\n",
        "        pos_idx = pos_mask.unsqueeze(pos_mask.dim()).expand_as(loc_data)\n",
        "\n",
        "        loc_p = loc_data[pos_idx].view(-1, 4)  # positive DBox 위치 정보\n",
        "        loc_t = loc_t[pos_idx].view(-1, 4)  # 정답 BBox 위치 정보\n",
        "\n",
        "        loss_l = F.smooth_l1_loss(loc_p, loc_t, reduction='sum')\n",
        "\n",
        "        # 2. loss_c : 클래스 예측 손실 - cross entropy (Hard Negative Mining 적용)\n",
        "        batch_conf = conf_data.view(-1, num_classes)\n",
        "        loss_c = F.cross_entropy(batch_conf, conf_t_label.view(-1), reduction='none')\n",
        "\n",
        "        # Hard Neagative Mining\n",
        "        num_pos = pos_mask.long().sum(1, keepdim=True)  # 배치별 객체에 속하는 클래스에 대한 예측의 수\n",
        "        loss_c = loss_c.view(num_batch, -1)  # torch.Size([num_batch, 8732])\n",
        "        loss_c[pos_mask] = 0  # 객체를 탐지한 DBox의 손실은 0\n",
        "\n",
        "        _, loss_idx = loss_c.sort(1, descending=True)\n",
        "        _, idx_rank = loss_idx.sort(1)\n",
        "\n",
        "        num_neg = torch.clamp(num_pos*self.negpos_ratio, max=num_dbox)  # 배경(0)에 속하는 DBox의 수 \n",
        "        neg_mask = idx_rank < (num_neg).expand_as(idx_rank)  # torch.Size([num_batch, 8732])\n",
        "        \n",
        "        # Positive DBox의 신뢰도를 추출하는 mask / Hard Negative Mining으로 추출된 Negative DBox의 신뢰도를 추출하는 mask\n",
        "        pos_idx_mask = pos_mask.unsqueeze(2).expand_as(conf_data)  # pos_mask: torch.Size([num_batch, 8732]) -> pos_idx_mask: torch.Size([num_batch, 8732, 21])\n",
        "        neg_idx_mask = neg_mask.unsqueeze(2).expand_as(conf_data)\n",
        "        \n",
        "        conf_hnm = conf_data[(pos_idx_mask+neg_idx_mask).gt(0)].view(-1, num_classes)  # torch.Size([num_pos+num_neg, 21])\n",
        "        conf_t_label_hnm = conf_t_label[(pos_mask+neg_mask).gt(0)]\n",
        "\n",
        "        loss_c = F.cross_entropy(conf_hnm, conf_t_label_hnm, reduction='sum')\n",
        "\n",
        "        N = num_pos.sum()\n",
        "        loss_l /= N\n",
        "        loss_c /= N\n",
        "\n",
        "        return loss_l, loss_c"
      ],
      "metadata": {
        "id": "VIkenlYkgr2Q"
      },
      "execution_count": null,
      "outputs": []
    },
    {
      "cell_type": "code",
      "source": [
        ""
      ],
      "metadata": {
        "id": "dixCDiCygr5A"
      },
      "execution_count": null,
      "outputs": []
    },
    {
      "cell_type": "code",
      "source": [
        ""
      ],
      "metadata": {
        "id": "ruWBs88Lgr7c"
      },
      "execution_count": null,
      "outputs": []
    },
    {
      "cell_type": "code",
      "source": [
        ""
      ],
      "metadata": {
        "id": "0NYl614agr-A"
      },
      "execution_count": null,
      "outputs": []
    }
  ]
}